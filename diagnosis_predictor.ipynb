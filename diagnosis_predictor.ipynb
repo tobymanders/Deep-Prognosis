{
 "cells": [
  {
   "cell_type": "code",
   "execution_count": 1,
   "metadata": {},
   "outputs": [],
   "source": [
    "import numpy as np\n",
    "import pandas as pd\n",
    "from collections import Counter\n",
    "from sklearn.model_selection import train_test_split\n",
    "import tensorflow as tf\n",
    "from tensorflow.keras.callbacks import EarlyStopping\n",
    "from tensorflow.keras import regularizers\n",
    "tf.compat.v1.logging.set_verbosity(tf.compat.v1.logging.ERROR)\n",
    "tf.autograph.set_verbosity(0)\n",
    "from tqdm import tqdm\n",
    "tqdm.pandas()\n",
    "import warnings\n",
    "warnings.filterwarnings(\"ignore\", category=FutureWarning)\n",
    "import os"
   ]
  },
  {
   "cell_type": "markdown",
   "metadata": {},
   "source": [
    "# Diagnosis & Parameters"
   ]
  },
  {
   "cell_type": "code",
   "execution_count": 2,
   "metadata": {},
   "outputs": [],
   "source": [
    "diagnosis = 'death'"
   ]
  },
  {
   "cell_type": "code",
   "execution_count": 3,
   "metadata": {},
   "outputs": [
    {
     "name": "stdout",
     "output_type": "stream",
     "text": [
      "[240, 0]\n"
     ]
    }
   ],
   "source": [
    "parameters = {\n",
    "    'dx_offset' : 60,\n",
    "    'pos_examples' : 10000,\n",
    "    'neg_examples' : 10000,\n",
    "    'ratio' : .5,           #pos/all\n",
    "    'seq_length' : 100,\n",
    "    'vocab_size' : 1000,\n",
    "    'window' : [60*4, 60*0],\n",
    "    'baseline' : [0, 360],\n",
    "}\n",
    "\n",
    "print(parameters['window'])\n",
    "\n",
    "data_path = '/Users/tobymanders/Documents/insight_project/data/'\n",
    "image_path = '/Users/tobymanders/Documents/insight_project/figures/'"
   ]
  },
  {
   "cell_type": "markdown",
   "metadata": {},
   "source": [
    "# Functions"
   ]
  },
  {
   "cell_type": "code",
   "execution_count": 4,
   "metadata": {},
   "outputs": [],
   "source": [
    "def save_fig(fig_name, tight_layout=True):\n",
    "    path = os.path.join(image_path, fig_name + '.png')\n",
    "    print(\"Saving figure\", fig_name)\n",
    "    if tight_layout:\n",
    "        plt.tight_layout()\n",
    "    plt.savefig(path, format='png', dpi=300)"
   ]
  },
  {
   "cell_type": "code",
   "execution_count": 5,
   "metadata": {},
   "outputs": [],
   "source": [
    "def check_col_complete(dataframe):\n",
    "    len_ = len(dataframe)\n",
    "\n",
    "    incomplete = []\n",
    "    for col in dataframe.columns:\n",
    "        complete = dataframe[col].count() == len_\n",
    "        if complete:\n",
    "            print('{: >23}: COMPLETE'.format(col))\n",
    "        else:\n",
    "            missing = len_ - dataframe[col].count()\n",
    "            incomplete.append(col)\n",
    "            print('{: >23}: MISSING {} VALUES ({:.1f}%)'.format(col, missing, missing*100/len_))\n",
    "    \n",
    "    print('\\nTotal number of items:', len_)\n",
    "\n",
    "    return incomplete"
   ]
  },
  {
   "cell_type": "code",
   "execution_count": 6,
   "metadata": {},
   "outputs": [],
   "source": [
    "def tokenize_text(x):\n",
    "    tokenized = [word_to_ID[word] if word in word_to_ID else \n",
    "                                         word_to_ID['<unk>'] for word in x.split(';')]\n",
    "    return tokenized\n",
    "            "
   ]
  },
  {
   "cell_type": "code",
   "execution_count": 7,
   "metadata": {},
   "outputs": [],
   "source": [
    "def pad_text(x):\n",
    "    rem = parameters['seq_length'] - len(x)\n",
    "    if rem > 0:\n",
    "        pad = [word_to_ID['<unk>']]*abs(rem)\n",
    "        x.extend(pad)\n",
    "        return x\n",
    "    else:\n",
    "        return x[-parameters['seq_length']:]\n",
    "    "
   ]
  },
  {
   "cell_type": "markdown",
   "metadata": {},
   "source": [
    "# Load Corpus"
   ]
  },
  {
   "cell_type": "code",
   "execution_count": 8,
   "metadata": {
    "scrolled": true
   },
   "outputs": [
    {
     "data": {
      "text/html": [
       "<div>\n",
       "<style scoped>\n",
       "    .dataframe tbody tr th:only-of-type {\n",
       "        vertical-align: middle;\n",
       "    }\n",
       "\n",
       "    .dataframe tbody tr th {\n",
       "        vertical-align: top;\n",
       "    }\n",
       "\n",
       "    .dataframe thead th {\n",
       "        text-align: right;\n",
       "    }\n",
       "</style>\n",
       "<table border=\"1\" class=\"dataframe\">\n",
       "  <thead>\n",
       "    <tr style=\"text-align: right;\">\n",
       "      <th></th>\n",
       "      <th>diagnosisid</th>\n",
       "      <th>patientunitstayid</th>\n",
       "      <th>activeupondischarge</th>\n",
       "      <th>diagnosisoffset</th>\n",
       "      <th>diagnosisstring</th>\n",
       "      <th>icd9code</th>\n",
       "      <th>diagnosispriority</th>\n",
       "    </tr>\n",
       "  </thead>\n",
       "  <tbody>\n",
       "    <tr>\n",
       "      <th>1725766</th>\n",
       "      <td>38724593</td>\n",
       "      <td>3034620</td>\n",
       "      <td>False</td>\n",
       "      <td>54298</td>\n",
       "      <td>renal|electrolyte imbalance|hypophosphatemia</td>\n",
       "      <td>275.3, E83.30</td>\n",
       "      <td>Other</td>\n",
       "    </tr>\n",
       "    <tr>\n",
       "      <th>669810</th>\n",
       "      <td>13945610</td>\n",
       "      <td>987893</td>\n",
       "      <td>False</td>\n",
       "      <td>841</td>\n",
       "      <td>pulmonary|disorders of acid base|respiratory a...</td>\n",
       "      <td>276.2, E87.2</td>\n",
       "      <td>Other</td>\n",
       "    </tr>\n",
       "    <tr>\n",
       "      <th>2619217</th>\n",
       "      <td>45071904</td>\n",
       "      <td>3213367</td>\n",
       "      <td>False</td>\n",
       "      <td>3864</td>\n",
       "      <td>renal|disorder of kidney|acute renal failure</td>\n",
       "      <td>584.9, N17.9</td>\n",
       "      <td>Other</td>\n",
       "    </tr>\n",
       "    <tr>\n",
       "      <th>397287</th>\n",
       "      <td>9937872</td>\n",
       "      <td>496091</td>\n",
       "      <td>False</td>\n",
       "      <td>1876</td>\n",
       "      <td>renal|disorder of acid base|metabolic acidosis...</td>\n",
       "      <td>276.2, E87.2</td>\n",
       "      <td>Other</td>\n",
       "    </tr>\n",
       "    <tr>\n",
       "      <th>543547</th>\n",
       "      <td>11400434</td>\n",
       "      <td>737622</td>\n",
       "      <td>False</td>\n",
       "      <td>16053</td>\n",
       "      <td>neurologic|post-neurosurgery|post craniotomy</td>\n",
       "      <td>NaN</td>\n",
       "      <td>Primary</td>\n",
       "    </tr>\n",
       "  </tbody>\n",
       "</table>\n",
       "</div>"
      ],
      "text/plain": [
       "         diagnosisid  patientunitstayid  activeupondischarge  diagnosisoffset  \\\n",
       "1725766     38724593            3034620                False            54298   \n",
       "669810      13945610             987893                False              841   \n",
       "2619217     45071904            3213367                False             3864   \n",
       "397287       9937872             496091                False             1876   \n",
       "543547      11400434             737622                False            16053   \n",
       "\n",
       "                                           diagnosisstring       icd9code  \\\n",
       "1725766       renal|electrolyte imbalance|hypophosphatemia  275.3, E83.30   \n",
       "669810   pulmonary|disorders of acid base|respiratory a...   276.2, E87.2   \n",
       "2619217       renal|disorder of kidney|acute renal failure   584.9, N17.9   \n",
       "397287   renal|disorder of acid base|metabolic acidosis...   276.2, E87.2   \n",
       "543547        neurologic|post-neurosurgery|post craniotomy            NaN   \n",
       "\n",
       "        diagnosispriority  \n",
       "1725766             Other  \n",
       "669810              Other  \n",
       "2619217             Other  \n",
       "397287              Other  \n",
       "543547            Primary  "
      ]
     },
     "execution_count": 8,
     "metadata": {},
     "output_type": "execute_result"
    }
   ],
   "source": [
    "dx = pd.read_csv(data_path + 'diagnosis.csv')\n",
    "dx.sample(5)"
   ]
  },
  {
   "cell_type": "code",
   "execution_count": 9,
   "metadata": {
    "scrolled": true
   },
   "outputs": [
    {
     "data": {
      "text/plain": [
       "pulmonary|respiratory failure|acute respiratory failure                                                      97836\n",
       "renal|disorder of kidney|acute renal failure                                                                 65313\n",
       "pulmonary|respiratory failure|acute respiratory distress                                                     26774\n",
       "cardiovascular|chest pain / ASHD|acute coronary syndrome|acute myocardial infarction (no ST elevation)       15686\n",
       "pulmonary|disorders of the airways|acute COPD exacerbation                                                   13088\n",
       "hematology|bleeding and red blood cell disorders|anemia|acute blood loss anemia                              10727\n",
       "cardiovascular|chest pain / ASHD|acute coronary syndrome                                                      9808\n",
       "cardiovascular|ventricular disorders|acute pulmonary edema                                                    8177\n",
       "cardiovascular|chest pain / ASHD|acute coronary syndrome|acute myocardial infarction (with ST elevation)      7574\n",
       "pulmonary|respiratory failure|acute respiratory failure|due to neurological process                           7252\n",
       "pulmonary|respiratory failure|acute respiratory failure|due to pulmonary infiltrates                          7248\n",
       "renal|disorder of kidney|acute renal failure|due to sepsis                                                    5236\n",
       "renal|disorder of kidney|acute renal failure|due to hypovolemia/decreased circulating volume                  5118\n",
       "cardiovascular|shock / hypotension|sepsis|sepsis with single organ dysfunction- acute respiratory failure     4025\n",
       "gastrointestinal|hepatic disease|hepatic dysfunction|acute                                                    3118\n",
       "Name: diagnosisstring, dtype: int64"
      ]
     },
     "execution_count": 9,
     "metadata": {},
     "output_type": "execute_result"
    }
   ],
   "source": [
    "dx[dx.diagnosisstring.str.contains('acute')].diagnosisstring.value_counts().nlargest(15)"
   ]
  },
  {
   "cell_type": "code",
   "execution_count": 10,
   "metadata": {},
   "outputs": [
    {
     "data": {
      "text/plain": [
       "pulmonary|respiratory failure|acute respiratory failure            97836\n",
       "renal|disorder of kidney|acute renal failure                       65313\n",
       "endocrine|glucose metabolism|diabetes mellitus                     44491\n",
       "neurologic|altered mental status / pain|change in mental status    41034\n",
       "pulmonary|pulmonary infections|pneumonia                           39729\n",
       "cardiovascular|ventricular disorders|congestive heart failure      37467\n",
       "cardiovascular|vascular disorders|hypertension                     37328\n",
       "cardiovascular|shock / hypotension|hypotension                     33766\n",
       "pulmonary|respiratory failure|hypoxemia                            33515\n",
       "cardiovascular|shock / hypotension|sepsis                          32509\n",
       "hematology|bleeding and red blood cell disorders|anemia            31667\n",
       "cardiovascular|arrhythmias|atrial fibrillation                     29475\n",
       "pulmonary|respiratory failure|acute respiratory distress           26774\n",
       "neurologic|altered mental status / pain|pain                       26689\n",
       "endocrine|glucose metabolism|hyperglycemia                         25962\n",
       "Name: diagnosisstring, dtype: int64"
      ]
     },
     "execution_count": 10,
     "metadata": {},
     "output_type": "execute_result"
    }
   ],
   "source": [
    "dx.diagnosisstring.value_counts().nlargest(15)"
   ]
  },
  {
   "cell_type": "code",
   "execution_count": 11,
   "metadata": {},
   "outputs": [
    {
     "data": {
      "text/html": [
       "<div>\n",
       "<style scoped>\n",
       "    .dataframe tbody tr th:only-of-type {\n",
       "        vertical-align: middle;\n",
       "    }\n",
       "\n",
       "    .dataframe tbody tr th {\n",
       "        vertical-align: top;\n",
       "    }\n",
       "\n",
       "    .dataframe thead th {\n",
       "        text-align: right;\n",
       "    }\n",
       "</style>\n",
       "<table border=\"1\" class=\"dataframe\">\n",
       "  <thead>\n",
       "    <tr style=\"text-align: right;\">\n",
       "      <th></th>\n",
       "      <th>patientunitstayid</th>\n",
       "      <th>unitdischargestatus</th>\n",
       "      <th>unitdischargeoffset</th>\n",
       "      <th>age</th>\n",
       "      <th>diagnosisid</th>\n",
       "      <th>activeupondischarge</th>\n",
       "      <th>diagnosisoffset</th>\n",
       "      <th>diagnosisstring</th>\n",
       "      <th>icd9code</th>\n",
       "      <th>diagnosispriority</th>\n",
       "    </tr>\n",
       "  </thead>\n",
       "  <tbody>\n",
       "    <tr>\n",
       "      <th>0</th>\n",
       "      <td>141168</td>\n",
       "      <td>Expired</td>\n",
       "      <td>3596</td>\n",
       "      <td>70</td>\n",
       "      <td>4222318</td>\n",
       "      <td>False</td>\n",
       "      <td>72</td>\n",
       "      <td>cardiovascular|chest pain / ASHD|coronary arte...</td>\n",
       "      <td>414.00, I25.10</td>\n",
       "      <td>Other</td>\n",
       "    </tr>\n",
       "    <tr>\n",
       "      <th>1</th>\n",
       "      <td>141168</td>\n",
       "      <td>Expired</td>\n",
       "      <td>3596</td>\n",
       "      <td>70</td>\n",
       "      <td>3370568</td>\n",
       "      <td>True</td>\n",
       "      <td>118</td>\n",
       "      <td>cardiovascular|ventricular disorders|cardiomyo...</td>\n",
       "      <td>NaN</td>\n",
       "      <td>Other</td>\n",
       "    </tr>\n",
       "    <tr>\n",
       "      <th>2</th>\n",
       "      <td>141168</td>\n",
       "      <td>Expired</td>\n",
       "      <td>3596</td>\n",
       "      <td>70</td>\n",
       "      <td>4160941</td>\n",
       "      <td>False</td>\n",
       "      <td>72</td>\n",
       "      <td>pulmonary|disorders of the airways|COPD</td>\n",
       "      <td>491.20, J44.9</td>\n",
       "      <td>Other</td>\n",
       "    </tr>\n",
       "    <tr>\n",
       "      <th>3</th>\n",
       "      <td>141168</td>\n",
       "      <td>Expired</td>\n",
       "      <td>3596</td>\n",
       "      <td>70</td>\n",
       "      <td>4103261</td>\n",
       "      <td>True</td>\n",
       "      <td>118</td>\n",
       "      <td>pulmonary|disorders of the airways|COPD</td>\n",
       "      <td>491.20, J44.9</td>\n",
       "      <td>Other</td>\n",
       "    </tr>\n",
       "    <tr>\n",
       "      <th>4</th>\n",
       "      <td>141168</td>\n",
       "      <td>Expired</td>\n",
       "      <td>3596</td>\n",
       "      <td>70</td>\n",
       "      <td>3545241</td>\n",
       "      <td>True</td>\n",
       "      <td>118</td>\n",
       "      <td>cardiovascular|ventricular disorders|congestiv...</td>\n",
       "      <td>428.0, I50.9</td>\n",
       "      <td>Other</td>\n",
       "    </tr>\n",
       "  </tbody>\n",
       "</table>\n",
       "</div>"
      ],
      "text/plain": [
       "   patientunitstayid unitdischargestatus  unitdischargeoffset age  \\\n",
       "0             141168             Expired                 3596  70   \n",
       "1             141168             Expired                 3596  70   \n",
       "2             141168             Expired                 3596  70   \n",
       "3             141168             Expired                 3596  70   \n",
       "4             141168             Expired                 3596  70   \n",
       "\n",
       "   diagnosisid  activeupondischarge  diagnosisoffset  \\\n",
       "0      4222318                False               72   \n",
       "1      3370568                 True              118   \n",
       "2      4160941                False               72   \n",
       "3      4103261                 True              118   \n",
       "4      3545241                 True              118   \n",
       "\n",
       "                                     diagnosisstring        icd9code  \\\n",
       "0  cardiovascular|chest pain / ASHD|coronary arte...  414.00, I25.10   \n",
       "1  cardiovascular|ventricular disorders|cardiomyo...             NaN   \n",
       "2            pulmonary|disorders of the airways|COPD   491.20, J44.9   \n",
       "3            pulmonary|disorders of the airways|COPD   491.20, J44.9   \n",
       "4  cardiovascular|ventricular disorders|congestiv...    428.0, I50.9   \n",
       "\n",
       "  diagnosispriority  \n",
       "0             Other  \n",
       "1             Other  \n",
       "2             Other  \n",
       "3             Other  \n",
       "4             Other  "
      ]
     },
     "execution_count": 11,
     "metadata": {},
     "output_type": "execute_result"
    }
   ],
   "source": [
    "d = pd.read_csv(data_path + 'patient.csv')    \n",
    "d = d[['patientunitstayid', 'unitdischargestatus', 'unitdischargeoffset', 'age']]\n",
    "dx = d.merge(dx, on='patientunitstayid')\n",
    "dx.head()"
   ]
  },
  {
   "cell_type": "code",
   "execution_count": 12,
   "metadata": {},
   "outputs": [],
   "source": [
    "# Remove patients with short stays and pts < 16 y/o\n",
    "stay_min = parameters['window'][0] + parameters['baseline'][1]\n",
    "dx = dx[dx.unitdischargeoffset>stay_min]\n",
    "dx['age'] = dx.age.apply(lambda x: np.float(89) if x=='> 89' else np.float(x));\n",
    "dx = dx[dx.age>15]"
   ]
  },
  {
   "cell_type": "code",
   "execution_count": 13,
   "metadata": {},
   "outputs": [
    {
     "data": {
      "text/html": [
       "<div>\n",
       "<style scoped>\n",
       "    .dataframe tbody tr th:only-of-type {\n",
       "        vertical-align: middle;\n",
       "    }\n",
       "\n",
       "    .dataframe tbody tr th {\n",
       "        vertical-align: top;\n",
       "    }\n",
       "\n",
       "    .dataframe thead th {\n",
       "        text-align: right;\n",
       "    }\n",
       "</style>\n",
       "<table border=\"1\" class=\"dataframe\">\n",
       "  <thead>\n",
       "    <tr style=\"text-align: right;\">\n",
       "      <th></th>\n",
       "      <th>patientunitstayid</th>\n",
       "      <th>unitdischargestatus</th>\n",
       "      <th>unitdischargeoffset</th>\n",
       "      <th>age</th>\n",
       "      <th>diagnosisid</th>\n",
       "      <th>activeupondischarge</th>\n",
       "      <th>diagnosisoffset</th>\n",
       "      <th>diagnosisstring</th>\n",
       "      <th>icd9code</th>\n",
       "      <th>diagnosispriority</th>\n",
       "    </tr>\n",
       "  </thead>\n",
       "  <tbody>\n",
       "    <tr>\n",
       "      <th>1607373</th>\n",
       "      <td>2873139</td>\n",
       "      <td>Alive</td>\n",
       "      <td>38955</td>\n",
       "      <td>42.0</td>\n",
       "      <td>30944381</td>\n",
       "      <td>False</td>\n",
       "      <td>28333</td>\n",
       "      <td>cardiovascular|ventricular disorders|congestiv...</td>\n",
       "      <td>428.0, I50.9</td>\n",
       "      <td>Primary</td>\n",
       "    </tr>\n",
       "    <tr>\n",
       "      <th>2197306</th>\n",
       "      <td>3094887</td>\n",
       "      <td>Alive</td>\n",
       "      <td>12950</td>\n",
       "      <td>51.0</td>\n",
       "      <td>42885979</td>\n",
       "      <td>False</td>\n",
       "      <td>9636</td>\n",
       "      <td>neurologic|altered mental status / pain|pain</td>\n",
       "      <td>NaN</td>\n",
       "      <td>Other</td>\n",
       "    </tr>\n",
       "    <tr>\n",
       "      <th>823082</th>\n",
       "      <td>1103855</td>\n",
       "      <td>Alive</td>\n",
       "      <td>13432</td>\n",
       "      <td>42.0</td>\n",
       "      <td>15314792</td>\n",
       "      <td>False</td>\n",
       "      <td>2340</td>\n",
       "      <td>pulmonary|pulmonary infections|pneumonia|commu...</td>\n",
       "      <td>486, J18.9</td>\n",
       "      <td>Primary</td>\n",
       "    </tr>\n",
       "    <tr>\n",
       "      <th>1633545</th>\n",
       "      <td>2898361</td>\n",
       "      <td>Alive</td>\n",
       "      <td>3691</td>\n",
       "      <td>44.0</td>\n",
       "      <td>31190701</td>\n",
       "      <td>True</td>\n",
       "      <td>17</td>\n",
       "      <td>burns/trauma|trauma - CNS|spinal cord injury|c...</td>\n",
       "      <td>952.00, S14.1</td>\n",
       "      <td>Primary</td>\n",
       "    </tr>\n",
       "    <tr>\n",
       "      <th>1795711</th>\n",
       "      <td>3043496</td>\n",
       "      <td>Alive</td>\n",
       "      <td>4410</td>\n",
       "      <td>58.0</td>\n",
       "      <td>37212486</td>\n",
       "      <td>False</td>\n",
       "      <td>1533</td>\n",
       "      <td>infectious diseases|chest/pulmonary infections...</td>\n",
       "      <td>486, J18.9</td>\n",
       "      <td>Other</td>\n",
       "    </tr>\n",
       "  </tbody>\n",
       "</table>\n",
       "</div>"
      ],
      "text/plain": [
       "         patientunitstayid unitdischargestatus  unitdischargeoffset   age  \\\n",
       "1607373            2873139               Alive                38955  42.0   \n",
       "2197306            3094887               Alive                12950  51.0   \n",
       "823082             1103855               Alive                13432  42.0   \n",
       "1633545            2898361               Alive                 3691  44.0   \n",
       "1795711            3043496               Alive                 4410  58.0   \n",
       "\n",
       "         diagnosisid  activeupondischarge  diagnosisoffset  \\\n",
       "1607373     30944381                False            28333   \n",
       "2197306     42885979                False             9636   \n",
       "823082      15314792                False             2340   \n",
       "1633545     31190701                 True               17   \n",
       "1795711     37212486                False             1533   \n",
       "\n",
       "                                           diagnosisstring       icd9code  \\\n",
       "1607373  cardiovascular|ventricular disorders|congestiv...   428.0, I50.9   \n",
       "2197306       neurologic|altered mental status / pain|pain            NaN   \n",
       "823082   pulmonary|pulmonary infections|pneumonia|commu...     486, J18.9   \n",
       "1633545  burns/trauma|trauma - CNS|spinal cord injury|c...  952.00, S14.1   \n",
       "1795711  infectious diseases|chest/pulmonary infections...     486, J18.9   \n",
       "\n",
       "        diagnosispriority  \n",
       "1607373           Primary  \n",
       "2197306             Other  \n",
       "823082            Primary  \n",
       "1633545           Primary  \n",
       "1795711             Other  "
      ]
     },
     "execution_count": 13,
     "metadata": {},
     "output_type": "execute_result"
    }
   ],
   "source": [
    "dx.sample(5)"
   ]
  },
  {
   "cell_type": "code",
   "execution_count": 14,
   "metadata": {},
   "outputs": [],
   "source": [
    "cols = ['patientunitstayid', 'diagnosisoffset']\n",
    "\n",
    "if diagnosis=='death':\n",
    "    dx_nonevents = dx[dx.unitdischargestatus=='Alive'].copy()[cols].sample(frac=1)\n",
    "    dx_events = dx[dx.unitdischargestatus=='Expired'].copy()[cols]\n",
    "    dx_events.sort_values(by='diagnosisoffset', inplace=True)\n",
    "    dx_events.drop_duplicates('patientunitstayid', keep='last', inplace=True)\n",
    "    dx_nonevents.drop_duplicates('patientunitstayid', keep='last', inplace=True)\n",
    "else:\n",
    "    dx_nonevents = dx[~dx.diagnosisstring.str.contains(diagnosis)].copy()[cols]\n",
    "    dx_events = dx[dx.diagnosisstring.str.contains(diagnosis)].copy()[cols]\n",
    "    dx_events.sort_values(by='diagnosisoffset', inplace=True)\n",
    "    dx_events = dx_events[dx_events.diagnosisoffset>parameters['dx_offset']]\n",
    "    dx_events.drop_duplicates('patientunitstayid', keep='first', inplace=True)\n",
    "    dx_nonevents.drop_duplicates('patientunitstayid', keep='first', inplace=True)\n"
   ]
  },
  {
   "cell_type": "code",
   "execution_count": 15,
   "metadata": {},
   "outputs": [
    {
     "name": "stdout",
     "output_type": "stream",
     "text": [
      "Positive patients: 8392\n",
      "Negative patients: 154570\n"
     ]
    }
   ],
   "source": [
    "print(f'Positive patients: {len(dx_events)}\\nNegative patients: {len(dx_nonevents)}')"
   ]
  },
  {
   "cell_type": "code",
   "execution_count": 16,
   "metadata": {},
   "outputs": [
    {
     "name": "stdout",
     "output_type": "stream",
     "text": [
      "Positive examples: 8392\n",
      "Negative examples: 154570\n"
     ]
    }
   ],
   "source": [
    "pos_samples = len(dx_events)\n",
    "neg_samples = len(dx_nonevents)\n",
    "print(f\"Positive examples: {len(dx_events)}\")\n",
    "print(f\"Negative examples: {len(dx_nonevents)}\")"
   ]
  },
  {
   "cell_type": "code",
   "execution_count": 17,
   "metadata": {},
   "outputs": [],
   "source": [
    "if pos_samples < parameters['pos_examples']:\n",
    "    parameters['pos_examples'] = pos_samples\n",
    "    \n",
    "parameters['neg_examples'] = int((parameters['pos_examples'] - parameters['ratio'] * \n",
    "                                 parameters['pos_examples']) / parameters['ratio'])\n",
    "if neg_samples < parameters['neg_examples']:\n",
    "    parameters['neg_examples'] = neg_samples"
   ]
  },
  {
   "cell_type": "code",
   "execution_count": 18,
   "metadata": {},
   "outputs": [],
   "source": [
    "# Sample patient events\n",
    "# import pickle as pkl\n",
    "\n",
    "# special_neg_list = pkl.load(open(data_path + 'saved_data/' + 'special_pts.pkl', 'rb'))"
   ]
  },
  {
   "cell_type": "code",
   "execution_count": 19,
   "metadata": {},
   "outputs": [
    {
     "name": "stdout",
     "output_type": "stream",
     "text": [
      "Events: 8392\n",
      "Nonevents: 8392\n"
     ]
    }
   ],
   "source": [
    "dx_events = dx_events.sample(parameters['pos_examples'])\n",
    "\n",
    "# dx_nonevents_special = dx_nonevents[dx_nonevents.patientunitstayid.isin(special_neg_list)]\n",
    "\n",
    "# dx_nonevents = pd.concat([dx_nonevents_special, dx_nonevents.sample(parameters['neg_examples'])])\n",
    "\n",
    "dx_nonevents = dx_nonevents.sample(parameters['neg_examples'])\n",
    "\n",
    "\n",
    "print(f'Events: {len(dx_events)}\\nNonevents: {len(dx_nonevents)}')"
   ]
  },
  {
   "cell_type": "code",
   "execution_count": 20,
   "metadata": {},
   "outputs": [],
   "source": [
    "dx_nonevents.drop_duplicates(inplace=True)"
   ]
  },
  {
   "cell_type": "code",
   "execution_count": 21,
   "metadata": {},
   "outputs": [],
   "source": [
    "# Create a dictionary of all events and timestamps\n",
    "all_events = pd.concat([dx_events, dx_nonevents])"
   ]
  },
  {
   "cell_type": "markdown",
   "metadata": {},
   "source": [
    "# Load Data and Extract Features"
   ]
  },
  {
   "cell_type": "markdown",
   "metadata": {},
   "source": [
    "## PMH Diagnoses"
   ]
  },
  {
   "cell_type": "code",
   "execution_count": 22,
   "metadata": {},
   "outputs": [],
   "source": [
    "pmh = pd.read_csv(data_path + 'pastHistory.csv')"
   ]
  },
  {
   "cell_type": "code",
   "execution_count": 23,
   "metadata": {},
   "outputs": [],
   "source": [
    "pmh = pmh[['patientunitstayid', 'pasthistoryoffset', 'pasthistorypath', 'pasthistoryvalue', 'pasthistoryvaluetext']]\n",
    "pmh = pmh[~(pmh['pasthistoryvalue'].isin(['Performed', 'No Health Problems', 'clinical diagnosis', '']))]\n",
    "pmh['dx'] = pmh['pasthistoryvalue'].apply(lambda x: x.split('  -')[0].split(' -')[0]\n",
    "                                          .split('-')[0].split(' requiring')[0])"
   ]
  },
  {
   "cell_type": "code",
   "execution_count": 24,
   "metadata": {},
   "outputs": [
    {
     "name": "stdout",
     "output_type": "stream",
     "text": [
      "Past medical diagnoses: 846771\n",
      "Unique diagnoses: 166\n"
     ]
    }
   ],
   "source": [
    "print(f'Past medical diagnoses: {len(pmh)}\\nUnique diagnoses: {len(pmh.dx.unique())}')"
   ]
  },
  {
   "cell_type": "code",
   "execution_count": 25,
   "metadata": {},
   "outputs": [
    {
     "data": {
      "text/plain": [
       "hypertension                  156386\n",
       "COPD                           47591\n",
       "CHF                            47534\n",
       "insulin dependent diabetes     42150\n",
       "atrial fibrillation            37422\n",
       "Name: dx, dtype: int64"
      ]
     },
     "execution_count": 25,
     "metadata": {},
     "output_type": "execute_result"
    }
   ],
   "source": [
    "# TODO: Replace PMH diagnoses with ICD-9 Codes\n",
    "pmh.dx.value_counts().nlargest(5)"
   ]
  },
  {
   "cell_type": "markdown",
   "metadata": {},
   "source": [
    "## Treatments"
   ]
  },
  {
   "cell_type": "code",
   "execution_count": 26,
   "metadata": {},
   "outputs": [],
   "source": [
    "treatment = pd.read_csv(data_path + 'treatment.csv')"
   ]
  },
  {
   "cell_type": "code",
   "execution_count": 27,
   "metadata": {},
   "outputs": [],
   "source": [
    "treatment.drop(['treatmentid', 'activeupondischarge'], axis=1, inplace=True)"
   ]
  },
  {
   "cell_type": "code",
   "execution_count": 28,
   "metadata": {},
   "outputs": [],
   "source": [
    "treatment['treatment'] = treatment['treatmentstring'].apply(lambda x: x.split('|')[-1])"
   ]
  },
  {
   "cell_type": "code",
   "execution_count": 29,
   "metadata": {},
   "outputs": [],
   "source": [
    "most_common_tx = list(treatment.treatment.value_counts().nlargest(500).index)"
   ]
  },
  {
   "cell_type": "code",
   "execution_count": 30,
   "metadata": {},
   "outputs": [],
   "source": [
    "treatment = treatment[treatment.treatment.isin(most_common_tx)]"
   ]
  },
  {
   "cell_type": "code",
   "execution_count": 31,
   "metadata": {},
   "outputs": [],
   "source": [
    "treatment = treatment[treatment.patientunitstayid.isin(all_events.patientunitstayid)]"
   ]
  },
  {
   "cell_type": "code",
   "execution_count": 32,
   "metadata": {},
   "outputs": [],
   "source": [
    "treatment.drop('treatmentstring', axis=1, inplace=True)"
   ]
  },
  {
   "cell_type": "code",
   "execution_count": 33,
   "metadata": {},
   "outputs": [
    {
     "data": {
      "text/plain": [
       "500"
      ]
     },
     "execution_count": 33,
     "metadata": {},
     "output_type": "execute_result"
    }
   ],
   "source": [
    "len(treatment.treatment.unique())"
   ]
  },
  {
   "cell_type": "code",
   "execution_count": 34,
   "metadata": {},
   "outputs": [
    {
     "data": {
      "text/html": [
       "<div>\n",
       "<style scoped>\n",
       "    .dataframe tbody tr th:only-of-type {\n",
       "        vertical-align: middle;\n",
       "    }\n",
       "\n",
       "    .dataframe tbody tr th {\n",
       "        vertical-align: top;\n",
       "    }\n",
       "\n",
       "    .dataframe thead th {\n",
       "        text-align: right;\n",
       "    }\n",
       "</style>\n",
       "<table border=\"1\" class=\"dataframe\">\n",
       "  <thead>\n",
       "    <tr style=\"text-align: right;\">\n",
       "      <th></th>\n",
       "      <th>patientunitstayid</th>\n",
       "      <th>treatmentoffset</th>\n",
       "      <th>treatment</th>\n",
       "    </tr>\n",
       "  </thead>\n",
       "  <tbody>\n",
       "    <tr>\n",
       "      <th>552</th>\n",
       "      <td>242544</td>\n",
       "      <td>12433</td>\n",
       "      <td>non-invasive ventilation</td>\n",
       "    </tr>\n",
       "    <tr>\n",
       "      <th>553</th>\n",
       "      <td>242544</td>\n",
       "      <td>5736</td>\n",
       "      <td>stress ulcer prophylaxis</td>\n",
       "    </tr>\n",
       "    <tr>\n",
       "      <th>554</th>\n",
       "      <td>242544</td>\n",
       "      <td>12433</td>\n",
       "      <td>compression stockings</td>\n",
       "    </tr>\n",
       "    <tr>\n",
       "      <th>555</th>\n",
       "      <td>242544</td>\n",
       "      <td>31</td>\n",
       "      <td>oxygen therapy (&gt; 60%)</td>\n",
       "    </tr>\n",
       "    <tr>\n",
       "      <th>556</th>\n",
       "      <td>242544</td>\n",
       "      <td>31</td>\n",
       "      <td>vasodilator</td>\n",
       "    </tr>\n",
       "  </tbody>\n",
       "</table>\n",
       "</div>"
      ],
      "text/plain": [
       "     patientunitstayid  treatmentoffset                 treatment\n",
       "552             242544            12433  non-invasive ventilation\n",
       "553             242544             5736  stress ulcer prophylaxis\n",
       "554             242544            12433     compression stockings\n",
       "555             242544               31    oxygen therapy (> 60%)\n",
       "556             242544               31               vasodilator"
      ]
     },
     "execution_count": 34,
     "metadata": {},
     "output_type": "execute_result"
    }
   ],
   "source": [
    "treatment.head()"
   ]
  },
  {
   "cell_type": "markdown",
   "metadata": {},
   "source": [
    "## ICU Diagnoses"
   ]
  },
  {
   "cell_type": "code",
   "execution_count": 35,
   "metadata": {},
   "outputs": [
    {
     "name": "stdout",
     "output_type": "stream",
     "text": [
      "Total diagnoses: 2217731\n",
      "Unique diagnoses: 398\n"
     ]
    }
   ],
   "source": [
    "# TODO: REPLACE NANS WITH ACTUAL VALUES\n",
    "dx.drop(['diagnosisid', 'activeupondischarge', 'diagnosispriority'], axis=1, inplace=True)\n",
    "dx.drop_duplicates(inplace=True)\n",
    "\n",
    "dx['icd9'] = dx['icd9code'].apply(lambda x: str(x).split(',')[0].split('.')[0])\n",
    "\n",
    "dx.dropna(subset=['icd9code'], axis=0, inplace=True)\n",
    "\n",
    "print(f'Total diagnoses: {len(dx)}')\n",
    "print(f'Unique diagnoses: {len(dx.icd9.unique())}')"
   ]
  },
  {
   "cell_type": "code",
   "execution_count": 36,
   "metadata": {},
   "outputs": [],
   "source": [
    "# TODO: check medication dependent, procedural coronary i... category\n",
    "\n",
    "dx_to_icd = {\n",
    "    'hypertension' : '401',\n",
    "    'CHF' : '428', \n",
    "    'COPD' : '496',\n",
    "    'insulin dependent diabetes' : '250',\n",
    "    'renal insufficiency' : '585',\n",
    "    'atrial fibrillation' : '427',\n",
    "    'MI' : '410',\n",
    "    'medication dependent' : '304', #questionable\n",
    "    'renal failure' :'586',\n",
    "    'hypothyroidism' : '244',\n",
    "    'asthma' : '493', \n",
    "    'peripheral vascular disease' : '443',\n",
    "    'stroke' : '434',\n",
    "    'procedural coronary intervention' : '036', #questionable\n",
    "    'home oxygen' : '093', #questionable\n",
    "    'CABG' : '414',\n",
    "    'peptic ulcer disease' : '533',\n",
    "    'dementia' : '294',\n",
    "    'DVT' : '453',\n",
    "    'respiratory failure' : '518',\n",
    "    'mechanical ventilation' : '096',\n",
    "    'pneumonia' : '486',\n",
    "    'pneumonitis' : '507',\n",
    "    'hypotension' : '458',\n",
    "    'cardiovascular symptoms' : '785',\n",
    "    'unknown cause' : '799',\n",
    "    'sepsis' : '038',\n",
    "    'adverse effects' : '995',\n",
    "    'pleurisy' : '511',\n",
    "    'gi hemorrhage' : '578',\n",
    "    'chronic bronchitis' : '491', \n",
    "    'malnutrition' : '263'\n",
    "}"
   ]
  },
  {
   "cell_type": "code",
   "execution_count": 37,
   "metadata": {},
   "outputs": [
    {
     "data": {
      "text/plain": [
       "Index(['patientunitstayid', 'treatmentoffset', 'treatment'], dtype='object')"
      ]
     },
     "execution_count": 37,
     "metadata": {},
     "output_type": "execute_result"
    }
   ],
   "source": [
    "treatment.columns"
   ]
  },
  {
   "cell_type": "code",
   "execution_count": 38,
   "metadata": {},
   "outputs": [
    {
     "data": {
      "text/plain": [
       "Index(['patientunitstayid', 'unitdischargestatus', 'unitdischargeoffset',\n",
       "       'age', 'diagnosisoffset', 'diagnosisstring', 'icd9code', 'icd9'],\n",
       "      dtype='object')"
      ]
     },
     "execution_count": 38,
     "metadata": {},
     "output_type": "execute_result"
    }
   ],
   "source": [
    "dx.columns"
   ]
  },
  {
   "cell_type": "code",
   "execution_count": 39,
   "metadata": {},
   "outputs": [],
   "source": [
    "# Merge treatments with diagnoses\n",
    "tx_merge = treatment.copy()\n",
    "tx_merge['id'] = tx_merge.pop('patientunitstayid')\n",
    "tx_merge['offset'] = tx_merge.pop('treatmentoffset')\n",
    "tx_merge['string'] = tx_merge.pop('treatment')\n",
    "\n",
    "dx_merge = dx.copy()[['patientunitstayid', 'diagnosisoffset', 'icd9']]\n",
    "dx_merge['id'] = dx_merge.pop('patientunitstayid')\n",
    "dx_merge['offset'] = dx_merge.pop('diagnosisoffset')\n",
    "dx_merge['string'] = dx_merge.pop('icd9')\n",
    "\n",
    "merge = pd.concat([tx_merge, dx_merge])\n",
    "merge = merge[merge.id.isin(all_events.patientunitstayid)]"
   ]
  },
  {
   "cell_type": "code",
   "execution_count": 40,
   "metadata": {},
   "outputs": [
    {
     "data": {
      "text/plain": [
       "959889"
      ]
     },
     "execution_count": 40,
     "metadata": {},
     "output_type": "execute_result"
    }
   ],
   "source": [
    "len(merge)"
   ]
  },
  {
   "cell_type": "code",
   "execution_count": 41,
   "metadata": {},
   "outputs": [
    {
     "name": "stdout",
     "output_type": "stream",
     "text": [
      "offsets updated.\n"
     ]
    }
   ],
   "source": [
    "if diagnosis=='death':\n",
    "    last_offset = merge.sort_values(by='offset')\n",
    "    last_offset.drop_duplicates(subset=['id'], keep='last', inplace=True)\n",
    "    last_offset.set_index('id', inplace=True)\n",
    "    all_events_offset = pd.concat([dx_events, dx_nonevents])[['diagnosisoffset', 'patientunitstayid']]\n",
    "    last_offset2 = pd.concat([all_events_offset.set_index('patientunitstayid'), last_offset], axis=1)\n",
    "    last_offset2['last'] = last_offset2[['diagnosisoffset', 'offset']].max(axis=1)\n",
    "    dx_offset_dict = pd.Series(last_offset2['last'].values,index=last_offset2.index).to_dict()\n",
    "\n",
    "    dx_events['diagnosisoffset'] = dx_events.patientunitstayid.apply(lambda x: dx_offset_dict[x])\n",
    "    dx_nonevents['diagnosisoffset'] = dx_nonevents.patientunitstayid.apply(lambda x: dx_offset_dict[x])\n",
    "    \n",
    "    print('offsets updated.')"
   ]
  },
  {
   "cell_type": "code",
   "execution_count": 42,
   "metadata": {},
   "outputs": [],
   "source": [
    "# dx_offset_dict = pd.Series(all_events.diagnosisoffset.values,index=all_events.patientunitstayid).to_dict()"
   ]
  },
  {
   "cell_type": "code",
   "execution_count": 43,
   "metadata": {},
   "outputs": [],
   "source": [
    "df = pd.DataFrame(columns=['patientunitstayid', 'dx_seq'])\n",
    "\n",
    "\n",
    "for event_df in [dx_events, dx_nonevents]:\n",
    "    for patientunitstayid in event_df.patientunitstayid:\n",
    "            \n",
    "        dx_offset = int(event_df[event_df['patientunitstayid']==patientunitstayid].diagnosisoffset - parameters['window'][1])\n",
    "        \n",
    "        pmh_seq = list(pmh[pmh['patientunitstayid'] == patientunitstayid].sort_values(by='pasthistoryoffset').dx)\n",
    "        \n",
    "        seq = list(merge[(merge['id'] == patientunitstayid) & (merge['offset'] <= dx_offset)]\n",
    "                   .sort_values(by='offset').string)\n",
    "                \n",
    "        for i, d in enumerate(pmh_seq):\n",
    "            try:\n",
    "                pmh_seq[i] = dx_to_icd[d]\n",
    "            except:\n",
    "                continue\n",
    "            \n",
    "        df = df.append({'patientunitstayid' : patientunitstayid,\n",
    "                        'dx_seq' : ';'.join(pmh_seq + seq)}, ignore_index=True)"
   ]
  },
  {
   "cell_type": "code",
   "execution_count": 44,
   "metadata": {},
   "outputs": [],
   "source": [
    "tot_seq_len = []\n",
    "for pt in df.dx_seq:\n",
    "    tot_seq_len.append(len(pt.split(';')))"
   ]
  },
  {
   "cell_type": "code",
   "execution_count": 45,
   "metadata": {},
   "outputs": [
    {
     "data": {
      "text/plain": [
       "63.89948760724499"
      ]
     },
     "execution_count": 45,
     "metadata": {},
     "output_type": "execute_result"
    }
   ],
   "source": [
    "np.mean(tot_seq_len)"
   ]
  },
  {
   "cell_type": "code",
   "execution_count": 46,
   "metadata": {},
   "outputs": [],
   "source": [
    "allcodes = ';'.join(df['dx_seq'].values).split(';')"
   ]
  },
  {
   "cell_type": "code",
   "execution_count": 47,
   "metadata": {},
   "outputs": [],
   "source": [
    "counter = sorted(Counter(allcodes).items(), \n",
    "                 key=lambda x: -x[1])[:parameters['vocab_size']-1] # sort by frequency\n",
    "\n",
    "# Remove 'words' appearing less than n times.\n",
    "min_word_ct = 20\n",
    "counter2 = []\n",
    "for word, count in counter:\n",
    "    if count > min_word_ct:\n",
    "        counter2.append((word, count))\n",
    "    else:\n",
    "        pass\n",
    "\n",
    "counter2.append(('<unk>', 1))\n",
    "\n",
    "words, _ = list(zip(*counter2))\n",
    "word_to_ID = dict(zip(words, range(len(words))))"
   ]
  },
  {
   "cell_type": "code",
   "execution_count": null,
   "metadata": {},
   "outputs": [],
   "source": [
    "# Save word_to_ID\n",
    "import pickle as pkl\n",
    "pkl.dump(word_to_ID, open('../data/samples/word_to_ID.pkl', 'wb'))"
   ]
  },
  {
   "cell_type": "code",
   "execution_count": 49,
   "metadata": {},
   "outputs": [],
   "source": [
    "df['dx_seq_tok'] = df['dx_seq'].apply(tokenize_text).apply(pad_text)"
   ]
  },
  {
   "cell_type": "code",
   "execution_count": 50,
   "metadata": {},
   "outputs": [
    {
     "data": {
      "text/plain": [
       "array([[ 74, 509,   1, ..., 905, 905, 905],\n",
       "       [ 50,   2,  50, ..., 905, 905, 905],\n",
       "       [273, 273, 273, ..., 905, 905, 905],\n",
       "       ...,\n",
       "       [ 37,   2,  37, ..., 905, 905, 905],\n",
       "       [  2,   5,  17, ..., 905, 905, 905],\n",
       "       [  2,  86,   9, ..., 905, 905, 905]])"
      ]
     },
     "execution_count": 50,
     "metadata": {},
     "output_type": "execute_result"
    }
   ],
   "source": [
    "np.array(list(df['dx_seq_tok']))"
   ]
  },
  {
   "cell_type": "markdown",
   "metadata": {},
   "source": [
    "## Periodic Vitals"
   ]
  },
  {
   "cell_type": "code",
   "execution_count": 51,
   "metadata": {},
   "outputs": [
    {
     "data": {
      "text/html": [
       "<div>\n",
       "<style scoped>\n",
       "    .dataframe tbody tr th:only-of-type {\n",
       "        vertical-align: middle;\n",
       "    }\n",
       "\n",
       "    .dataframe tbody tr th {\n",
       "        vertical-align: top;\n",
       "    }\n",
       "\n",
       "    .dataframe thead th {\n",
       "        text-align: right;\n",
       "    }\n",
       "</style>\n",
       "<table border=\"1\" class=\"dataframe\">\n",
       "  <thead>\n",
       "    <tr style=\"text-align: right;\">\n",
       "      <th></th>\n",
       "      <th>vitalperiodicid</th>\n",
       "      <th>patientunitstayid</th>\n",
       "      <th>observationoffset</th>\n",
       "      <th>temperature</th>\n",
       "      <th>sao2</th>\n",
       "      <th>heartrate</th>\n",
       "      <th>respiration</th>\n",
       "      <th>cvp</th>\n",
       "      <th>etco2</th>\n",
       "      <th>systemicsystolic</th>\n",
       "      <th>systemicdiastolic</th>\n",
       "      <th>systemicmean</th>\n",
       "      <th>pasystolic</th>\n",
       "      <th>padiastolic</th>\n",
       "      <th>pamean</th>\n",
       "      <th>st1</th>\n",
       "      <th>st2</th>\n",
       "      <th>st3</th>\n",
       "      <th>icp</th>\n",
       "    </tr>\n",
       "  </thead>\n",
       "  <tbody>\n",
       "    <tr>\n",
       "      <th>69547830</th>\n",
       "      <td>1110298806</td>\n",
       "      <td>1602245</td>\n",
       "      <td>15451</td>\n",
       "      <td>NaN</td>\n",
       "      <td>100.0</td>\n",
       "      <td>77.0</td>\n",
       "      <td>18.0</td>\n",
       "      <td>NaN</td>\n",
       "      <td>NaN</td>\n",
       "      <td>92.0</td>\n",
       "      <td>59.0</td>\n",
       "      <td>69.0</td>\n",
       "      <td>NaN</td>\n",
       "      <td>NaN</td>\n",
       "      <td>NaN</td>\n",
       "      <td>NaN</td>\n",
       "      <td>NaN</td>\n",
       "      <td>NaN</td>\n",
       "      <td>NaN</td>\n",
       "    </tr>\n",
       "    <tr>\n",
       "      <th>97412845</th>\n",
       "      <td>1522511204</td>\n",
       "      <td>2416950</td>\n",
       "      <td>5031</td>\n",
       "      <td>NaN</td>\n",
       "      <td>93.0</td>\n",
       "      <td>85.0</td>\n",
       "      <td>19.0</td>\n",
       "      <td>NaN</td>\n",
       "      <td>NaN</td>\n",
       "      <td>NaN</td>\n",
       "      <td>NaN</td>\n",
       "      <td>NaN</td>\n",
       "      <td>NaN</td>\n",
       "      <td>NaN</td>\n",
       "      <td>NaN</td>\n",
       "      <td>0.30</td>\n",
       "      <td>-0.20</td>\n",
       "      <td>-0.6</td>\n",
       "      <td>NaN</td>\n",
       "    </tr>\n",
       "    <tr>\n",
       "      <th>111378293</th>\n",
       "      <td>1691877517</td>\n",
       "      <td>2785347</td>\n",
       "      <td>31954</td>\n",
       "      <td>NaN</td>\n",
       "      <td>100.0</td>\n",
       "      <td>108.0</td>\n",
       "      <td>17.0</td>\n",
       "      <td>NaN</td>\n",
       "      <td>NaN</td>\n",
       "      <td>NaN</td>\n",
       "      <td>NaN</td>\n",
       "      <td>NaN</td>\n",
       "      <td>NaN</td>\n",
       "      <td>NaN</td>\n",
       "      <td>NaN</td>\n",
       "      <td>NaN</td>\n",
       "      <td>NaN</td>\n",
       "      <td>NaN</td>\n",
       "      <td>NaN</td>\n",
       "    </tr>\n",
       "    <tr>\n",
       "      <th>18770031</th>\n",
       "      <td>287732002</td>\n",
       "      <td>482732</td>\n",
       "      <td>92</td>\n",
       "      <td>NaN</td>\n",
       "      <td>96.0</td>\n",
       "      <td>70.0</td>\n",
       "      <td>11.0</td>\n",
       "      <td>NaN</td>\n",
       "      <td>NaN</td>\n",
       "      <td>NaN</td>\n",
       "      <td>NaN</td>\n",
       "      <td>NaN</td>\n",
       "      <td>NaN</td>\n",
       "      <td>NaN</td>\n",
       "      <td>NaN</td>\n",
       "      <td>-0.05</td>\n",
       "      <td>0.05</td>\n",
       "      <td>0.1</td>\n",
       "      <td>NaN</td>\n",
       "    </tr>\n",
       "    <tr>\n",
       "      <th>141897911</th>\n",
       "      <td>2072067299</td>\n",
       "      <td>3237502</td>\n",
       "      <td>9425</td>\n",
       "      <td>36.3</td>\n",
       "      <td>100.0</td>\n",
       "      <td>64.0</td>\n",
       "      <td>16.0</td>\n",
       "      <td>NaN</td>\n",
       "      <td>NaN</td>\n",
       "      <td>NaN</td>\n",
       "      <td>NaN</td>\n",
       "      <td>NaN</td>\n",
       "      <td>NaN</td>\n",
       "      <td>NaN</td>\n",
       "      <td>NaN</td>\n",
       "      <td>0.20</td>\n",
       "      <td>0.60</td>\n",
       "      <td>0.3</td>\n",
       "      <td>NaN</td>\n",
       "    </tr>\n",
       "  </tbody>\n",
       "</table>\n",
       "</div>"
      ],
      "text/plain": [
       "           vitalperiodicid  patientunitstayid  observationoffset  temperature  \\\n",
       "69547830        1110298806            1602245              15451          NaN   \n",
       "97412845        1522511204            2416950               5031          NaN   \n",
       "111378293       1691877517            2785347              31954          NaN   \n",
       "18770031         287732002             482732                 92          NaN   \n",
       "141897911       2072067299            3237502               9425         36.3   \n",
       "\n",
       "            sao2  heartrate  respiration  cvp  etco2  systemicsystolic  \\\n",
       "69547830   100.0       77.0         18.0  NaN    NaN              92.0   \n",
       "97412845    93.0       85.0         19.0  NaN    NaN               NaN   \n",
       "111378293  100.0      108.0         17.0  NaN    NaN               NaN   \n",
       "18770031    96.0       70.0         11.0  NaN    NaN               NaN   \n",
       "141897911  100.0       64.0         16.0  NaN    NaN               NaN   \n",
       "\n",
       "           systemicdiastolic  systemicmean  pasystolic  padiastolic  pamean  \\\n",
       "69547830                59.0          69.0         NaN          NaN     NaN   \n",
       "97412845                 NaN           NaN         NaN          NaN     NaN   \n",
       "111378293                NaN           NaN         NaN          NaN     NaN   \n",
       "18770031                 NaN           NaN         NaN          NaN     NaN   \n",
       "141897911                NaN           NaN         NaN          NaN     NaN   \n",
       "\n",
       "            st1   st2  st3  icp  \n",
       "69547830    NaN   NaN  NaN  NaN  \n",
       "97412845   0.30 -0.20 -0.6  NaN  \n",
       "111378293   NaN   NaN  NaN  NaN  \n",
       "18770031  -0.05  0.05  0.1  NaN  \n",
       "141897911  0.20  0.60  0.3  NaN  "
      ]
     },
     "execution_count": 51,
     "metadata": {},
     "output_type": "execute_result"
    }
   ],
   "source": [
    "# LOAD VITALS. THIS IS LONG\n",
    "vitals1 = pd.read_csv(data_path + 'vitalPeriodic.csv')\n",
    "vitals1.sample(5)"
   ]
  },
  {
   "cell_type": "code",
   "execution_count": 52,
   "metadata": {},
   "outputs": [],
   "source": [
    "# # Reduce the size of the dataframe.\n",
    "vitals1 = vitals1[vitals1['patientunitstayid'].isin(all_events.patientunitstayid)]"
   ]
  },
  {
   "cell_type": "code",
   "execution_count": 53,
   "metadata": {},
   "outputs": [
    {
     "name": "stdout",
     "output_type": "stream",
     "text": [
      "        vitalperiodicid: COMPLETE\n",
      "      patientunitstayid: COMPLETE\n",
      "      observationoffset: COMPLETE\n",
      "            temperature: MISSING 15985694 VALUES (86.9%)\n",
      "                   sao2: MISSING 1567210 VALUES (8.5%)\n",
      "              heartrate: MISSING 135811 VALUES (0.7%)\n",
      "            respiration: MISSING 2113480 VALUES (11.5%)\n",
      "                    cvp: MISSING 14739888 VALUES (80.1%)\n",
      "                  etco2: MISSING 17419084 VALUES (94.7%)\n",
      "       systemicsystolic: MISSING 12943893 VALUES (70.4%)\n",
      "      systemicdiastolic: MISSING 12943959 VALUES (70.4%)\n",
      "           systemicmean: MISSING 12899297 VALUES (70.1%)\n",
      "             pasystolic: MISSING 17849297 VALUES (97.0%)\n",
      "            padiastolic: MISSING 17849305 VALUES (97.0%)\n",
      "                 pamean: MISSING 17841816 VALUES (97.0%)\n",
      "                    st1: MISSING 11641470 VALUES (63.3%)\n",
      "                    st2: MISSING 11212181 VALUES (60.9%)\n",
      "                    st3: MISSING 11805125 VALUES (64.2%)\n",
      "                    icp: MISSING 17985648 VALUES (97.8%)\n",
      "\n",
      "Total number of items: 18396090\n"
     ]
    }
   ],
   "source": [
    "check_col_complete(vitals1);"
   ]
  },
  {
   "cell_type": "code",
   "execution_count": 54,
   "metadata": {},
   "outputs": [
    {
     "data": {
      "text/html": [
       "<div>\n",
       "<style scoped>\n",
       "    .dataframe tbody tr th:only-of-type {\n",
       "        vertical-align: middle;\n",
       "    }\n",
       "\n",
       "    .dataframe tbody tr th {\n",
       "        vertical-align: top;\n",
       "    }\n",
       "\n",
       "    .dataframe thead th {\n",
       "        text-align: right;\n",
       "    }\n",
       "</style>\n",
       "<table border=\"1\" class=\"dataframe\">\n",
       "  <thead>\n",
       "    <tr style=\"text-align: right;\">\n",
       "      <th></th>\n",
       "      <th>vitalperiodicid</th>\n",
       "      <th>patientunitstayid</th>\n",
       "      <th>observationoffset</th>\n",
       "      <th>temperature</th>\n",
       "      <th>sao2</th>\n",
       "      <th>heartrate</th>\n",
       "      <th>respiration</th>\n",
       "      <th>cvp</th>\n",
       "      <th>etco2</th>\n",
       "      <th>systemicsystolic</th>\n",
       "      <th>systemicdiastolic</th>\n",
       "      <th>systemicmean</th>\n",
       "      <th>pasystolic</th>\n",
       "      <th>padiastolic</th>\n",
       "      <th>pamean</th>\n",
       "      <th>st1</th>\n",
       "      <th>st2</th>\n",
       "      <th>st3</th>\n",
       "      <th>icp</th>\n",
       "    </tr>\n",
       "  </thead>\n",
       "  <tbody>\n",
       "    <tr>\n",
       "      <th>0</th>\n",
       "      <td>37376747</td>\n",
       "      <td>141168</td>\n",
       "      <td>2059</td>\n",
       "      <td>NaN</td>\n",
       "      <td>NaN</td>\n",
       "      <td>92.0</td>\n",
       "      <td>NaN</td>\n",
       "      <td>30.0</td>\n",
       "      <td>NaN</td>\n",
       "      <td>NaN</td>\n",
       "      <td>NaN</td>\n",
       "      <td>NaN</td>\n",
       "      <td>NaN</td>\n",
       "      <td>NaN</td>\n",
       "      <td>NaN</td>\n",
       "      <td>NaN</td>\n",
       "      <td>NaN</td>\n",
       "      <td>NaN</td>\n",
       "      <td>NaN</td>\n",
       "    </tr>\n",
       "    <tr>\n",
       "      <th>1</th>\n",
       "      <td>37404957</td>\n",
       "      <td>141168</td>\n",
       "      <td>1289</td>\n",
       "      <td>NaN</td>\n",
       "      <td>NaN</td>\n",
       "      <td>118.0</td>\n",
       "      <td>NaN</td>\n",
       "      <td>NaN</td>\n",
       "      <td>NaN</td>\n",
       "      <td>NaN</td>\n",
       "      <td>NaN</td>\n",
       "      <td>NaN</td>\n",
       "      <td>NaN</td>\n",
       "      <td>NaN</td>\n",
       "      <td>NaN</td>\n",
       "      <td>NaN</td>\n",
       "      <td>NaN</td>\n",
       "      <td>NaN</td>\n",
       "      <td>NaN</td>\n",
       "    </tr>\n",
       "    <tr>\n",
       "      <th>2</th>\n",
       "      <td>37385871</td>\n",
       "      <td>141168</td>\n",
       "      <td>1794</td>\n",
       "      <td>NaN</td>\n",
       "      <td>91.0</td>\n",
       "      <td>78.0</td>\n",
       "      <td>NaN</td>\n",
       "      <td>NaN</td>\n",
       "      <td>NaN</td>\n",
       "      <td>NaN</td>\n",
       "      <td>NaN</td>\n",
       "      <td>NaN</td>\n",
       "      <td>NaN</td>\n",
       "      <td>NaN</td>\n",
       "      <td>NaN</td>\n",
       "      <td>NaN</td>\n",
       "      <td>NaN</td>\n",
       "      <td>NaN</td>\n",
       "      <td>NaN</td>\n",
       "    </tr>\n",
       "    <tr>\n",
       "      <th>3</th>\n",
       "      <td>37401664</td>\n",
       "      <td>141168</td>\n",
       "      <td>1374</td>\n",
       "      <td>NaN</td>\n",
       "      <td>90.0</td>\n",
       "      <td>118.0</td>\n",
       "      <td>NaN</td>\n",
       "      <td>NaN</td>\n",
       "      <td>NaN</td>\n",
       "      <td>NaN</td>\n",
       "      <td>NaN</td>\n",
       "      <td>NaN</td>\n",
       "      <td>NaN</td>\n",
       "      <td>NaN</td>\n",
       "      <td>NaN</td>\n",
       "      <td>NaN</td>\n",
       "      <td>NaN</td>\n",
       "      <td>NaN</td>\n",
       "      <td>NaN</td>\n",
       "    </tr>\n",
       "    <tr>\n",
       "      <th>4</th>\n",
       "      <td>37377404</td>\n",
       "      <td>141168</td>\n",
       "      <td>2039</td>\n",
       "      <td>NaN</td>\n",
       "      <td>98.0</td>\n",
       "      <td>92.0</td>\n",
       "      <td>NaN</td>\n",
       "      <td>33.0</td>\n",
       "      <td>NaN</td>\n",
       "      <td>NaN</td>\n",
       "      <td>NaN</td>\n",
       "      <td>NaN</td>\n",
       "      <td>NaN</td>\n",
       "      <td>NaN</td>\n",
       "      <td>NaN</td>\n",
       "      <td>NaN</td>\n",
       "      <td>NaN</td>\n",
       "      <td>NaN</td>\n",
       "      <td>NaN</td>\n",
       "    </tr>\n",
       "  </tbody>\n",
       "</table>\n",
       "</div>"
      ],
      "text/plain": [
       "   vitalperiodicid  patientunitstayid  observationoffset  temperature  sao2  \\\n",
       "0         37376747             141168               2059          NaN   NaN   \n",
       "1         37404957             141168               1289          NaN   NaN   \n",
       "2         37385871             141168               1794          NaN  91.0   \n",
       "3         37401664             141168               1374          NaN  90.0   \n",
       "4         37377404             141168               2039          NaN  98.0   \n",
       "\n",
       "   heartrate  respiration   cvp  etco2  systemicsystolic  systemicdiastolic  \\\n",
       "0       92.0          NaN  30.0    NaN               NaN                NaN   \n",
       "1      118.0          NaN   NaN    NaN               NaN                NaN   \n",
       "2       78.0          NaN   NaN    NaN               NaN                NaN   \n",
       "3      118.0          NaN   NaN    NaN               NaN                NaN   \n",
       "4       92.0          NaN  33.0    NaN               NaN                NaN   \n",
       "\n",
       "   systemicmean  pasystolic  padiastolic  pamean  st1  st2  st3  icp  \n",
       "0           NaN         NaN          NaN     NaN  NaN  NaN  NaN  NaN  \n",
       "1           NaN         NaN          NaN     NaN  NaN  NaN  NaN  NaN  \n",
       "2           NaN         NaN          NaN     NaN  NaN  NaN  NaN  NaN  \n",
       "3           NaN         NaN          NaN     NaN  NaN  NaN  NaN  NaN  \n",
       "4           NaN         NaN          NaN     NaN  NaN  NaN  NaN  NaN  "
      ]
     },
     "execution_count": 54,
     "metadata": {},
     "output_type": "execute_result"
    }
   ],
   "source": [
    "vitals1.head()"
   ]
  },
  {
   "cell_type": "code",
   "execution_count": 55,
   "metadata": {},
   "outputs": [],
   "source": [
    "vitals1['event_offset'] = vitals1['patientunitstayid'].apply(lambda x: dx_offset_dict[x])"
   ]
  },
  {
   "cell_type": "code",
   "execution_count": 56,
   "metadata": {},
   "outputs": [],
   "source": [
    "vitals1['window'] = vitals1['observationoffset'].between(\n",
    "    vitals1['event_offset'] - parameters['window'][0], vitals1['event_offset'] - parameters['window'][1])\n",
    "vitals1['baseline'] = vitals1['observationoffset'].between(*parameters['baseline'])\n",
    "vitals1['window2'] = vitals1['observationoffset']<(parameters['window'][1])"
   ]
  },
  {
   "cell_type": "code",
   "execution_count": 57,
   "metadata": {},
   "outputs": [],
   "source": [
    "vitals1 = vitals1[vitals1.window | vitals1.baseline | vitals1.window2]"
   ]
  },
  {
   "cell_type": "code",
   "execution_count": 58,
   "metadata": {},
   "outputs": [
    {
     "data": {
      "text/plain": [
       "Index(['vitalperiodicid', 'patientunitstayid', 'observationoffset',\n",
       "       'temperature', 'sao2', 'heartrate', 'respiration', 'cvp', 'etco2',\n",
       "       'systemicsystolic', 'systemicdiastolic', 'systemicmean', 'pasystolic',\n",
       "       'padiastolic', 'pamean', 'st1', 'st2', 'st3', 'icp', 'event_offset',\n",
       "       'window', 'baseline', 'window2'],\n",
       "      dtype='object')"
      ]
     },
     "execution_count": 58,
     "metadata": {},
     "output_type": "execute_result"
    }
   ],
   "source": [
    "vitals1.columns"
   ]
  },
  {
   "cell_type": "code",
   "execution_count": 59,
   "metadata": {},
   "outputs": [],
   "source": [
    "vitals1.drop(['etco2', 'pasystolic', 'padiastolic', 'pamean', 'icp'], axis=1, inplace=True)"
   ]
  },
  {
   "cell_type": "code",
   "execution_count": 60,
   "metadata": {},
   "outputs": [],
   "source": [
    "# Extract features\n",
    "def create_feature(feature, period, operation, df):\n",
    "    new_feat = df[df[period]==True][feature].groupby(df['patientunitstayid']).transform(operation)\n",
    "    return new_feat"
   ]
  },
  {
   "cell_type": "code",
   "execution_count": 61,
   "metadata": {},
   "outputs": [],
   "source": [
    "vitals1['hr_min_w1'] = create_feature('heartrate', \"window\", 'min', vitals1)\n",
    "vitals1['hr_max_w1'] = create_feature('heartrate', \"window\", 'max', vitals1)\n",
    "vitals1['hr_mean_bl'] = create_feature('heartrate', \"baseline\", 'mean', vitals1)\n",
    "\n",
    "vitals1['resp_min_w1'] = create_feature('respiration', \"window\", 'min', vitals1)\n",
    "vitals1['resp_max_w1'] = create_feature('respiration', \"window\", 'max', vitals1)\n",
    "vitals1['resp_mean_bl'] = create_feature('respiration', \"baseline\", 'mean', vitals1)\n",
    "\n",
    "vitals1['sao2_min_w1'] = create_feature('sao2', \"window\", 'min', vitals1)"
   ]
  },
  {
   "cell_type": "code",
   "execution_count": 62,
   "metadata": {},
   "outputs": [],
   "source": [
    "vitals1 = vitals1.groupby(vitals1['patientunitstayid'].values).transform('max')"
   ]
  },
  {
   "cell_type": "code",
   "execution_count": 63,
   "metadata": {},
   "outputs": [],
   "source": [
    "vitals1['hr_chg_bl'] = vitals1['hr_max_w1'] - vitals1['hr_mean_bl']\n",
    "vitals1['resp_chg_bl'] = vitals1['resp_max_w1'] - vitals1['resp_mean_bl']"
   ]
  },
  {
   "cell_type": "code",
   "execution_count": 64,
   "metadata": {},
   "outputs": [
    {
     "data": {
      "text/plain": [
       "1528209"
      ]
     },
     "execution_count": 64,
     "metadata": {},
     "output_type": "execute_result"
    }
   ],
   "source": [
    "len(vitals1)"
   ]
  },
  {
   "cell_type": "code",
   "execution_count": 65,
   "metadata": {},
   "outputs": [],
   "source": [
    "vitals1.drop_duplicates(inplace=True)"
   ]
  },
  {
   "cell_type": "code",
   "execution_count": 66,
   "metadata": {},
   "outputs": [
    {
     "data": {
      "text/html": [
       "<div>\n",
       "<style scoped>\n",
       "    .dataframe tbody tr th:only-of-type {\n",
       "        vertical-align: middle;\n",
       "    }\n",
       "\n",
       "    .dataframe tbody tr th {\n",
       "        vertical-align: top;\n",
       "    }\n",
       "\n",
       "    .dataframe thead th {\n",
       "        text-align: right;\n",
       "    }\n",
       "</style>\n",
       "<table border=\"1\" class=\"dataframe\">\n",
       "  <thead>\n",
       "    <tr style=\"text-align: right;\">\n",
       "      <th></th>\n",
       "      <th>patientunitstayid</th>\n",
       "      <th>hr_min_w1</th>\n",
       "      <th>hr_max_w1</th>\n",
       "    </tr>\n",
       "  </thead>\n",
       "  <tbody>\n",
       "    <tr>\n",
       "      <th>41473968</th>\n",
       "      <td>1058516</td>\n",
       "      <td>71.0</td>\n",
       "      <td>91.0</td>\n",
       "    </tr>\n",
       "    <tr>\n",
       "      <th>100686498</th>\n",
       "      <td>2521804</td>\n",
       "      <td>73.0</td>\n",
       "      <td>92.0</td>\n",
       "    </tr>\n",
       "    <tr>\n",
       "      <th>15365663</th>\n",
       "      <td>397519</td>\n",
       "      <td>70.0</td>\n",
       "      <td>98.0</td>\n",
       "    </tr>\n",
       "    <tr>\n",
       "      <th>82239941</th>\n",
       "      <td>1806575</td>\n",
       "      <td>52.0</td>\n",
       "      <td>80.0</td>\n",
       "    </tr>\n",
       "    <tr>\n",
       "      <th>32824844</th>\n",
       "      <td>914030</td>\n",
       "      <td>101.0</td>\n",
       "      <td>114.0</td>\n",
       "    </tr>\n",
       "  </tbody>\n",
       "</table>\n",
       "</div>"
      ],
      "text/plain": [
       "           patientunitstayid  hr_min_w1  hr_max_w1\n",
       "41473968             1058516       71.0       91.0\n",
       "100686498            2521804       73.0       92.0\n",
       "15365663              397519       70.0       98.0\n",
       "82239941             1806575       52.0       80.0\n",
       "32824844              914030      101.0      114.0"
      ]
     },
     "execution_count": 66,
     "metadata": {},
     "output_type": "execute_result"
    }
   ],
   "source": [
    "vitals1[['patientunitstayid', 'hr_min_w1', 'hr_max_w1', ]].sample(5)"
   ]
  },
  {
   "cell_type": "code",
   "execution_count": 67,
   "metadata": {},
   "outputs": [],
   "source": [
    "vitals1['label'] = vitals1['patientunitstayid'].isin(dx_events.patientunitstayid)"
   ]
  },
  {
   "cell_type": "code",
   "execution_count": 68,
   "metadata": {},
   "outputs": [
    {
     "data": {
      "text/html": [
       "<div>\n",
       "<style scoped>\n",
       "    .dataframe tbody tr th:only-of-type {\n",
       "        vertical-align: middle;\n",
       "    }\n",
       "\n",
       "    .dataframe tbody tr th {\n",
       "        vertical-align: top;\n",
       "    }\n",
       "\n",
       "    .dataframe thead th {\n",
       "        text-align: right;\n",
       "    }\n",
       "</style>\n",
       "<table border=\"1\" class=\"dataframe\">\n",
       "  <thead>\n",
       "    <tr style=\"text-align: right;\">\n",
       "      <th></th>\n",
       "      <th>count</th>\n",
       "      <th>mean</th>\n",
       "      <th>std</th>\n",
       "      <th>min</th>\n",
       "      <th>25%</th>\n",
       "      <th>50%</th>\n",
       "      <th>75%</th>\n",
       "      <th>max</th>\n",
       "    </tr>\n",
       "    <tr>\n",
       "      <th>label</th>\n",
       "      <th></th>\n",
       "      <th></th>\n",
       "      <th></th>\n",
       "      <th></th>\n",
       "      <th></th>\n",
       "      <th></th>\n",
       "      <th></th>\n",
       "      <th></th>\n",
       "    </tr>\n",
       "  </thead>\n",
       "  <tbody>\n",
       "    <tr>\n",
       "      <th>False</th>\n",
       "      <td>7666.0</td>\n",
       "      <td>94.259066</td>\n",
       "      <td>20.468484</td>\n",
       "      <td>0.0</td>\n",
       "      <td>80.0</td>\n",
       "      <td>92.0</td>\n",
       "      <td>106.0</td>\n",
       "      <td>213.0</td>\n",
       "    </tr>\n",
       "    <tr>\n",
       "      <th>True</th>\n",
       "      <td>7905.0</td>\n",
       "      <td>106.279317</td>\n",
       "      <td>24.978268</td>\n",
       "      <td>0.0</td>\n",
       "      <td>89.0</td>\n",
       "      <td>105.0</td>\n",
       "      <td>122.0</td>\n",
       "      <td>243.0</td>\n",
       "    </tr>\n",
       "  </tbody>\n",
       "</table>\n",
       "</div>"
      ],
      "text/plain": [
       "        count        mean        std  min   25%    50%    75%    max\n",
       "label                                                               \n",
       "False  7666.0   94.259066  20.468484  0.0  80.0   92.0  106.0  213.0\n",
       "True   7905.0  106.279317  24.978268  0.0  89.0  105.0  122.0  243.0"
      ]
     },
     "execution_count": 68,
     "metadata": {},
     "output_type": "execute_result"
    }
   ],
   "source": [
    "vitals1.groupby('label')['hr_max_w1'].describe()"
   ]
  },
  {
   "cell_type": "code",
   "execution_count": 69,
   "metadata": {},
   "outputs": [
    {
     "data": {
      "text/plain": [
       "16460"
      ]
     },
     "execution_count": 69,
     "metadata": {},
     "output_type": "execute_result"
    }
   ],
   "source": [
    "len(vitals1)"
   ]
  },
  {
   "cell_type": "code",
   "execution_count": 70,
   "metadata": {},
   "outputs": [
    {
     "data": {
      "text/plain": [
       "Index(['vitalperiodicid', 'patientunitstayid', 'observationoffset',\n",
       "       'temperature', 'sao2', 'heartrate', 'respiration', 'cvp',\n",
       "       'systemicsystolic', 'systemicdiastolic', 'systemicmean', 'st1', 'st2',\n",
       "       'st3', 'event_offset', 'window', 'baseline', 'window2', 'hr_min_w1',\n",
       "       'hr_max_w1', 'hr_mean_bl', 'resp_min_w1', 'resp_max_w1', 'resp_mean_bl',\n",
       "       'sao2_min_w1', 'hr_chg_bl', 'resp_chg_bl', 'label'],\n",
       "      dtype='object')"
      ]
     },
     "execution_count": 70,
     "metadata": {},
     "output_type": "execute_result"
    }
   ],
   "source": [
    "vitals1.columns"
   ]
  },
  {
   "cell_type": "code",
   "execution_count": 71,
   "metadata": {},
   "outputs": [
    {
     "data": {
      "text/plain": [
       "Index(['patientunitstayid', 'hr_min_w1', 'hr_max_w1', 'hr_mean_bl',\n",
       "       'resp_min_w1', 'resp_max_w1', 'resp_mean_bl', 'sao2_min_w1',\n",
       "       'hr_chg_bl', 'resp_chg_bl', 'label'],\n",
       "      dtype='object')"
      ]
     },
     "execution_count": 71,
     "metadata": {},
     "output_type": "execute_result"
    }
   ],
   "source": [
    "vitals_columns = ['patientunitstayid', 'hr_min_w1',\n",
    "       'hr_max_w1', 'hr_mean_bl', 'resp_min_w1', 'resp_max_w1', 'resp_mean_bl',\n",
    "       'sao2_min_w1', 'hr_chg_bl', 'resp_chg_bl', 'label']\n",
    "vitals1 = vitals1[vitals_columns]\n",
    "vitals1.columns"
   ]
  },
  {
   "cell_type": "code",
   "execution_count": 72,
   "metadata": {},
   "outputs": [
    {
     "name": "stdout",
     "output_type": "stream",
     "text": [
      "      patientunitstayid: COMPLETE\n",
      "              hr_min_w1: MISSING 889 VALUES (5.4%)\n",
      "              hr_max_w1: MISSING 889 VALUES (5.4%)\n",
      "             hr_mean_bl: MISSING 141 VALUES (0.9%)\n",
      "            resp_min_w1: MISSING 2277 VALUES (13.8%)\n",
      "            resp_max_w1: MISSING 2277 VALUES (13.8%)\n",
      "           resp_mean_bl: MISSING 1293 VALUES (7.9%)\n",
      "            sao2_min_w1: MISSING 1473 VALUES (8.9%)\n",
      "              hr_chg_bl: MISSING 1008 VALUES (6.1%)\n",
      "            resp_chg_bl: MISSING 2466 VALUES (15.0%)\n",
      "                  label: COMPLETE\n",
      "\n",
      "Total number of items: 16460\n"
     ]
    }
   ],
   "source": [
    "check_col_complete(vitals1);"
   ]
  },
  {
   "cell_type": "markdown",
   "metadata": {},
   "source": [
    "## Labs"
   ]
  },
  {
   "cell_type": "code",
   "execution_count": 73,
   "metadata": {},
   "outputs": [],
   "source": [
    "labs = pd.read_csv(data_path + 'lab.csv')"
   ]
  },
  {
   "cell_type": "code",
   "execution_count": 74,
   "metadata": {},
   "outputs": [
    {
     "data": {
      "text/plain": [
       "39132531"
      ]
     },
     "execution_count": 74,
     "metadata": {},
     "output_type": "execute_result"
    }
   ],
   "source": [
    "len(labs)"
   ]
  },
  {
   "cell_type": "code",
   "execution_count": 75,
   "metadata": {},
   "outputs": [],
   "source": [
    "labs = labs[['patientunitstayid', 'labresultoffset', 'labtypeid', 'labname', 'labresult']]"
   ]
  },
  {
   "cell_type": "code",
   "execution_count": 76,
   "metadata": {},
   "outputs": [],
   "source": [
    "labs = labs[labs['labtypeid']!=2]"
   ]
  },
  {
   "cell_type": "code",
   "execution_count": 77,
   "metadata": {},
   "outputs": [],
   "source": [
    "labs_to_keep = ['bedside glucose',\n",
    " 'potassium',\n",
    " 'sodium',\n",
    " 'glucose',\n",
    " 'Hgb',\n",
    " 'chloride',\n",
    " 'Hct',\n",
    " 'creatinine',\n",
    " 'BUN',\n",
    " 'calcium',\n",
    " 'bicarbonate',\n",
    " 'platelets x 1000',\n",
    " 'WBC x 1000',\n",
    " 'RBC',\n",
    " 'MCV',\n",
    " 'MCHC',\n",
    " 'MCH',\n",
    " 'RDW',\n",
    " 'anion gap',\n",
    " 'MPV',\n",
    " 'magnesium',\n",
    " '-lymphs',\n",
    " '-monos',\n",
    " '-eos',\n",
    " '-polys',\n",
    " '-basos',\n",
    " 'albumin',\n",
    " 'AST (SGOT)',\n",
    " 'ALT (SGPT)',\n",
    " 'total protein',\n",
    " 'alkaline phos.',\n",
    " 'total bilirubin',\n",
    " 'phosphate',\n",
    " 'paO2',\n",
    " 'paCO2',\n",
    " 'pH',\n",
    " 'PT - INR',\n",
    " 'HCO3',\n",
    "'lactate', 'albumin', 'total bilirubin', 'urinary specific gravity', 'FiO2'\n",
    "]   ###Note platelets"
   ]
  },
  {
   "cell_type": "code",
   "execution_count": 78,
   "metadata": {},
   "outputs": [],
   "source": [
    "labs = labs[labs.labname.isin(labs_to_keep)]"
   ]
  },
  {
   "cell_type": "code",
   "execution_count": 79,
   "metadata": {},
   "outputs": [
    {
     "data": {
      "text/plain": [
       "35165816"
      ]
     },
     "execution_count": 79,
     "metadata": {},
     "output_type": "execute_result"
    }
   ],
   "source": [
    "len(labs)"
   ]
  },
  {
   "cell_type": "code",
   "execution_count": 80,
   "metadata": {},
   "outputs": [],
   "source": [
    "labs = labs[labs.patientunitstayid.isin(dx_offset_dict)]"
   ]
  },
  {
   "cell_type": "code",
   "execution_count": 81,
   "metadata": {},
   "outputs": [
    {
     "data": {
      "text/plain": [
       "3919164"
      ]
     },
     "execution_count": 81,
     "metadata": {},
     "output_type": "execute_result"
    }
   ],
   "source": [
    "len(labs)"
   ]
  },
  {
   "cell_type": "code",
   "execution_count": 82,
   "metadata": {},
   "outputs": [],
   "source": [
    "labs['event_offset'] = labs['patientunitstayid'].apply(lambda x: dx_offset_dict[x])"
   ]
  },
  {
   "cell_type": "code",
   "execution_count": 83,
   "metadata": {},
   "outputs": [],
   "source": [
    "labs[\"window\"] = labs['labresultoffset'].between(\n",
    "    labs['event_offset'] - parameters['window'][0], labs['event_offset'] - parameters['window'][1])\n",
    "labs[\"baseline\"] = labs['labresultoffset'].between(*parameters['baseline'])\n",
    "labs['window2'] = labs['labresultoffset']<parameters['window'][1]"
   ]
  },
  {
   "cell_type": "code",
   "execution_count": 84,
   "metadata": {},
   "outputs": [
    {
     "data": {
      "text/html": [
       "<div>\n",
       "<style scoped>\n",
       "    .dataframe tbody tr th:only-of-type {\n",
       "        vertical-align: middle;\n",
       "    }\n",
       "\n",
       "    .dataframe tbody tr th {\n",
       "        vertical-align: top;\n",
       "    }\n",
       "\n",
       "    .dataframe thead th {\n",
       "        text-align: right;\n",
       "    }\n",
       "</style>\n",
       "<table border=\"1\" class=\"dataframe\">\n",
       "  <thead>\n",
       "    <tr style=\"text-align: right;\">\n",
       "      <th></th>\n",
       "      <th>patientunitstayid</th>\n",
       "      <th>labresultoffset</th>\n",
       "      <th>labtypeid</th>\n",
       "      <th>labname</th>\n",
       "      <th>labresult</th>\n",
       "      <th>event_offset</th>\n",
       "      <th>window</th>\n",
       "      <th>baseline</th>\n",
       "      <th>window2</th>\n",
       "    </tr>\n",
       "  </thead>\n",
       "  <tbody>\n",
       "    <tr>\n",
       "      <th>28406075</th>\n",
       "      <td>2725251</td>\n",
       "      <td>23426</td>\n",
       "      <td>1</td>\n",
       "      <td>BUN</td>\n",
       "      <td>13.00</td>\n",
       "      <td>26677.0</td>\n",
       "      <td>False</td>\n",
       "      <td>False</td>\n",
       "      <td>False</td>\n",
       "    </tr>\n",
       "    <tr>\n",
       "      <th>14482412</th>\n",
       "      <td>1153574</td>\n",
       "      <td>1454</td>\n",
       "      <td>3</td>\n",
       "      <td>Hct</td>\n",
       "      <td>37.70</td>\n",
       "      <td>22.0</td>\n",
       "      <td>False</td>\n",
       "      <td>False</td>\n",
       "      <td>False</td>\n",
       "    </tr>\n",
       "    <tr>\n",
       "      <th>21415957</th>\n",
       "      <td>1774325</td>\n",
       "      <td>501</td>\n",
       "      <td>1</td>\n",
       "      <td>AST (SGOT)</td>\n",
       "      <td>1629.00</td>\n",
       "      <td>777.0</td>\n",
       "      <td>False</td>\n",
       "      <td>False</td>\n",
       "      <td>False</td>\n",
       "    </tr>\n",
       "    <tr>\n",
       "      <th>38538328</th>\n",
       "      <td>3337984</td>\n",
       "      <td>2275</td>\n",
       "      <td>1</td>\n",
       "      <td>BUN</td>\n",
       "      <td>25.00</td>\n",
       "      <td>4434.0</td>\n",
       "      <td>False</td>\n",
       "      <td>False</td>\n",
       "      <td>False</td>\n",
       "    </tr>\n",
       "    <tr>\n",
       "      <th>17253866</th>\n",
       "      <td>1558329</td>\n",
       "      <td>-248</td>\n",
       "      <td>3</td>\n",
       "      <td>-basos</td>\n",
       "      <td>0.50</td>\n",
       "      <td>200.0</td>\n",
       "      <td>False</td>\n",
       "      <td>False</td>\n",
       "      <td>True</td>\n",
       "    </tr>\n",
       "    <tr>\n",
       "      <th>36103631</th>\n",
       "      <td>3166045</td>\n",
       "      <td>1382</td>\n",
       "      <td>1</td>\n",
       "      <td>creatinine</td>\n",
       "      <td>0.88</td>\n",
       "      <td>967.0</td>\n",
       "      <td>False</td>\n",
       "      <td>False</td>\n",
       "      <td>False</td>\n",
       "    </tr>\n",
       "    <tr>\n",
       "      <th>26791250</th>\n",
       "      <td>2599024</td>\n",
       "      <td>41</td>\n",
       "      <td>3</td>\n",
       "      <td>Hct</td>\n",
       "      <td>46.70</td>\n",
       "      <td>500.0</td>\n",
       "      <td>False</td>\n",
       "      <td>True</td>\n",
       "      <td>False</td>\n",
       "    </tr>\n",
       "    <tr>\n",
       "      <th>29421750</th>\n",
       "      <td>2782681</td>\n",
       "      <td>11659</td>\n",
       "      <td>3</td>\n",
       "      <td>MCH</td>\n",
       "      <td>30.40</td>\n",
       "      <td>14492.0</td>\n",
       "      <td>False</td>\n",
       "      <td>False</td>\n",
       "      <td>False</td>\n",
       "    </tr>\n",
       "    <tr>\n",
       "      <th>28326127</th>\n",
       "      <td>2721222</td>\n",
       "      <td>6401</td>\n",
       "      <td>3</td>\n",
       "      <td>MCV</td>\n",
       "      <td>90.00</td>\n",
       "      <td>1241.0</td>\n",
       "      <td>False</td>\n",
       "      <td>False</td>\n",
       "      <td>False</td>\n",
       "    </tr>\n",
       "    <tr>\n",
       "      <th>33638649</th>\n",
       "      <td>3057548</td>\n",
       "      <td>10211</td>\n",
       "      <td>1</td>\n",
       "      <td>alkaline phos.</td>\n",
       "      <td>80.00</td>\n",
       "      <td>22499.0</td>\n",
       "      <td>False</td>\n",
       "      <td>False</td>\n",
       "      <td>False</td>\n",
       "    </tr>\n",
       "  </tbody>\n",
       "</table>\n",
       "</div>"
      ],
      "text/plain": [
       "          patientunitstayid  labresultoffset  labtypeid         labname  \\\n",
       "28406075            2725251            23426          1             BUN   \n",
       "14482412            1153574             1454          3             Hct   \n",
       "21415957            1774325              501          1      AST (SGOT)   \n",
       "38538328            3337984             2275          1             BUN   \n",
       "17253866            1558329             -248          3          -basos   \n",
       "36103631            3166045             1382          1      creatinine   \n",
       "26791250            2599024               41          3             Hct   \n",
       "29421750            2782681            11659          3             MCH   \n",
       "28326127            2721222             6401          3             MCV   \n",
       "33638649            3057548            10211          1  alkaline phos.   \n",
       "\n",
       "          labresult  event_offset  window  baseline  window2  \n",
       "28406075      13.00       26677.0   False     False    False  \n",
       "14482412      37.70          22.0   False     False    False  \n",
       "21415957    1629.00         777.0   False     False    False  \n",
       "38538328      25.00        4434.0   False     False    False  \n",
       "17253866       0.50         200.0   False     False     True  \n",
       "36103631       0.88         967.0   False     False    False  \n",
       "26791250      46.70         500.0   False      True    False  \n",
       "29421750      30.40       14492.0   False     False    False  \n",
       "28326127      90.00        1241.0   False     False    False  \n",
       "33638649      80.00       22499.0   False     False    False  "
      ]
     },
     "execution_count": 84,
     "metadata": {},
     "output_type": "execute_result"
    }
   ],
   "source": [
    "labs.sample(10)"
   ]
  },
  {
   "cell_type": "code",
   "execution_count": 85,
   "metadata": {},
   "outputs": [],
   "source": [
    "labs = labs[labs.window|labs.baseline|labs.window2]"
   ]
  },
  {
   "cell_type": "code",
   "execution_count": 86,
   "metadata": {},
   "outputs": [
    {
     "data": {
      "text/plain": [
       "1032942"
      ]
     },
     "execution_count": 86,
     "metadata": {},
     "output_type": "execute_result"
    }
   ],
   "source": [
    "len(labs)"
   ]
  },
  {
   "cell_type": "code",
   "execution_count": 87,
   "metadata": {},
   "outputs": [
    {
     "data": {
      "text/html": [
       "<div>\n",
       "<style scoped>\n",
       "    .dataframe tbody tr th:only-of-type {\n",
       "        vertical-align: middle;\n",
       "    }\n",
       "\n",
       "    .dataframe tbody tr th {\n",
       "        vertical-align: top;\n",
       "    }\n",
       "\n",
       "    .dataframe thead th {\n",
       "        text-align: right;\n",
       "    }\n",
       "</style>\n",
       "<table border=\"1\" class=\"dataframe\">\n",
       "  <thead>\n",
       "    <tr style=\"text-align: right;\">\n",
       "      <th></th>\n",
       "      <th>patientunitstayid</th>\n",
       "      <th>labresultoffset</th>\n",
       "      <th>labtypeid</th>\n",
       "      <th>labname</th>\n",
       "      <th>labresult</th>\n",
       "      <th>event_offset</th>\n",
       "      <th>window</th>\n",
       "      <th>baseline</th>\n",
       "      <th>window2</th>\n",
       "    </tr>\n",
       "  </thead>\n",
       "  <tbody>\n",
       "    <tr>\n",
       "      <th>16438009</th>\n",
       "      <td>1450449</td>\n",
       "      <td>-36</td>\n",
       "      <td>3</td>\n",
       "      <td>WBC x 1000</td>\n",
       "      <td>12.0</td>\n",
       "      <td>87.0</td>\n",
       "      <td>True</td>\n",
       "      <td>False</td>\n",
       "      <td>True</td>\n",
       "    </tr>\n",
       "    <tr>\n",
       "      <th>22538003</th>\n",
       "      <td>1828415</td>\n",
       "      <td>-137</td>\n",
       "      <td>7</td>\n",
       "      <td>FiO2</td>\n",
       "      <td>100.0</td>\n",
       "      <td>9.0</td>\n",
       "      <td>True</td>\n",
       "      <td>False</td>\n",
       "      <td>True</td>\n",
       "    </tr>\n",
       "    <tr>\n",
       "      <th>5083998</th>\n",
       "      <td>529632</td>\n",
       "      <td>14570</td>\n",
       "      <td>1</td>\n",
       "      <td>calcium</td>\n",
       "      <td>8.3</td>\n",
       "      <td>14721.0</td>\n",
       "      <td>True</td>\n",
       "      <td>False</td>\n",
       "      <td>False</td>\n",
       "    </tr>\n",
       "    <tr>\n",
       "      <th>29551013</th>\n",
       "      <td>2789230</td>\n",
       "      <td>46</td>\n",
       "      <td>7</td>\n",
       "      <td>paO2</td>\n",
       "      <td>68.0</td>\n",
       "      <td>5715.0</td>\n",
       "      <td>False</td>\n",
       "      <td>True</td>\n",
       "      <td>False</td>\n",
       "    </tr>\n",
       "    <tr>\n",
       "      <th>12813525</th>\n",
       "      <td>1084184</td>\n",
       "      <td>-1165</td>\n",
       "      <td>7</td>\n",
       "      <td>paO2</td>\n",
       "      <td>88.0</td>\n",
       "      <td>9176.0</td>\n",
       "      <td>False</td>\n",
       "      <td>False</td>\n",
       "      <td>True</td>\n",
       "    </tr>\n",
       "    <tr>\n",
       "      <th>28038485</th>\n",
       "      <td>2705992</td>\n",
       "      <td>-223</td>\n",
       "      <td>1</td>\n",
       "      <td>BUN</td>\n",
       "      <td>46.0</td>\n",
       "      <td>5941.0</td>\n",
       "      <td>False</td>\n",
       "      <td>False</td>\n",
       "      <td>True</td>\n",
       "    </tr>\n",
       "    <tr>\n",
       "      <th>38072265</th>\n",
       "      <td>3245672</td>\n",
       "      <td>-6</td>\n",
       "      <td>3</td>\n",
       "      <td>WBC x 1000</td>\n",
       "      <td>0.3</td>\n",
       "      <td>955.0</td>\n",
       "      <td>False</td>\n",
       "      <td>False</td>\n",
       "      <td>True</td>\n",
       "    </tr>\n",
       "    <tr>\n",
       "      <th>33245802</th>\n",
       "      <td>3036192</td>\n",
       "      <td>-1898</td>\n",
       "      <td>1</td>\n",
       "      <td>glucose</td>\n",
       "      <td>122.0</td>\n",
       "      <td>5444.0</td>\n",
       "      <td>False</td>\n",
       "      <td>False</td>\n",
       "      <td>True</td>\n",
       "    </tr>\n",
       "    <tr>\n",
       "      <th>7899117</th>\n",
       "      <td>817898</td>\n",
       "      <td>604</td>\n",
       "      <td>3</td>\n",
       "      <td>Hct</td>\n",
       "      <td>30.4</td>\n",
       "      <td>617.0</td>\n",
       "      <td>True</td>\n",
       "      <td>False</td>\n",
       "      <td>False</td>\n",
       "    </tr>\n",
       "    <tr>\n",
       "      <th>35057376</th>\n",
       "      <td>3132909</td>\n",
       "      <td>-61</td>\n",
       "      <td>1</td>\n",
       "      <td>glucose</td>\n",
       "      <td>237.0</td>\n",
       "      <td>18276.0</td>\n",
       "      <td>False</td>\n",
       "      <td>False</td>\n",
       "      <td>True</td>\n",
       "    </tr>\n",
       "  </tbody>\n",
       "</table>\n",
       "</div>"
      ],
      "text/plain": [
       "          patientunitstayid  labresultoffset  labtypeid     labname  \\\n",
       "16438009            1450449              -36          3  WBC x 1000   \n",
       "22538003            1828415             -137          7        FiO2   \n",
       "5083998              529632            14570          1     calcium   \n",
       "29551013            2789230               46          7        paO2   \n",
       "12813525            1084184            -1165          7        paO2   \n",
       "28038485            2705992             -223          1         BUN   \n",
       "38072265            3245672               -6          3  WBC x 1000   \n",
       "33245802            3036192            -1898          1     glucose   \n",
       "7899117              817898              604          3         Hct   \n",
       "35057376            3132909              -61          1     glucose   \n",
       "\n",
       "          labresult  event_offset  window  baseline  window2  \n",
       "16438009       12.0          87.0    True     False     True  \n",
       "22538003      100.0           9.0    True     False     True  \n",
       "5083998         8.3       14721.0    True     False    False  \n",
       "29551013       68.0        5715.0   False      True    False  \n",
       "12813525       88.0        9176.0   False     False     True  \n",
       "28038485       46.0        5941.0   False     False     True  \n",
       "38072265        0.3         955.0   False     False     True  \n",
       "33245802      122.0        5444.0   False     False     True  \n",
       "7899117        30.4         617.0    True     False    False  \n",
       "35057376      237.0       18276.0   False     False     True  "
      ]
     },
     "execution_count": 87,
     "metadata": {},
     "output_type": "execute_result"
    }
   ],
   "source": [
    "labs.sample(10)"
   ]
  },
  {
   "cell_type": "code",
   "execution_count": 88,
   "metadata": {},
   "outputs": [],
   "source": [
    "# Extract features\n",
    "def create_lab(lab, period, operation, df):\n",
    "    new_feat = df[(df[period]==True) & (df['labname'].str.contains(lab))]['labresult'].groupby(df['patientunitstayid']).transform(operation)\n",
    "    return new_feat"
   ]
  },
  {
   "cell_type": "code",
   "execution_count": 89,
   "metadata": {},
   "outputs": [],
   "source": [
    "labs['gluc_mean_bl'] = create_lab('glucose', \"baseline\", 'mean', labs)\n",
    "labs['gluc_max_w1'] = create_lab('glucose', \"window\", 'max', labs)\n",
    "labs['gluc_min_w1'] = create_lab('glucose', \"window\", 'min', labs)\n",
    "\n",
    "labs['k_mean_bl'] = create_lab('potassium', \"baseline\", 'mean', labs)\n",
    "labs['k_min_w2'] = create_lab('potassium', \"window2\", 'min', labs)\n",
    "labs['k_max_w2'] = create_lab('potassium', \"window2\", 'max', labs)\n",
    "\n",
    "labs['na_mean_bl'] = create_lab('sodium', \"baseline\", 'mean', labs)\n",
    "labs['na_min_w2'] = create_lab('sodium', \"window2\", 'min', labs)\n",
    "labs['na_max_w2'] = create_lab('sodium', \"window2\", 'max', labs)\n",
    "\n",
    "labs['hgb_mean_bl'] = create_lab('Hgb', \"baseline\", 'mean', labs)\n",
    "labs['hgb_min_w2'] = create_lab('Hgb', \"window2\", 'min', labs)\n",
    "\n",
    "labs['cl_mean_bl'] = create_lab('chloride', \"baseline\", 'mean', labs)\n",
    "labs['cl_min_w2'] = create_lab('chloride', \"window2\", 'min', labs)\n",
    "labs['cl_max_w2'] = create_lab('chloride', \"window2\", 'max', labs)\n",
    "\n",
    "labs['hct_min_w2'] = create_lab('Hct', \"window2\", 'min', labs)\n",
    "\n",
    "labs['crt_min_w2'] = create_lab('creatinine', \"window2\", 'min', labs)\n",
    "labs['crt_mean_w2'] = create_lab('creatinine', \"window2\", 'mean', labs)\n",
    "labs['crt_max_w1'] = create_lab('creatinine', \"window\", 'max', labs)\n",
    "\n",
    "labs['bun_mean_w1'] = create_lab('BUN', \"window\", 'mean', labs)\n",
    "\n",
    "labs['ca_min_w2'] = create_lab('calcium', \"window2\", 'min', labs)\n",
    "labs['ca_max_w2'] = create_lab('calcium', \"window2\", 'max', labs)\n",
    "\n",
    "labs['bicarb_mean_w1'] = create_lab('bicarbonate', \"window\", 'mean', labs)\n",
    "labs['wbc_max_w2'] = create_lab('WBC x 1000', \"window\", 'max', labs)\n",
    "labs['angap_max_w1'] = create_lab('anion gap', \"window\", 'max', labs)\n",
    "labs['angap_max_w2'] = create_lab('anion gap', \"window2\", 'max', labs)\n",
    "\n",
    "\n",
    "labs['hco3_min_w2'] = create_lab('HCO3', \"window2\", 'min', labs)\n",
    "labs['hco3_max_w2'] = create_lab('HCO3', \"window2\", 'max', labs)\n",
    "labs['pao2_min_w2'] = create_lab('paO2', \"window2\", 'min', labs)\n",
    "labs['paco2_max_w2'] = create_lab('paCO2', \"window2\", 'mean', labs)\n",
    "\n",
    "labs['ph_min_w2'] = create_lab('pH', \"window2\", 'min', labs)\n",
    "labs['ph_max_w2'] = create_lab('pH', \"window2\", 'max', labs)\n",
    "labs['inr_max_w2'] = create_lab('PT - INR', \"window2\", 'max', labs)\n",
    "labs['lymphs_max_w2'] = create_lab('-lymphs', \"window2\", 'max', labs)\n",
    "labs['lact_max_w2'] = create_lab('lactate', \"window2\", 'max', labs)\n",
    "labs['alb_min_w2'] = create_lab('albumin', \"window2\", 'min', labs)\n",
    "labs['tbili_max_w2'] = create_lab('total bilirubin', \"window2\", 'max', labs)\n",
    "labs['usg_max_w2'] = create_lab('urinary specific gravity', \"window2\", 'max', labs)\n",
    "labs['fio2_mean_w2'] = create_lab('FiO2', \"window2\", 'mean', labs)\n",
    "labs['plt_min_w2'] = create_lab('platelets x 1000', 'window2', 'min', labs)\n",
    "labs['rbc_max_w2'] = create_lab('RBC', \"window2\", 'max', labs)"
   ]
  },
  {
   "cell_type": "code",
   "execution_count": 90,
   "metadata": {},
   "outputs": [
    {
     "name": "stdout",
     "output_type": "stream",
     "text": [
      "      patientunitstayid: COMPLETE\n",
      "        labresultoffset: COMPLETE\n",
      "              labtypeid: COMPLETE\n",
      "                labname: COMPLETE\n",
      "              labresult: MISSING 3796 VALUES (0.4%)\n",
      "           event_offset: COMPLETE\n",
      "                 window: COMPLETE\n",
      "               baseline: COMPLETE\n",
      "                window2: COMPLETE\n",
      "           gluc_mean_bl: MISSING 1005086 VALUES (97.3%)\n",
      "            gluc_max_w1: MISSING 1018103 VALUES (98.6%)\n",
      "            gluc_min_w1: MISSING 1018103 VALUES (98.6%)\n",
      "              k_mean_bl: MISSING 1020939 VALUES (98.8%)\n",
      "               k_min_w2: MISSING 1005877 VALUES (97.4%)\n",
      "               k_max_w2: MISSING 1005877 VALUES (97.4%)\n",
      "             na_mean_bl: MISSING 1021513 VALUES (98.9%)\n",
      "              na_min_w2: MISSING 1006425 VALUES (97.4%)\n",
      "              na_max_w2: MISSING 1006425 VALUES (97.4%)\n",
      "            hgb_mean_bl: MISSING 1022695 VALUES (99.0%)\n",
      "             hgb_min_w2: MISSING 1007953 VALUES (97.6%)\n",
      "             cl_mean_bl: MISSING 1023363 VALUES (99.1%)\n",
      "              cl_min_w2: MISSING 1009585 VALUES (97.7%)\n",
      "              cl_max_w2: MISSING 1009585 VALUES (97.7%)\n",
      "             hct_min_w2: MISSING 1008016 VALUES (97.6%)\n",
      "             crt_min_w2: MISSING 1009898 VALUES (97.8%)\n",
      "            crt_mean_w2: MISSING 1009898 VALUES (97.8%)\n",
      "             crt_max_w1: MISSING 1028218 VALUES (99.5%)\n",
      "            bun_mean_w1: MISSING 1028240 VALUES (99.5%)\n",
      "              ca_min_w2: MISSING 1011388 VALUES (97.9%)\n",
      "              ca_max_w2: MISSING 1011388 VALUES (97.9%)\n",
      "         bicarb_mean_w1: MISSING 1028495 VALUES (99.6%)\n",
      "             wbc_max_w2: MISSING 1028814 VALUES (99.6%)\n",
      "           angap_max_w1: MISSING 1029231 VALUES (99.6%)\n",
      "           angap_max_w2: MISSING 1014499 VALUES (98.2%)\n",
      "            hco3_min_w2: MISSING 1023516 VALUES (99.1%)\n",
      "            hco3_max_w2: MISSING 1023516 VALUES (99.1%)\n",
      "            pao2_min_w2: MISSING 1022693 VALUES (99.0%)\n",
      "           paco2_max_w2: MISSING 1022811 VALUES (99.0%)\n",
      "              ph_min_w2: MISSING 1022935 VALUES (99.0%)\n",
      "              ph_max_w2: MISSING 1022935 VALUES (99.0%)\n",
      "             inr_max_w2: MISSING 1021984 VALUES (98.9%)\n",
      "          lymphs_max_w2: MISSING 1019195 VALUES (98.7%)\n",
      "            lact_max_w2: MISSING 1025487 VALUES (99.3%)\n",
      "             alb_min_w2: MISSING 1020238 VALUES (98.8%)\n",
      "           tbili_max_w2: MISSING 1021226 VALUES (98.9%)\n",
      "             usg_max_w2: MISSING 1028096 VALUES (99.5%)\n",
      "           fio2_mean_w2: MISSING 1026723 VALUES (99.4%)\n",
      "             plt_min_w2: MISSING 1011182 VALUES (97.9%)\n",
      "             rbc_max_w2: MISSING 1011509 VALUES (97.9%)\n",
      "\n",
      "Total number of items: 1032942\n"
     ]
    }
   ],
   "source": [
    "check_col_complete(labs);"
   ]
  },
  {
   "cell_type": "code",
   "execution_count": 91,
   "metadata": {},
   "outputs": [],
   "source": [
    "labs = labs.groupby(labs['patientunitstayid'].values).transform('max')"
   ]
  },
  {
   "cell_type": "code",
   "execution_count": 92,
   "metadata": {},
   "outputs": [
    {
     "name": "stdout",
     "output_type": "stream",
     "text": [
      "      patientunitstayid: COMPLETE\n",
      "        labresultoffset: COMPLETE\n",
      "              labtypeid: COMPLETE\n",
      "                labname: COMPLETE\n",
      "              labresult: MISSING 13 VALUES (0.0%)\n",
      "           event_offset: COMPLETE\n",
      "                 window: COMPLETE\n",
      "               baseline: COMPLETE\n",
      "                window2: COMPLETE\n",
      "           gluc_mean_bl: MISSING 202768 VALUES (19.6%)\n",
      "            gluc_max_w1: MISSING 389190 VALUES (37.7%)\n",
      "            gluc_min_w1: MISSING 389190 VALUES (37.7%)\n",
      "              k_mean_bl: MISSING 373983 VALUES (36.2%)\n",
      "               k_min_w2: MISSING 144903 VALUES (14.0%)\n",
      "               k_max_w2: MISSING 144903 VALUES (14.0%)\n",
      "             na_mean_bl: MISSING 391065 VALUES (37.9%)\n",
      "              na_min_w2: MISSING 143313 VALUES (13.9%)\n",
      "              na_max_w2: MISSING 143313 VALUES (13.9%)\n",
      "            hgb_mean_bl: MISSING 431281 VALUES (41.8%)\n",
      "             hgb_min_w2: MISSING 148706 VALUES (14.4%)\n",
      "             cl_mean_bl: MISSING 421081 VALUES (40.8%)\n",
      "              cl_min_w2: MISSING 159100 VALUES (15.4%)\n",
      "              cl_max_w2: MISSING 159100 VALUES (15.4%)\n",
      "             hct_min_w2: MISSING 145374 VALUES (14.1%)\n",
      "             crt_min_w2: MISSING 164254 VALUES (15.9%)\n",
      "            crt_mean_w2: MISSING 164254 VALUES (15.9%)\n",
      "             crt_max_w1: MISSING 689217 VALUES (66.7%)\n",
      "            bun_mean_w1: MISSING 689660 VALUES (66.8%)\n",
      "              ca_min_w2: MISSING 199446 VALUES (19.3%)\n",
      "              ca_max_w2: MISSING 199446 VALUES (19.3%)\n",
      "         bicarb_mean_w1: MISSING 705349 VALUES (68.3%)\n",
      "             wbc_max_w2: MISSING 726612 VALUES (70.3%)\n",
      "           angap_max_w1: MISSING 749695 VALUES (72.6%)\n",
      "           angap_max_w2: MISSING 308168 VALUES (29.8%)\n",
      "            hco3_min_w2: MISSING 551378 VALUES (53.4%)\n",
      "            hco3_max_w2: MISSING 551378 VALUES (53.4%)\n",
      "            pao2_min_w2: MISSING 526155 VALUES (50.9%)\n",
      "           paco2_max_w2: MISSING 534067 VALUES (51.7%)\n",
      "              ph_min_w2: MISSING 535339 VALUES (51.8%)\n",
      "              ph_max_w2: MISSING 535339 VALUES (51.8%)\n",
      "             inr_max_w2: MISSING 384769 VALUES (37.2%)\n",
      "          lymphs_max_w2: MISSING 340308 VALUES (32.9%)\n",
      "            lact_max_w2: MISSING 593063 VALUES (57.4%)\n",
      "             alb_min_w2: MISSING 326379 VALUES (31.6%)\n",
      "           tbili_max_w2: MISSING 343929 VALUES (33.3%)\n",
      "             usg_max_w2: MISSING 624491 VALUES (60.5%)\n",
      "           fio2_mean_w2: MISSING 681442 VALUES (66.0%)\n",
      "             plt_min_w2: MISSING 157767 VALUES (15.3%)\n",
      "             rbc_max_w2: MISSING 161619 VALUES (15.6%)\n",
      "\n",
      "Total number of items: 1032942\n"
     ]
    }
   ],
   "source": [
    "check_col_complete(labs);"
   ]
  },
  {
   "cell_type": "code",
   "execution_count": 93,
   "metadata": {},
   "outputs": [],
   "source": [
    "labs['bun_crt_rat'] = labs['bun_mean_w1'] / labs['crt_mean_w2']\n",
    "labs['crt_chg'] = labs['crt_max_w1'] / labs['crt_min_w2']\n",
    "labs['hgb_chg'] = labs['hgb_mean_bl'] - labs['hgb_min_w2']\n",
    "labs['k_chg'] = labs['k_max_w2'] - labs['k_mean_bl']\n",
    "labs['pao2_fio2_rat'] = labs['pao2_min_w2'] / labs['fio2_mean_w2']"
   ]
  },
  {
   "cell_type": "code",
   "execution_count": 94,
   "metadata": {},
   "outputs": [
    {
     "data": {
      "text/plain": [
       "Index(['patientunitstayid', 'labresultoffset', 'labtypeid', 'labname',\n",
       "       'labresult', 'event_offset', 'window', 'baseline', 'window2',\n",
       "       'gluc_mean_bl', 'gluc_max_w1', 'gluc_min_w1', 'k_mean_bl', 'k_min_w2',\n",
       "       'k_max_w2', 'na_mean_bl', 'na_min_w2', 'na_max_w2', 'hgb_mean_bl',\n",
       "       'hgb_min_w2', 'cl_mean_bl', 'cl_min_w2', 'cl_max_w2', 'hct_min_w2',\n",
       "       'crt_min_w2', 'crt_mean_w2', 'crt_max_w1', 'bun_mean_w1', 'ca_min_w2',\n",
       "       'ca_max_w2', 'bicarb_mean_w1', 'wbc_max_w2', 'angap_max_w1',\n",
       "       'angap_max_w2', 'hco3_min_w2', 'hco3_max_w2', 'pao2_min_w2',\n",
       "       'paco2_max_w2', 'ph_min_w2', 'ph_max_w2', 'inr_max_w2', 'lymphs_max_w2',\n",
       "       'lact_max_w2', 'alb_min_w2', 'tbili_max_w2', 'usg_max_w2',\n",
       "       'fio2_mean_w2', 'plt_min_w2', 'rbc_max_w2', 'bun_crt_rat', 'crt_chg',\n",
       "       'hgb_chg', 'k_chg', 'pao2_fio2_rat'],\n",
       "      dtype='object')"
      ]
     },
     "execution_count": 94,
     "metadata": {},
     "output_type": "execute_result"
    }
   ],
   "source": [
    "labs.columns"
   ]
  },
  {
   "cell_type": "code",
   "execution_count": 95,
   "metadata": {},
   "outputs": [
    {
     "data": {
      "text/plain": [
       "1032942"
      ]
     },
     "execution_count": 95,
     "metadata": {},
     "output_type": "execute_result"
    }
   ],
   "source": [
    "len(labs)"
   ]
  },
  {
   "cell_type": "code",
   "execution_count": 96,
   "metadata": {},
   "outputs": [],
   "source": [
    "labs_cols_to_keep = ['patientunitstayid', \n",
    "       'gluc_mean_bl', 'gluc_max_w1', 'gluc_min_w1', 'k_mean_bl', 'k_min_w2',\n",
    "       'k_max_w2', 'na_mean_bl', 'na_min_w2', 'na_max_w2', 'hgb_mean_bl',\n",
    "       'hgb_min_w2', 'cl_mean_bl', 'cl_min_w2', 'cl_max_w2', 'hct_min_w2',\n",
    "       'crt_min_w2', 'crt_mean_w2', 'crt_max_w1', 'bun_mean_w1', 'ca_min_w2',\n",
    "       'ca_max_w2', 'bicarb_mean_w1', 'wbc_max_w2', 'angap_max_w1',\n",
    "       'angap_max_w2', 'hco3_min_w2', 'hco3_max_w2', 'pao2_min_w2',\n",
    "       'paco2_max_w2', 'ph_min_w2', 'ph_max_w2', 'inr_max_w2', 'lymphs_max_w2',\n",
    "       'lact_max_w2', 'alb_min_w2', 'tbili_max_w2', 'usg_max_w2',\n",
    "       'fio2_mean_w2', 'plt_min_w2', 'rbc_max_w2',\n",
    "       'bun_crt_rat', 'crt_chg', 'hgb_chg', 'k_chg', 'pao2_fio2_rat',\n",
    "       ]\n",
    "labs = labs[labs_cols_to_keep]"
   ]
  },
  {
   "cell_type": "code",
   "execution_count": 97,
   "metadata": {},
   "outputs": [
    {
     "data": {
      "text/plain": [
       "1032942"
      ]
     },
     "execution_count": 97,
     "metadata": {},
     "output_type": "execute_result"
    }
   ],
   "source": [
    "len(labs)"
   ]
  },
  {
   "cell_type": "code",
   "execution_count": 98,
   "metadata": {},
   "outputs": [],
   "source": [
    "labs.drop_duplicates(inplace=True)"
   ]
  },
  {
   "cell_type": "code",
   "execution_count": 99,
   "metadata": {},
   "outputs": [
    {
     "name": "stdout",
     "output_type": "stream",
     "text": [
      "      patientunitstayid: COMPLETE\n",
      "           gluc_mean_bl: MISSING 4235 VALUES (26.1%)\n",
      "            gluc_max_w1: MISSING 7389 VALUES (45.5%)\n",
      "            gluc_min_w1: MISSING 7389 VALUES (45.5%)\n",
      "              k_mean_bl: MISSING 7528 VALUES (46.3%)\n",
      "               k_min_w2: MISSING 5058 VALUES (31.1%)\n",
      "               k_max_w2: MISSING 5058 VALUES (31.1%)\n",
      "             na_mean_bl: MISSING 7758 VALUES (47.8%)\n",
      "              na_min_w2: MISSING 5045 VALUES (31.1%)\n",
      "              na_max_w2: MISSING 5045 VALUES (31.1%)\n",
      "            hgb_mean_bl: MISSING 8405 VALUES (51.7%)\n",
      "             hgb_min_w2: MISSING 5056 VALUES (31.1%)\n",
      "             cl_mean_bl: MISSING 8195 VALUES (50.4%)\n",
      "              cl_min_w2: MISSING 5298 VALUES (32.6%)\n",
      "              cl_max_w2: MISSING 5298 VALUES (32.6%)\n",
      "             hct_min_w2: MISSING 4997 VALUES (30.8%)\n",
      "             crt_min_w2: MISSING 5325 VALUES (32.8%)\n",
      "            crt_mean_w2: MISSING 5325 VALUES (32.8%)\n",
      "             crt_max_w1: MISSING 11778 VALUES (72.5%)\n",
      "            bun_mean_w1: MISSING 11792 VALUES (72.6%)\n",
      "              ca_min_w2: MISSING 6092 VALUES (37.5%)\n",
      "              ca_max_w2: MISSING 6092 VALUES (37.5%)\n",
      "         bicarb_mean_w1: MISSING 12060 VALUES (74.2%)\n",
      "             wbc_max_w2: MISSING 12265 VALUES (75.5%)\n",
      "           angap_max_w1: MISSING 12719 VALUES (78.3%)\n",
      "           angap_max_w2: MISSING 7600 VALUES (46.8%)\n",
      "            hco3_min_w2: MISSING 11055 VALUES (68.1%)\n",
      "            hco3_max_w2: MISSING 11055 VALUES (68.1%)\n",
      "            pao2_min_w2: MISSING 10747 VALUES (66.2%)\n",
      "           paco2_max_w2: MISSING 10818 VALUES (66.6%)\n",
      "              ph_min_w2: MISSING 10883 VALUES (67.0%)\n",
      "              ph_max_w2: MISSING 10883 VALUES (67.0%)\n",
      "             inr_max_w2: MISSING 8676 VALUES (53.4%)\n",
      "          lymphs_max_w2: MISSING 7786 VALUES (47.9%)\n",
      "            lact_max_w2: MISSING 11402 VALUES (70.2%)\n",
      "             alb_min_w2: MISSING 8140 VALUES (50.1%)\n",
      "           tbili_max_w2: MISSING 8432 VALUES (51.9%)\n",
      "             usg_max_w2: MISSING 11785 VALUES (72.5%)\n",
      "           fio2_mean_w2: MISSING 12258 VALUES (75.5%)\n",
      "             plt_min_w2: MISSING 5250 VALUES (32.3%)\n",
      "             rbc_max_w2: MISSING 5263 VALUES (32.4%)\n",
      "            bun_crt_rat: MISSING 13053 VALUES (80.4%)\n",
      "                crt_chg: MISSING 13040 VALUES (80.3%)\n",
      "                hgb_chg: MISSING 11421 VALUES (70.3%)\n",
      "                  k_chg: MISSING 10724 VALUES (66.0%)\n",
      "          pao2_fio2_rat: MISSING 12556 VALUES (77.3%)\n",
      "\n",
      "Total number of items: 16245\n"
     ]
    }
   ],
   "source": [
    "check_col_complete(labs);"
   ]
  },
  {
   "cell_type": "code",
   "execution_count": 100,
   "metadata": {},
   "outputs": [
    {
     "data": {
      "text/plain": [
       "38"
      ]
     },
     "execution_count": 100,
     "metadata": {},
     "output_type": "execute_result"
    }
   ],
   "source": [
    "len(labs.dropna())"
   ]
  },
  {
   "cell_type": "markdown",
   "metadata": {},
   "source": [
    "## Aperiodic Vitals"
   ]
  },
  {
   "cell_type": "code",
   "execution_count": 101,
   "metadata": {},
   "outputs": [
    {
     "data": {
      "text/html": [
       "<div>\n",
       "<style scoped>\n",
       "    .dataframe tbody tr th:only-of-type {\n",
       "        vertical-align: middle;\n",
       "    }\n",
       "\n",
       "    .dataframe tbody tr th {\n",
       "        vertical-align: top;\n",
       "    }\n",
       "\n",
       "    .dataframe thead th {\n",
       "        text-align: right;\n",
       "    }\n",
       "</style>\n",
       "<table border=\"1\" class=\"dataframe\">\n",
       "  <thead>\n",
       "    <tr style=\"text-align: right;\">\n",
       "      <th></th>\n",
       "      <th>vitalaperiodicid</th>\n",
       "      <th>patientunitstayid</th>\n",
       "      <th>observationoffset</th>\n",
       "      <th>noninvasivesystolic</th>\n",
       "      <th>noninvasivediastolic</th>\n",
       "      <th>noninvasivemean</th>\n",
       "      <th>paop</th>\n",
       "      <th>cardiacoutput</th>\n",
       "      <th>cardiacinput</th>\n",
       "      <th>svr</th>\n",
       "      <th>svri</th>\n",
       "      <th>pvr</th>\n",
       "      <th>pvri</th>\n",
       "    </tr>\n",
       "  </thead>\n",
       "  <tbody>\n",
       "    <tr>\n",
       "      <th>14120241</th>\n",
       "      <td>286466451</td>\n",
       "      <td>2077877</td>\n",
       "      <td>966</td>\n",
       "      <td>128.0</td>\n",
       "      <td>67.0</td>\n",
       "      <td>77.0</td>\n",
       "      <td>NaN</td>\n",
       "      <td>NaN</td>\n",
       "      <td>NaN</td>\n",
       "      <td>NaN</td>\n",
       "      <td>NaN</td>\n",
       "      <td>NaN</td>\n",
       "      <td>NaN</td>\n",
       "    </tr>\n",
       "    <tr>\n",
       "      <th>9452455</th>\n",
       "      <td>201989994</td>\n",
       "      <td>1353592</td>\n",
       "      <td>29</td>\n",
       "      <td>68.0</td>\n",
       "      <td>55.0</td>\n",
       "      <td>60.0</td>\n",
       "      <td>NaN</td>\n",
       "      <td>NaN</td>\n",
       "      <td>NaN</td>\n",
       "      <td>NaN</td>\n",
       "      <td>NaN</td>\n",
       "      <td>NaN</td>\n",
       "      <td>NaN</td>\n",
       "    </tr>\n",
       "    <tr>\n",
       "      <th>9464546</th>\n",
       "      <td>199145642</td>\n",
       "      <td>1356344</td>\n",
       "      <td>250</td>\n",
       "      <td>138.0</td>\n",
       "      <td>75.0</td>\n",
       "      <td>91.0</td>\n",
       "      <td>NaN</td>\n",
       "      <td>NaN</td>\n",
       "      <td>NaN</td>\n",
       "      <td>NaN</td>\n",
       "      <td>NaN</td>\n",
       "      <td>NaN</td>\n",
       "      <td>NaN</td>\n",
       "    </tr>\n",
       "    <tr>\n",
       "      <th>10065086</th>\n",
       "      <td>217502352</td>\n",
       "      <td>1549100</td>\n",
       "      <td>608</td>\n",
       "      <td>110.0</td>\n",
       "      <td>58.0</td>\n",
       "      <td>70.0</td>\n",
       "      <td>NaN</td>\n",
       "      <td>NaN</td>\n",
       "      <td>NaN</td>\n",
       "      <td>NaN</td>\n",
       "      <td>NaN</td>\n",
       "      <td>NaN</td>\n",
       "      <td>NaN</td>\n",
       "    </tr>\n",
       "    <tr>\n",
       "      <th>8495003</th>\n",
       "      <td>186595707</td>\n",
       "      <td>1162039</td>\n",
       "      <td>443</td>\n",
       "      <td>74.0</td>\n",
       "      <td>44.0</td>\n",
       "      <td>52.0</td>\n",
       "      <td>NaN</td>\n",
       "      <td>NaN</td>\n",
       "      <td>NaN</td>\n",
       "      <td>NaN</td>\n",
       "      <td>NaN</td>\n",
       "      <td>NaN</td>\n",
       "      <td>NaN</td>\n",
       "    </tr>\n",
       "  </tbody>\n",
       "</table>\n",
       "</div>"
      ],
      "text/plain": [
       "          vitalaperiodicid  patientunitstayid  observationoffset  \\\n",
       "14120241         286466451            2077877                966   \n",
       "9452455          201989994            1353592                 29   \n",
       "9464546          199145642            1356344                250   \n",
       "10065086         217502352            1549100                608   \n",
       "8495003          186595707            1162039                443   \n",
       "\n",
       "          noninvasivesystolic  noninvasivediastolic  noninvasivemean  paop  \\\n",
       "14120241                128.0                  67.0             77.0   NaN   \n",
       "9452455                  68.0                  55.0             60.0   NaN   \n",
       "9464546                 138.0                  75.0             91.0   NaN   \n",
       "10065086                110.0                  58.0             70.0   NaN   \n",
       "8495003                  74.0                  44.0             52.0   NaN   \n",
       "\n",
       "          cardiacoutput  cardiacinput  svr  svri  pvr  pvri  \n",
       "14120241            NaN           NaN  NaN   NaN  NaN   NaN  \n",
       "9452455             NaN           NaN  NaN   NaN  NaN   NaN  \n",
       "9464546             NaN           NaN  NaN   NaN  NaN   NaN  \n",
       "10065086            NaN           NaN  NaN   NaN  NaN   NaN  \n",
       "8495003             NaN           NaN  NaN   NaN  NaN   NaN  "
      ]
     },
     "execution_count": 101,
     "metadata": {},
     "output_type": "execute_result"
    }
   ],
   "source": [
    "vitals2 = pd.read_csv(data_path + 'vitalAperiodic.csv')\n",
    "vitals2.sample(5)"
   ]
  },
  {
   "cell_type": "code",
   "execution_count": 102,
   "metadata": {},
   "outputs": [],
   "source": [
    "# # Reduce the size of the dataframe.\n",
    "vitals2 = vitals2[vitals2['patientunitstayid'].isin(dx_offset_dict)]"
   ]
  },
  {
   "cell_type": "code",
   "execution_count": 103,
   "metadata": {},
   "outputs": [
    {
     "name": "stdout",
     "output_type": "stream",
     "text": [
      "       vitalaperiodicid: COMPLETE\n",
      "      patientunitstayid: COMPLETE\n",
      "      observationoffset: COMPLETE\n",
      "    noninvasivesystolic: MISSING 335374 VALUES (10.0%)\n",
      "   noninvasivediastolic: MISSING 334848 VALUES (9.9%)\n",
      "        noninvasivemean: MISSING 311040 VALUES (9.2%)\n",
      "                   paop: MISSING 3364185 VALUES (99.8%)\n",
      "          cardiacoutput: MISSING 3263455 VALUES (96.8%)\n",
      "           cardiacinput: MISSING 3351104 VALUES (99.4%)\n",
      "                    svr: MISSING 3159304 VALUES (93.7%)\n",
      "                   svri: MISSING 3343067 VALUES (99.2%)\n",
      "                    pvr: MISSING 3367087 VALUES (99.9%)\n",
      "                   pvri: MISSING 3367112 VALUES (99.9%)\n",
      "\n",
      "Total number of items: 3369979\n"
     ]
    }
   ],
   "source": [
    "check_col_complete(vitals2);"
   ]
  },
  {
   "cell_type": "code",
   "execution_count": 104,
   "metadata": {},
   "outputs": [
    {
     "data": {
      "text/html": [
       "<div>\n",
       "<style scoped>\n",
       "    .dataframe tbody tr th:only-of-type {\n",
       "        vertical-align: middle;\n",
       "    }\n",
       "\n",
       "    .dataframe tbody tr th {\n",
       "        vertical-align: top;\n",
       "    }\n",
       "\n",
       "    .dataframe thead th {\n",
       "        text-align: right;\n",
       "    }\n",
       "</style>\n",
       "<table border=\"1\" class=\"dataframe\">\n",
       "  <thead>\n",
       "    <tr style=\"text-align: right;\">\n",
       "      <th></th>\n",
       "      <th>vitalaperiodicid</th>\n",
       "      <th>patientunitstayid</th>\n",
       "      <th>observationoffset</th>\n",
       "      <th>noninvasivesystolic</th>\n",
       "      <th>noninvasivediastolic</th>\n",
       "      <th>noninvasivemean</th>\n",
       "      <th>paop</th>\n",
       "      <th>cardiacoutput</th>\n",
       "      <th>cardiacinput</th>\n",
       "      <th>svr</th>\n",
       "      <th>svri</th>\n",
       "      <th>pvr</th>\n",
       "      <th>pvri</th>\n",
       "    </tr>\n",
       "  </thead>\n",
       "  <tbody>\n",
       "    <tr>\n",
       "      <th>0</th>\n",
       "      <td>4295739</td>\n",
       "      <td>141168</td>\n",
       "      <td>349</td>\n",
       "      <td>NaN</td>\n",
       "      <td>NaN</td>\n",
       "      <td>79.0</td>\n",
       "      <td>NaN</td>\n",
       "      <td>NaN</td>\n",
       "      <td>NaN</td>\n",
       "      <td>NaN</td>\n",
       "      <td>NaN</td>\n",
       "      <td>NaN</td>\n",
       "      <td>NaN</td>\n",
       "    </tr>\n",
       "    <tr>\n",
       "      <th>1</th>\n",
       "      <td>4295737</td>\n",
       "      <td>141168</td>\n",
       "      <td>123</td>\n",
       "      <td>106.0</td>\n",
       "      <td>68.0</td>\n",
       "      <td>81.0</td>\n",
       "      <td>NaN</td>\n",
       "      <td>NaN</td>\n",
       "      <td>NaN</td>\n",
       "      <td>NaN</td>\n",
       "      <td>NaN</td>\n",
       "      <td>NaN</td>\n",
       "      <td>NaN</td>\n",
       "    </tr>\n",
       "    <tr>\n",
       "      <th>2</th>\n",
       "      <td>4295741</td>\n",
       "      <td>141168</td>\n",
       "      <td>1398</td>\n",
       "      <td>NaN</td>\n",
       "      <td>NaN</td>\n",
       "      <td>27.0</td>\n",
       "      <td>NaN</td>\n",
       "      <td>NaN</td>\n",
       "      <td>NaN</td>\n",
       "      <td>NaN</td>\n",
       "      <td>NaN</td>\n",
       "      <td>NaN</td>\n",
       "      <td>NaN</td>\n",
       "    </tr>\n",
       "    <tr>\n",
       "      <th>3</th>\n",
       "      <td>4295740</td>\n",
       "      <td>141168</td>\n",
       "      <td>441</td>\n",
       "      <td>NaN</td>\n",
       "      <td>NaN</td>\n",
       "      <td>62.0</td>\n",
       "      <td>NaN</td>\n",
       "      <td>NaN</td>\n",
       "      <td>NaN</td>\n",
       "      <td>NaN</td>\n",
       "      <td>NaN</td>\n",
       "      <td>NaN</td>\n",
       "      <td>NaN</td>\n",
       "    </tr>\n",
       "    <tr>\n",
       "      <th>4</th>\n",
       "      <td>4295738</td>\n",
       "      <td>141168</td>\n",
       "      <td>138</td>\n",
       "      <td>111.0</td>\n",
       "      <td>62.0</td>\n",
       "      <td>82.0</td>\n",
       "      <td>NaN</td>\n",
       "      <td>NaN</td>\n",
       "      <td>NaN</td>\n",
       "      <td>NaN</td>\n",
       "      <td>NaN</td>\n",
       "      <td>NaN</td>\n",
       "      <td>NaN</td>\n",
       "    </tr>\n",
       "  </tbody>\n",
       "</table>\n",
       "</div>"
      ],
      "text/plain": [
       "   vitalaperiodicid  patientunitstayid  observationoffset  \\\n",
       "0           4295739             141168                349   \n",
       "1           4295737             141168                123   \n",
       "2           4295741             141168               1398   \n",
       "3           4295740             141168                441   \n",
       "4           4295738             141168                138   \n",
       "\n",
       "   noninvasivesystolic  noninvasivediastolic  noninvasivemean  paop  \\\n",
       "0                  NaN                   NaN             79.0   NaN   \n",
       "1                106.0                  68.0             81.0   NaN   \n",
       "2                  NaN                   NaN             27.0   NaN   \n",
       "3                  NaN                   NaN             62.0   NaN   \n",
       "4                111.0                  62.0             82.0   NaN   \n",
       "\n",
       "   cardiacoutput  cardiacinput  svr  svri  pvr  pvri  \n",
       "0            NaN           NaN  NaN   NaN  NaN   NaN  \n",
       "1            NaN           NaN  NaN   NaN  NaN   NaN  \n",
       "2            NaN           NaN  NaN   NaN  NaN   NaN  \n",
       "3            NaN           NaN  NaN   NaN  NaN   NaN  \n",
       "4            NaN           NaN  NaN   NaN  NaN   NaN  "
      ]
     },
     "execution_count": 104,
     "metadata": {},
     "output_type": "execute_result"
    }
   ],
   "source": [
    "vitals2.head()"
   ]
  },
  {
   "cell_type": "code",
   "execution_count": 105,
   "metadata": {},
   "outputs": [],
   "source": [
    "vitals2['event_offset'] = vitals2['patientunitstayid'].apply(lambda x: dx_offset_dict[x] if x in dx_offset_dict else 0)"
   ]
  },
  {
   "cell_type": "code",
   "execution_count": 106,
   "metadata": {},
   "outputs": [],
   "source": [
    "vitals2[\"window\"] = vitals2['observationoffset'].between(\n",
    "    vitals2['event_offset'] - parameters['window'][0], vitals2['event_offset'] - parameters['window'][1])\n",
    "vitals2[\"baseline\"] = vitals2['observationoffset'].between(*parameters['baseline'])"
   ]
  },
  {
   "cell_type": "code",
   "execution_count": 107,
   "metadata": {},
   "outputs": [],
   "source": [
    "vitals2 = vitals2[vitals2.window | vitals2.baseline]"
   ]
  },
  {
   "cell_type": "code",
   "execution_count": 108,
   "metadata": {},
   "outputs": [],
   "source": [
    "vitals2.drop(['vitalaperiodicid', 'paop', 'cardiacoutput', 'cardiacinput', 'svr', 'svri', 'pvr', 'pvri'], axis=1, inplace=True)"
   ]
  },
  {
   "cell_type": "code",
   "execution_count": 109,
   "metadata": {},
   "outputs": [
    {
     "data": {
      "text/html": [
       "<div>\n",
       "<style scoped>\n",
       "    .dataframe tbody tr th:only-of-type {\n",
       "        vertical-align: middle;\n",
       "    }\n",
       "\n",
       "    .dataframe tbody tr th {\n",
       "        vertical-align: top;\n",
       "    }\n",
       "\n",
       "    .dataframe thead th {\n",
       "        text-align: right;\n",
       "    }\n",
       "</style>\n",
       "<table border=\"1\" class=\"dataframe\">\n",
       "  <thead>\n",
       "    <tr style=\"text-align: right;\">\n",
       "      <th></th>\n",
       "      <th>patientunitstayid</th>\n",
       "      <th>observationoffset</th>\n",
       "      <th>noninvasivesystolic</th>\n",
       "      <th>noninvasivediastolic</th>\n",
       "      <th>noninvasivemean</th>\n",
       "      <th>event_offset</th>\n",
       "      <th>window</th>\n",
       "      <th>baseline</th>\n",
       "    </tr>\n",
       "  </thead>\n",
       "  <tbody>\n",
       "    <tr>\n",
       "      <th>19527771</th>\n",
       "      <td>2886590</td>\n",
       "      <td>98</td>\n",
       "      <td>174.0</td>\n",
       "      <td>87.0</td>\n",
       "      <td>109.0</td>\n",
       "      <td>50.0</td>\n",
       "      <td>False</td>\n",
       "      <td>True</td>\n",
       "    </tr>\n",
       "    <tr>\n",
       "      <th>2146558</th>\n",
       "      <td>349313</td>\n",
       "      <td>2303</td>\n",
       "      <td>86.0</td>\n",
       "      <td>64.0</td>\n",
       "      <td>69.0</td>\n",
       "      <td>2401.0</td>\n",
       "      <td>True</td>\n",
       "      <td>False</td>\n",
       "    </tr>\n",
       "    <tr>\n",
       "      <th>4972923</th>\n",
       "      <td>768101</td>\n",
       "      <td>3011</td>\n",
       "      <td>130.0</td>\n",
       "      <td>62.0</td>\n",
       "      <td>78.0</td>\n",
       "      <td>3223.0</td>\n",
       "      <td>True</td>\n",
       "      <td>False</td>\n",
       "    </tr>\n",
       "    <tr>\n",
       "      <th>18497530</th>\n",
       "      <td>2793461</td>\n",
       "      <td>5183</td>\n",
       "      <td>124.0</td>\n",
       "      <td>60.0</td>\n",
       "      <td>69.0</td>\n",
       "      <td>5196.0</td>\n",
       "      <td>True</td>\n",
       "      <td>False</td>\n",
       "    </tr>\n",
       "    <tr>\n",
       "      <th>24669797</th>\n",
       "      <td>3330658</td>\n",
       "      <td>137</td>\n",
       "      <td>88.0</td>\n",
       "      <td>62.0</td>\n",
       "      <td>69.0</td>\n",
       "      <td>143.0</td>\n",
       "      <td>True</td>\n",
       "      <td>True</td>\n",
       "    </tr>\n",
       "  </tbody>\n",
       "</table>\n",
       "</div>"
      ],
      "text/plain": [
       "          patientunitstayid  observationoffset  noninvasivesystolic  \\\n",
       "19527771            2886590                 98                174.0   \n",
       "2146558              349313               2303                 86.0   \n",
       "4972923              768101               3011                130.0   \n",
       "18497530            2793461               5183                124.0   \n",
       "24669797            3330658                137                 88.0   \n",
       "\n",
       "          noninvasivediastolic  noninvasivemean  event_offset  window  \\\n",
       "19527771                  87.0            109.0          50.0   False   \n",
       "2146558                   64.0             69.0        2401.0    True   \n",
       "4972923                   62.0             78.0        3223.0    True   \n",
       "18497530                  60.0             69.0        5196.0    True   \n",
       "24669797                  62.0             69.0         143.0    True   \n",
       "\n",
       "          baseline  \n",
       "19527771      True  \n",
       "2146558      False  \n",
       "4972923      False  \n",
       "18497530     False  \n",
       "24669797      True  "
      ]
     },
     "execution_count": 109,
     "metadata": {},
     "output_type": "execute_result"
    }
   ],
   "source": [
    "vitals2.sample(5)"
   ]
  },
  {
   "cell_type": "code",
   "execution_count": 110,
   "metadata": {},
   "outputs": [],
   "source": [
    "# Extract features\n",
    "\n",
    "vitals2['noninv_mean_w1'] = create_feature('noninvasivemean', \"window\", 'mean', vitals2)\n",
    "vitals2['noninv_mean_bl'] = create_feature('noninvasivemean', \"baseline\", 'mean', vitals2)\n",
    "\n",
    "vitals2['noninv_syst_max_wl'] = create_feature('noninvasivesystolic', \"window\", 'max', vitals2)\n",
    "vitals2['noninv_syst_min_wl'] = create_feature('noninvasivesystolic', \"window\", 'min', vitals2)\n",
    "\n",
    "vitals2['noninv_dias_max_wl'] = create_feature('noninvasivediastolic', \"window\", 'max', vitals2)\n",
    "vitals2['noninv_dias_min_wl'] = create_feature('noninvasivediastolic', \"window\", 'min', vitals2)"
   ]
  },
  {
   "cell_type": "code",
   "execution_count": 111,
   "metadata": {},
   "outputs": [
    {
     "data": {
      "text/html": [
       "<div>\n",
       "<style scoped>\n",
       "    .dataframe tbody tr th:only-of-type {\n",
       "        vertical-align: middle;\n",
       "    }\n",
       "\n",
       "    .dataframe tbody tr th {\n",
       "        vertical-align: top;\n",
       "    }\n",
       "\n",
       "    .dataframe thead th {\n",
       "        text-align: right;\n",
       "    }\n",
       "</style>\n",
       "<table border=\"1\" class=\"dataframe\">\n",
       "  <thead>\n",
       "    <tr style=\"text-align: right;\">\n",
       "      <th></th>\n",
       "      <th>patientunitstayid</th>\n",
       "      <th>observationoffset</th>\n",
       "      <th>noninvasivesystolic</th>\n",
       "      <th>noninvasivediastolic</th>\n",
       "      <th>noninvasivemean</th>\n",
       "      <th>event_offset</th>\n",
       "      <th>window</th>\n",
       "      <th>baseline</th>\n",
       "      <th>noninv_mean_w1</th>\n",
       "      <th>noninv_mean_bl</th>\n",
       "      <th>noninv_syst_max_wl</th>\n",
       "      <th>noninv_syst_min_wl</th>\n",
       "      <th>noninv_dias_max_wl</th>\n",
       "      <th>noninv_dias_min_wl</th>\n",
       "    </tr>\n",
       "  </thead>\n",
       "  <tbody>\n",
       "    <tr>\n",
       "      <th>16132486</th>\n",
       "      <td>2460014</td>\n",
       "      <td>193</td>\n",
       "      <td>103.0</td>\n",
       "      <td>64.0</td>\n",
       "      <td>76.0</td>\n",
       "      <td>29.0</td>\n",
       "      <td>False</td>\n",
       "      <td>True</td>\n",
       "      <td>NaN</td>\n",
       "      <td>84.040000</td>\n",
       "      <td>NaN</td>\n",
       "      <td>NaN</td>\n",
       "      <td>NaN</td>\n",
       "      <td>NaN</td>\n",
       "    </tr>\n",
       "    <tr>\n",
       "      <th>4531764</th>\n",
       "      <td>690068</td>\n",
       "      <td>340</td>\n",
       "      <td>109.0</td>\n",
       "      <td>66.0</td>\n",
       "      <td>75.0</td>\n",
       "      <td>18.0</td>\n",
       "      <td>False</td>\n",
       "      <td>True</td>\n",
       "      <td>NaN</td>\n",
       "      <td>70.142857</td>\n",
       "      <td>NaN</td>\n",
       "      <td>NaN</td>\n",
       "      <td>NaN</td>\n",
       "      <td>NaN</td>\n",
       "    </tr>\n",
       "    <tr>\n",
       "      <th>23117880</th>\n",
       "      <td>3131270</td>\n",
       "      <td>58</td>\n",
       "      <td>141.0</td>\n",
       "      <td>55.0</td>\n",
       "      <td>77.0</td>\n",
       "      <td>2705.0</td>\n",
       "      <td>False</td>\n",
       "      <td>True</td>\n",
       "      <td>NaN</td>\n",
       "      <td>85.777778</td>\n",
       "      <td>NaN</td>\n",
       "      <td>NaN</td>\n",
       "      <td>NaN</td>\n",
       "      <td>NaN</td>\n",
       "    </tr>\n",
       "    <tr>\n",
       "      <th>3686753</th>\n",
       "      <td>519526</td>\n",
       "      <td>317</td>\n",
       "      <td>115.0</td>\n",
       "      <td>84.0</td>\n",
       "      <td>91.0</td>\n",
       "      <td>10660.0</td>\n",
       "      <td>False</td>\n",
       "      <td>True</td>\n",
       "      <td>NaN</td>\n",
       "      <td>86.761905</td>\n",
       "      <td>NaN</td>\n",
       "      <td>NaN</td>\n",
       "      <td>NaN</td>\n",
       "      <td>NaN</td>\n",
       "    </tr>\n",
       "    <tr>\n",
       "      <th>15049444</th>\n",
       "      <td>2289432</td>\n",
       "      <td>344</td>\n",
       "      <td>133.0</td>\n",
       "      <td>79.0</td>\n",
       "      <td>101.0</td>\n",
       "      <td>57.0</td>\n",
       "      <td>False</td>\n",
       "      <td>True</td>\n",
       "      <td>NaN</td>\n",
       "      <td>92.608696</td>\n",
       "      <td>NaN</td>\n",
       "      <td>NaN</td>\n",
       "      <td>NaN</td>\n",
       "      <td>NaN</td>\n",
       "    </tr>\n",
       "    <tr>\n",
       "      <th>5065715</th>\n",
       "      <td>787147</td>\n",
       "      <td>190</td>\n",
       "      <td>99.0</td>\n",
       "      <td>74.0</td>\n",
       "      <td>80.0</td>\n",
       "      <td>5075.0</td>\n",
       "      <td>False</td>\n",
       "      <td>True</td>\n",
       "      <td>NaN</td>\n",
       "      <td>84.407407</td>\n",
       "      <td>NaN</td>\n",
       "      <td>NaN</td>\n",
       "      <td>NaN</td>\n",
       "      <td>NaN</td>\n",
       "    </tr>\n",
       "    <tr>\n",
       "      <th>412791</th>\n",
       "      <td>178663</td>\n",
       "      <td>177</td>\n",
       "      <td>84.0</td>\n",
       "      <td>48.0</td>\n",
       "      <td>61.0</td>\n",
       "      <td>117.0</td>\n",
       "      <td>False</td>\n",
       "      <td>True</td>\n",
       "      <td>NaN</td>\n",
       "      <td>64.333333</td>\n",
       "      <td>NaN</td>\n",
       "      <td>NaN</td>\n",
       "      <td>NaN</td>\n",
       "      <td>NaN</td>\n",
       "    </tr>\n",
       "    <tr>\n",
       "      <th>20189642</th>\n",
       "      <td>2922143</td>\n",
       "      <td>184</td>\n",
       "      <td>100.0</td>\n",
       "      <td>60.0</td>\n",
       "      <td>71.0</td>\n",
       "      <td>25.0</td>\n",
       "      <td>False</td>\n",
       "      <td>True</td>\n",
       "      <td>NaN</td>\n",
       "      <td>69.157895</td>\n",
       "      <td>NaN</td>\n",
       "      <td>NaN</td>\n",
       "      <td>NaN</td>\n",
       "      <td>NaN</td>\n",
       "    </tr>\n",
       "    <tr>\n",
       "      <th>9427424</th>\n",
       "      <td>1348518</td>\n",
       "      <td>157</td>\n",
       "      <td>90.0</td>\n",
       "      <td>57.0</td>\n",
       "      <td>64.0</td>\n",
       "      <td>17666.0</td>\n",
       "      <td>False</td>\n",
       "      <td>True</td>\n",
       "      <td>NaN</td>\n",
       "      <td>60.518519</td>\n",
       "      <td>NaN</td>\n",
       "      <td>NaN</td>\n",
       "      <td>NaN</td>\n",
       "      <td>NaN</td>\n",
       "    </tr>\n",
       "    <tr>\n",
       "      <th>4930263</th>\n",
       "      <td>760891</td>\n",
       "      <td>126</td>\n",
       "      <td>132.0</td>\n",
       "      <td>97.0</td>\n",
       "      <td>105.0</td>\n",
       "      <td>1854.0</td>\n",
       "      <td>False</td>\n",
       "      <td>True</td>\n",
       "      <td>NaN</td>\n",
       "      <td>81.117647</td>\n",
       "      <td>NaN</td>\n",
       "      <td>NaN</td>\n",
       "      <td>NaN</td>\n",
       "      <td>NaN</td>\n",
       "    </tr>\n",
       "    <tr>\n",
       "      <th>22395200</th>\n",
       "      <td>3057992</td>\n",
       "      <td>48</td>\n",
       "      <td>NaN</td>\n",
       "      <td>NaN</td>\n",
       "      <td>131.0</td>\n",
       "      <td>6462.0</td>\n",
       "      <td>False</td>\n",
       "      <td>True</td>\n",
       "      <td>NaN</td>\n",
       "      <td>109.194444</td>\n",
       "      <td>NaN</td>\n",
       "      <td>NaN</td>\n",
       "      <td>NaN</td>\n",
       "      <td>NaN</td>\n",
       "    </tr>\n",
       "    <tr>\n",
       "      <th>19539401</th>\n",
       "      <td>2887371</td>\n",
       "      <td>321</td>\n",
       "      <td>NaN</td>\n",
       "      <td>NaN</td>\n",
       "      <td>NaN</td>\n",
       "      <td>35.0</td>\n",
       "      <td>False</td>\n",
       "      <td>True</td>\n",
       "      <td>NaN</td>\n",
       "      <td>NaN</td>\n",
       "      <td>NaN</td>\n",
       "      <td>NaN</td>\n",
       "      <td>NaN</td>\n",
       "      <td>NaN</td>\n",
       "    </tr>\n",
       "    <tr>\n",
       "      <th>2706272</th>\n",
       "      <td>389846</td>\n",
       "      <td>342</td>\n",
       "      <td>108.0</td>\n",
       "      <td>88.0</td>\n",
       "      <td>94.0</td>\n",
       "      <td>9036.0</td>\n",
       "      <td>False</td>\n",
       "      <td>True</td>\n",
       "      <td>NaN</td>\n",
       "      <td>70.576923</td>\n",
       "      <td>NaN</td>\n",
       "      <td>NaN</td>\n",
       "      <td>NaN</td>\n",
       "      <td>NaN</td>\n",
       "    </tr>\n",
       "    <tr>\n",
       "      <th>11832776</th>\n",
       "      <td>1696576</td>\n",
       "      <td>327</td>\n",
       "      <td>NaN</td>\n",
       "      <td>NaN</td>\n",
       "      <td>NaN</td>\n",
       "      <td>277.0</td>\n",
       "      <td>False</td>\n",
       "      <td>True</td>\n",
       "      <td>NaN</td>\n",
       "      <td>NaN</td>\n",
       "      <td>NaN</td>\n",
       "      <td>NaN</td>\n",
       "      <td>NaN</td>\n",
       "      <td>NaN</td>\n",
       "    </tr>\n",
       "    <tr>\n",
       "      <th>14039083</th>\n",
       "      <td>2057084</td>\n",
       "      <td>233</td>\n",
       "      <td>137.0</td>\n",
       "      <td>65.0</td>\n",
       "      <td>83.0</td>\n",
       "      <td>63.0</td>\n",
       "      <td>False</td>\n",
       "      <td>True</td>\n",
       "      <td>NaN</td>\n",
       "      <td>71.160000</td>\n",
       "      <td>NaN</td>\n",
       "      <td>NaN</td>\n",
       "      <td>NaN</td>\n",
       "      <td>NaN</td>\n",
       "    </tr>\n",
       "    <tr>\n",
       "      <th>19073586</th>\n",
       "      <td>2847523</td>\n",
       "      <td>2</td>\n",
       "      <td>101.0</td>\n",
       "      <td>27.0</td>\n",
       "      <td>44.0</td>\n",
       "      <td>614.0</td>\n",
       "      <td>False</td>\n",
       "      <td>True</td>\n",
       "      <td>NaN</td>\n",
       "      <td>54.378378</td>\n",
       "      <td>NaN</td>\n",
       "      <td>NaN</td>\n",
       "      <td>NaN</td>\n",
       "      <td>NaN</td>\n",
       "    </tr>\n",
       "    <tr>\n",
       "      <th>9117825</th>\n",
       "      <td>1287072</td>\n",
       "      <td>292</td>\n",
       "      <td>135.0</td>\n",
       "      <td>65.0</td>\n",
       "      <td>90.0</td>\n",
       "      <td>1220.0</td>\n",
       "      <td>False</td>\n",
       "      <td>True</td>\n",
       "      <td>NaN</td>\n",
       "      <td>85.571429</td>\n",
       "      <td>NaN</td>\n",
       "      <td>NaN</td>\n",
       "      <td>NaN</td>\n",
       "      <td>NaN</td>\n",
       "    </tr>\n",
       "    <tr>\n",
       "      <th>17945006</th>\n",
       "      <td>2745820</td>\n",
       "      <td>161</td>\n",
       "      <td>115.0</td>\n",
       "      <td>66.0</td>\n",
       "      <td>78.0</td>\n",
       "      <td>1907.0</td>\n",
       "      <td>False</td>\n",
       "      <td>True</td>\n",
       "      <td>NaN</td>\n",
       "      <td>69.200000</td>\n",
       "      <td>NaN</td>\n",
       "      <td>NaN</td>\n",
       "      <td>NaN</td>\n",
       "      <td>NaN</td>\n",
       "    </tr>\n",
       "    <tr>\n",
       "      <th>21923629</th>\n",
       "      <td>3023235</td>\n",
       "      <td>242</td>\n",
       "      <td>93.0</td>\n",
       "      <td>63.0</td>\n",
       "      <td>71.0</td>\n",
       "      <td>4539.0</td>\n",
       "      <td>False</td>\n",
       "      <td>True</td>\n",
       "      <td>NaN</td>\n",
       "      <td>69.498168</td>\n",
       "      <td>NaN</td>\n",
       "      <td>NaN</td>\n",
       "      <td>NaN</td>\n",
       "      <td>NaN</td>\n",
       "    </tr>\n",
       "    <tr>\n",
       "      <th>10575452</th>\n",
       "      <td>1579198</td>\n",
       "      <td>214</td>\n",
       "      <td>104.0</td>\n",
       "      <td>62.0</td>\n",
       "      <td>71.0</td>\n",
       "      <td>1826.0</td>\n",
       "      <td>False</td>\n",
       "      <td>True</td>\n",
       "      <td>NaN</td>\n",
       "      <td>66.039216</td>\n",
       "      <td>NaN</td>\n",
       "      <td>NaN</td>\n",
       "      <td>NaN</td>\n",
       "      <td>NaN</td>\n",
       "    </tr>\n",
       "  </tbody>\n",
       "</table>\n",
       "</div>"
      ],
      "text/plain": [
       "          patientunitstayid  observationoffset  noninvasivesystolic  \\\n",
       "16132486            2460014                193                103.0   \n",
       "4531764              690068                340                109.0   \n",
       "23117880            3131270                 58                141.0   \n",
       "3686753              519526                317                115.0   \n",
       "15049444            2289432                344                133.0   \n",
       "5065715              787147                190                 99.0   \n",
       "412791               178663                177                 84.0   \n",
       "20189642            2922143                184                100.0   \n",
       "9427424             1348518                157                 90.0   \n",
       "4930263              760891                126                132.0   \n",
       "22395200            3057992                 48                  NaN   \n",
       "19539401            2887371                321                  NaN   \n",
       "2706272              389846                342                108.0   \n",
       "11832776            1696576                327                  NaN   \n",
       "14039083            2057084                233                137.0   \n",
       "19073586            2847523                  2                101.0   \n",
       "9117825             1287072                292                135.0   \n",
       "17945006            2745820                161                115.0   \n",
       "21923629            3023235                242                 93.0   \n",
       "10575452            1579198                214                104.0   \n",
       "\n",
       "          noninvasivediastolic  noninvasivemean  event_offset  window  \\\n",
       "16132486                  64.0             76.0          29.0   False   \n",
       "4531764                   66.0             75.0          18.0   False   \n",
       "23117880                  55.0             77.0        2705.0   False   \n",
       "3686753                   84.0             91.0       10660.0   False   \n",
       "15049444                  79.0            101.0          57.0   False   \n",
       "5065715                   74.0             80.0        5075.0   False   \n",
       "412791                    48.0             61.0         117.0   False   \n",
       "20189642                  60.0             71.0          25.0   False   \n",
       "9427424                   57.0             64.0       17666.0   False   \n",
       "4930263                   97.0            105.0        1854.0   False   \n",
       "22395200                   NaN            131.0        6462.0   False   \n",
       "19539401                   NaN              NaN          35.0   False   \n",
       "2706272                   88.0             94.0        9036.0   False   \n",
       "11832776                   NaN              NaN         277.0   False   \n",
       "14039083                  65.0             83.0          63.0   False   \n",
       "19073586                  27.0             44.0         614.0   False   \n",
       "9117825                   65.0             90.0        1220.0   False   \n",
       "17945006                  66.0             78.0        1907.0   False   \n",
       "21923629                  63.0             71.0        4539.0   False   \n",
       "10575452                  62.0             71.0        1826.0   False   \n",
       "\n",
       "          baseline  noninv_mean_w1  noninv_mean_bl  noninv_syst_max_wl  \\\n",
       "16132486      True             NaN       84.040000                 NaN   \n",
       "4531764       True             NaN       70.142857                 NaN   \n",
       "23117880      True             NaN       85.777778                 NaN   \n",
       "3686753       True             NaN       86.761905                 NaN   \n",
       "15049444      True             NaN       92.608696                 NaN   \n",
       "5065715       True             NaN       84.407407                 NaN   \n",
       "412791        True             NaN       64.333333                 NaN   \n",
       "20189642      True             NaN       69.157895                 NaN   \n",
       "9427424       True             NaN       60.518519                 NaN   \n",
       "4930263       True             NaN       81.117647                 NaN   \n",
       "22395200      True             NaN      109.194444                 NaN   \n",
       "19539401      True             NaN             NaN                 NaN   \n",
       "2706272       True             NaN       70.576923                 NaN   \n",
       "11832776      True             NaN             NaN                 NaN   \n",
       "14039083      True             NaN       71.160000                 NaN   \n",
       "19073586      True             NaN       54.378378                 NaN   \n",
       "9117825       True             NaN       85.571429                 NaN   \n",
       "17945006      True             NaN       69.200000                 NaN   \n",
       "21923629      True             NaN       69.498168                 NaN   \n",
       "10575452      True             NaN       66.039216                 NaN   \n",
       "\n",
       "          noninv_syst_min_wl  noninv_dias_max_wl  noninv_dias_min_wl  \n",
       "16132486                 NaN                 NaN                 NaN  \n",
       "4531764                  NaN                 NaN                 NaN  \n",
       "23117880                 NaN                 NaN                 NaN  \n",
       "3686753                  NaN                 NaN                 NaN  \n",
       "15049444                 NaN                 NaN                 NaN  \n",
       "5065715                  NaN                 NaN                 NaN  \n",
       "412791                   NaN                 NaN                 NaN  \n",
       "20189642                 NaN                 NaN                 NaN  \n",
       "9427424                  NaN                 NaN                 NaN  \n",
       "4930263                  NaN                 NaN                 NaN  \n",
       "22395200                 NaN                 NaN                 NaN  \n",
       "19539401                 NaN                 NaN                 NaN  \n",
       "2706272                  NaN                 NaN                 NaN  \n",
       "11832776                 NaN                 NaN                 NaN  \n",
       "14039083                 NaN                 NaN                 NaN  \n",
       "19073586                 NaN                 NaN                 NaN  \n",
       "9117825                  NaN                 NaN                 NaN  \n",
       "17945006                 NaN                 NaN                 NaN  \n",
       "21923629                 NaN                 NaN                 NaN  \n",
       "10575452                 NaN                 NaN                 NaN  "
      ]
     },
     "execution_count": 111,
     "metadata": {},
     "output_type": "execute_result"
    }
   ],
   "source": [
    "vitals2[vitals2.baseline].sample(20)"
   ]
  },
  {
   "cell_type": "code",
   "execution_count": 112,
   "metadata": {},
   "outputs": [],
   "source": [
    "vitals2 = vitals2.groupby(vitals2['patientunitstayid'].values).transform('max')"
   ]
  },
  {
   "cell_type": "code",
   "execution_count": 113,
   "metadata": {},
   "outputs": [],
   "source": [
    "vitals2['noninv_chg'] = vitals2['noninv_mean_w1'] - vitals2['noninv_mean_bl']"
   ]
  },
  {
   "cell_type": "code",
   "execution_count": 114,
   "metadata": {},
   "outputs": [],
   "source": [
    "vitals2.drop_duplicates(inplace=True)"
   ]
  },
  {
   "cell_type": "code",
   "execution_count": 115,
   "metadata": {},
   "outputs": [
    {
     "data": {
      "text/plain": [
       "Index(['patientunitstayid', 'noninv_mean_w1', 'noninv_mean_bl', 'noninv_chg',\n",
       "       'noninv_syst_max_wl', 'noninv_syst_min_wl', 'noninv_dias_max_wl',\n",
       "       'noninv_dias_min_wl'],\n",
       "      dtype='object')"
      ]
     },
     "execution_count": 115,
     "metadata": {},
     "output_type": "execute_result"
    }
   ],
   "source": [
    "vitals2_columns = ['patientunitstayid', 'noninv_mean_w1', 'noninv_mean_bl', 'noninv_chg',\n",
    "       'noninv_syst_max_wl', 'noninv_syst_min_wl', 'noninv_dias_max_wl',\n",
    "       'noninv_dias_min_wl']\n",
    "vitals2 = vitals2[vitals2_columns]\n",
    "vitals2.columns"
   ]
  },
  {
   "cell_type": "markdown",
   "metadata": {},
   "source": [
    "## Patient Data"
   ]
  },
  {
   "cell_type": "code",
   "execution_count": 116,
   "metadata": {},
   "outputs": [],
   "source": [
    "# Unit type categorical: unittype, admitsource, ethnicity, gender\n",
    "features3 = pd.read_csv(data_path + 'patient.csv')"
   ]
  },
  {
   "cell_type": "code",
   "execution_count": 117,
   "metadata": {},
   "outputs": [
    {
     "name": "stdout",
     "output_type": "stream",
     "text": [
      "      patientunitstayid: COMPLETE\n",
      "patienthealthsystemstayid: COMPLETE\n",
      "                 gender: MISSING 134 VALUES (0.1%)\n",
      "                    age: MISSING 95 VALUES (0.0%)\n",
      "              ethnicity: MISSING 2290 VALUES (1.1%)\n",
      "             hospitalid: COMPLETE\n",
      "                 wardid: COMPLETE\n",
      "      apacheadmissiondx: MISSING 22996 VALUES (11.4%)\n",
      "        admissionheight: MISSING 4215 VALUES (2.1%)\n",
      "    hospitaladmittime24: COMPLETE\n",
      "    hospitaladmitoffset: COMPLETE\n",
      "    hospitaladmitsource: MISSING 49464 VALUES (24.6%)\n",
      "  hospitaldischargeyear: COMPLETE\n",
      "hospitaldischargetime24: COMPLETE\n",
      "hospitaldischargeoffset: COMPLETE\n",
      "hospitaldischargelocation: MISSING 2033 VALUES (1.0%)\n",
      "hospitaldischargestatus: MISSING 1751 VALUES (0.9%)\n",
      "               unittype: COMPLETE\n",
      "        unitadmittime24: COMPLETE\n",
      "        unitadmitsource: MISSING 1090 VALUES (0.5%)\n",
      "        unitvisitnumber: COMPLETE\n",
      "           unitstaytype: COMPLETE\n",
      "        admissionweight: MISSING 16718 VALUES (8.3%)\n",
      "        dischargeweight: MISSING 90937 VALUES (45.3%)\n",
      "    unitdischargetime24: COMPLETE\n",
      "    unitdischargeoffset: COMPLETE\n",
      "  unitdischargelocation: MISSING 334 VALUES (0.2%)\n",
      "    unitdischargestatus: MISSING 34 VALUES (0.0%)\n",
      "              uniquepid: COMPLETE\n",
      "\n",
      "Total number of items: 200859\n"
     ]
    }
   ],
   "source": [
    "check_col_complete(features3);"
   ]
  },
  {
   "cell_type": "code",
   "execution_count": 118,
   "metadata": {},
   "outputs": [],
   "source": [
    "# # Reduce the size of the dataframe.\n",
    "features3 = features3[(features3['patientunitstayid'].isin(dx_events.patientunitstayid)) |\n",
    "                                       (features3['patientunitstayid'].isin(dx_nonevents.patientunitstayid))]\n",
    "\n",
    "features3 = features3[['patientunitstayid', 'gender', 'age', 'admissionweight', 'unittype', 'unitadmitsource', 'ethnicity']]"
   ]
  },
  {
   "cell_type": "code",
   "execution_count": 119,
   "metadata": {},
   "outputs": [],
   "source": [
    "features3['age'] = features3.age.apply(lambda x: np.float(89) if x=='> 89' else np.float(x));"
   ]
  },
  {
   "cell_type": "code",
   "execution_count": 120,
   "metadata": {},
   "outputs": [],
   "source": [
    "# from pandas.plotting import scatter_matrix\n",
    "# import matplotlib.pyplot as plt\n",
    "\n",
    "# attributes = ['age', 'admissionweight']\n",
    "# scatter_matrix(features3[attributes], figsize=(12, 8));"
   ]
  },
  {
   "cell_type": "markdown",
   "metadata": {},
   "source": [
    "# Merge All Features"
   ]
  },
  {
   "cell_type": "code",
   "execution_count": 121,
   "metadata": {},
   "outputs": [
    {
     "data": {
      "text/plain": [
       "8392"
      ]
     },
     "execution_count": 121,
     "metadata": {},
     "output_type": "execute_result"
    }
   ],
   "source": [
    "len(dx_nonevents)"
   ]
  },
  {
   "cell_type": "code",
   "execution_count": 122,
   "metadata": {},
   "outputs": [],
   "source": [
    "vitals1 = vitals1.set_index('patientunitstayid')\n",
    "vitals2 = vitals2.set_index('patientunitstayid')\n",
    "features3 = features3.set_index('patientunitstayid')\n",
    "labs = labs.set_index('patientunitstayid')"
   ]
  },
  {
   "cell_type": "code",
   "execution_count": 123,
   "metadata": {},
   "outputs": [],
   "source": [
    "vitals1 = vitals1.loc[~vitals1.index.duplicated(keep='first')]\n",
    "vitals2 = vitals2.loc[~vitals2.index.duplicated(keep='first')]\n",
    "features3 = features3.loc[~features3.index.duplicated(keep='first')]\n",
    "labs = labs.loc[~labs.index.duplicated(keep='first')]\n",
    "\n",
    "features = pd.concat([vitals1, vitals2], axis=1)\n",
    "features = pd.concat([features, features3], axis=1)\n",
    "features = pd.concat([features, labs], axis=1)"
   ]
  },
  {
   "cell_type": "code",
   "execution_count": 124,
   "metadata": {},
   "outputs": [],
   "source": [
    "df = df.set_index('patientunitstayid')\n",
    "df = df.loc[~df.index.duplicated(keep='first')]"
   ]
  },
  {
   "cell_type": "code",
   "execution_count": 125,
   "metadata": {},
   "outputs": [
    {
     "data": {
      "text/plain": [
       "array([[ 74, 509,   1, ..., 905, 905, 905],\n",
       "       [ 50,   2,  50, ..., 905, 905, 905],\n",
       "       [273, 273, 273, ..., 905, 905, 905],\n",
       "       ...,\n",
       "       [ 37,   2,  37, ..., 905, 905, 905],\n",
       "       [  2,   5,  17, ..., 905, 905, 905],\n",
       "       [  2,  86,   9, ..., 905, 905, 905]])"
      ]
     },
     "execution_count": 125,
     "metadata": {},
     "output_type": "execute_result"
    }
   ],
   "source": [
    "np.array(list(df.dx_seq_tok))"
   ]
  },
  {
   "cell_type": "code",
   "execution_count": 126,
   "metadata": {},
   "outputs": [],
   "source": [
    "df_merged = pd.concat([df, features], axis=1)"
   ]
  },
  {
   "cell_type": "code",
   "execution_count": 127,
   "metadata": {},
   "outputs": [],
   "source": [
    "df_merged['label'] = df_merged.index.isin(dx_events.patientunitstayid)"
   ]
  },
  {
   "cell_type": "code",
   "execution_count": 128,
   "metadata": {},
   "outputs": [
    {
     "data": {
      "text/html": [
       "<div>\n",
       "<style scoped>\n",
       "    .dataframe tbody tr th:only-of-type {\n",
       "        vertical-align: middle;\n",
       "    }\n",
       "\n",
       "    .dataframe tbody tr th {\n",
       "        vertical-align: top;\n",
       "    }\n",
       "\n",
       "    .dataframe thead th {\n",
       "        text-align: right;\n",
       "    }\n",
       "</style>\n",
       "<table border=\"1\" class=\"dataframe\">\n",
       "  <thead>\n",
       "    <tr style=\"text-align: right;\">\n",
       "      <th></th>\n",
       "      <th>dx_seq</th>\n",
       "      <th>dx_seq_tok</th>\n",
       "      <th>hr_min_w1</th>\n",
       "      <th>hr_max_w1</th>\n",
       "      <th>hr_mean_bl</th>\n",
       "      <th>resp_min_w1</th>\n",
       "      <th>resp_max_w1</th>\n",
       "      <th>resp_mean_bl</th>\n",
       "      <th>sao2_min_w1</th>\n",
       "      <th>hr_chg_bl</th>\n",
       "      <th>...</th>\n",
       "      <th>tbili_max_w2</th>\n",
       "      <th>usg_max_w2</th>\n",
       "      <th>fio2_mean_w2</th>\n",
       "      <th>plt_min_w2</th>\n",
       "      <th>rbc_max_w2</th>\n",
       "      <th>bun_crt_rat</th>\n",
       "      <th>crt_chg</th>\n",
       "      <th>hgb_chg</th>\n",
       "      <th>k_chg</th>\n",
       "      <th>pao2_fio2_rat</th>\n",
       "    </tr>\n",
       "    <tr>\n",
       "      <th>label</th>\n",
       "      <th></th>\n",
       "      <th></th>\n",
       "      <th></th>\n",
       "      <th></th>\n",
       "      <th></th>\n",
       "      <th></th>\n",
       "      <th></th>\n",
       "      <th></th>\n",
       "      <th></th>\n",
       "      <th></th>\n",
       "      <th></th>\n",
       "      <th></th>\n",
       "      <th></th>\n",
       "      <th></th>\n",
       "      <th></th>\n",
       "      <th></th>\n",
       "      <th></th>\n",
       "      <th></th>\n",
       "      <th></th>\n",
       "      <th></th>\n",
       "      <th></th>\n",
       "    </tr>\n",
       "  </thead>\n",
       "  <tbody>\n",
       "    <tr>\n",
       "      <th>False</th>\n",
       "      <td>8392</td>\n",
       "      <td>8392</td>\n",
       "      <td>7666</td>\n",
       "      <td>7666</td>\n",
       "      <td>8135</td>\n",
       "      <td>6916</td>\n",
       "      <td>6916</td>\n",
       "      <td>7471</td>\n",
       "      <td>7410</td>\n",
       "      <td>7613</td>\n",
       "      <td>...</td>\n",
       "      <td>3737</td>\n",
       "      <td>2157</td>\n",
       "      <td>1442</td>\n",
       "      <td>5504</td>\n",
       "      <td>5482</td>\n",
       "      <td>1475</td>\n",
       "      <td>1488</td>\n",
       "      <td>2060</td>\n",
       "      <td>2363</td>\n",
       "      <td>1319</td>\n",
       "    </tr>\n",
       "    <tr>\n",
       "      <th>True</th>\n",
       "      <td>8392</td>\n",
       "      <td>8392</td>\n",
       "      <td>7905</td>\n",
       "      <td>7905</td>\n",
       "      <td>8184</td>\n",
       "      <td>7267</td>\n",
       "      <td>7267</td>\n",
       "      <td>7696</td>\n",
       "      <td>7577</td>\n",
       "      <td>7839</td>\n",
       "      <td>...</td>\n",
       "      <td>4076</td>\n",
       "      <td>2303</td>\n",
       "      <td>2545</td>\n",
       "      <td>5491</td>\n",
       "      <td>5500</td>\n",
       "      <td>1717</td>\n",
       "      <td>1717</td>\n",
       "      <td>2764</td>\n",
       "      <td>3158</td>\n",
       "      <td>2370</td>\n",
       "    </tr>\n",
       "  </tbody>\n",
       "</table>\n",
       "<p>2 rows × 69 columns</p>\n",
       "</div>"
      ],
      "text/plain": [
       "       dx_seq  dx_seq_tok  hr_min_w1  hr_max_w1  hr_mean_bl  resp_min_w1  \\\n",
       "label                                                                      \n",
       "False    8392        8392       7666       7666        8135         6916   \n",
       "True     8392        8392       7905       7905        8184         7267   \n",
       "\n",
       "       resp_max_w1  resp_mean_bl  sao2_min_w1  hr_chg_bl  ...  tbili_max_w2  \\\n",
       "label                                                     ...                 \n",
       "False         6916          7471         7410       7613  ...          3737   \n",
       "True          7267          7696         7577       7839  ...          4076   \n",
       "\n",
       "       usg_max_w2  fio2_mean_w2  plt_min_w2  rbc_max_w2  bun_crt_rat  crt_chg  \\\n",
       "label                                                                           \n",
       "False        2157          1442        5504        5482         1475     1488   \n",
       "True         2303          2545        5491        5500         1717     1717   \n",
       "\n",
       "       hgb_chg  k_chg  pao2_fio2_rat  \n",
       "label                                 \n",
       "False     2060   2363           1319  \n",
       "True      2764   3158           2370  \n",
       "\n",
       "[2 rows x 69 columns]"
      ]
     },
     "execution_count": 128,
     "metadata": {},
     "output_type": "execute_result"
    }
   ],
   "source": [
    "df_merged.groupby('label').count()"
   ]
  },
  {
   "cell_type": "code",
   "execution_count": 129,
   "metadata": {},
   "outputs": [],
   "source": [
    "# df_merged = pd.read_csv('../data/saved_data/death8392_8416240_merged_data.csv')"
   ]
  },
  {
   "cell_type": "code",
   "execution_count": 130,
   "metadata": {},
   "outputs": [
    {
     "data": {
      "text/html": [
       "<div>\n",
       "<style scoped>\n",
       "    .dataframe tbody tr th:only-of-type {\n",
       "        vertical-align: middle;\n",
       "    }\n",
       "\n",
       "    .dataframe tbody tr th {\n",
       "        vertical-align: top;\n",
       "    }\n",
       "\n",
       "    .dataframe thead th {\n",
       "        text-align: right;\n",
       "    }\n",
       "</style>\n",
       "<table border=\"1\" class=\"dataframe\">\n",
       "  <thead>\n",
       "    <tr style=\"text-align: right;\">\n",
       "      <th></th>\n",
       "      <th>dx_seq</th>\n",
       "      <th>dx_seq_tok</th>\n",
       "      <th>hr_min_w1</th>\n",
       "      <th>hr_max_w1</th>\n",
       "      <th>hr_mean_bl</th>\n",
       "      <th>resp_min_w1</th>\n",
       "      <th>resp_max_w1</th>\n",
       "      <th>resp_mean_bl</th>\n",
       "      <th>sao2_min_w1</th>\n",
       "      <th>hr_chg_bl</th>\n",
       "      <th>...</th>\n",
       "      <th>tbili_max_w2</th>\n",
       "      <th>usg_max_w2</th>\n",
       "      <th>fio2_mean_w2</th>\n",
       "      <th>plt_min_w2</th>\n",
       "      <th>rbc_max_w2</th>\n",
       "      <th>bun_crt_rat</th>\n",
       "      <th>crt_chg</th>\n",
       "      <th>hgb_chg</th>\n",
       "      <th>k_chg</th>\n",
       "      <th>pao2_fio2_rat</th>\n",
       "    </tr>\n",
       "    <tr>\n",
       "      <th>patientunitstayid</th>\n",
       "      <th></th>\n",
       "      <th></th>\n",
       "      <th></th>\n",
       "      <th></th>\n",
       "      <th></th>\n",
       "      <th></th>\n",
       "      <th></th>\n",
       "      <th></th>\n",
       "      <th></th>\n",
       "      <th></th>\n",
       "      <th></th>\n",
       "      <th></th>\n",
       "      <th></th>\n",
       "      <th></th>\n",
       "      <th></th>\n",
       "      <th></th>\n",
       "      <th></th>\n",
       "      <th></th>\n",
       "      <th></th>\n",
       "      <th></th>\n",
       "      <th></th>\n",
       "    </tr>\n",
       "  </thead>\n",
       "  <tbody>\n",
       "    <tr>\n",
       "      <th>141168</th>\n",
       "      <td>AS;428;401;AICD;586;rheumatoid arthritis;427;4...</td>\n",
       "      <td>[253, 6, 2, 255, 86, 294, 1, 24, 86, 1, 6, 253...</td>\n",
       "      <td>NaN</td>\n",
       "      <td>NaN</td>\n",
       "      <td>134.448980</td>\n",
       "      <td>NaN</td>\n",
       "      <td>NaN</td>\n",
       "      <td>NaN</td>\n",
       "      <td>NaN</td>\n",
       "      <td>NaN</td>\n",
       "      <td>...</td>\n",
       "      <td>NaN</td>\n",
       "      <td>NaN</td>\n",
       "      <td>NaN</td>\n",
       "      <td>NaN</td>\n",
       "      <td>NaN</td>\n",
       "      <td>NaN</td>\n",
       "      <td>NaN</td>\n",
       "      <td>NaN</td>\n",
       "      <td>NaN</td>\n",
       "      <td>NaN</td>\n",
       "    </tr>\n",
       "    <tr>\n",
       "      <th>141297</th>\n",
       "      <td>s/p renal transplant;&gt;= 20 mg prednisone per d...</td>\n",
       "      <td>[524, 657, 86, 8, 1, 0, 11, 20, 9, 905, 905, 9...</td>\n",
       "      <td>134.0</td>\n",
       "      <td>138.0</td>\n",
       "      <td>119.152778</td>\n",
       "      <td>32.0</td>\n",
       "      <td>48.0</td>\n",
       "      <td>29.880597</td>\n",
       "      <td>98.0</td>\n",
       "      <td>18.847222</td>\n",
       "      <td>...</td>\n",
       "      <td>NaN</td>\n",
       "      <td>NaN</td>\n",
       "      <td>50.0</td>\n",
       "      <td>NaN</td>\n",
       "      <td>NaN</td>\n",
       "      <td>NaN</td>\n",
       "      <td>NaN</td>\n",
       "      <td>NaN</td>\n",
       "      <td>NaN</td>\n",
       "      <td>1.18</td>\n",
       "    </tr>\n",
       "    <tr>\n",
       "      <th>141314</th>\n",
       "      <td>785;441;441;344;518;441;441;441;441;427;441;44...</td>\n",
       "      <td>[7, 217, 217, 378, 0, 217, 217, 217, 217, 1, 2...</td>\n",
       "      <td>94.0</td>\n",
       "      <td>120.0</td>\n",
       "      <td>109.417910</td>\n",
       "      <td>NaN</td>\n",
       "      <td>NaN</td>\n",
       "      <td>7.217391</td>\n",
       "      <td>67.0</td>\n",
       "      <td>10.582090</td>\n",
       "      <td>...</td>\n",
       "      <td>NaN</td>\n",
       "      <td>NaN</td>\n",
       "      <td>NaN</td>\n",
       "      <td>NaN</td>\n",
       "      <td>NaN</td>\n",
       "      <td>NaN</td>\n",
       "      <td>NaN</td>\n",
       "      <td>NaN</td>\n",
       "      <td>NaN</td>\n",
       "      <td>NaN</td>\n",
       "    </tr>\n",
       "    <tr>\n",
       "      <th>141360</th>\n",
       "      <td>427;436</td>\n",
       "      <td>[1, 184, 905, 905, 905, 905, 905, 905, 905, 90...</td>\n",
       "      <td>96.0</td>\n",
       "      <td>96.0</td>\n",
       "      <td>87.531250</td>\n",
       "      <td>21.0</td>\n",
       "      <td>28.0</td>\n",
       "      <td>18.937500</td>\n",
       "      <td>99.0</td>\n",
       "      <td>8.468750</td>\n",
       "      <td>...</td>\n",
       "      <td>0.9</td>\n",
       "      <td>NaN</td>\n",
       "      <td>NaN</td>\n",
       "      <td>239.0</td>\n",
       "      <td>5.55</td>\n",
       "      <td>9.923664</td>\n",
       "      <td>1.0</td>\n",
       "      <td>NaN</td>\n",
       "      <td>NaN</td>\n",
       "      <td>NaN</td>\n",
       "    </tr>\n",
       "    <tr>\n",
       "      <th>141448</th>\n",
       "      <td>585;colon;453;276;451;790;780;584</td>\n",
       "      <td>[9, 340, 191, 4, 203, 19, 10, 5, 905, 905, 905...</td>\n",
       "      <td>94.0</td>\n",
       "      <td>94.0</td>\n",
       "      <td>75.685714</td>\n",
       "      <td>19.0</td>\n",
       "      <td>19.0</td>\n",
       "      <td>14.342857</td>\n",
       "      <td>100.0</td>\n",
       "      <td>18.314286</td>\n",
       "      <td>...</td>\n",
       "      <td>0.6</td>\n",
       "      <td>1.019</td>\n",
       "      <td>NaN</td>\n",
       "      <td>320.0</td>\n",
       "      <td>4.07</td>\n",
       "      <td>NaN</td>\n",
       "      <td>NaN</td>\n",
       "      <td>NaN</td>\n",
       "      <td>NaN</td>\n",
       "      <td>NaN</td>\n",
       "    </tr>\n",
       "  </tbody>\n",
       "</table>\n",
       "<p>5 rows × 70 columns</p>\n",
       "</div>"
      ],
      "text/plain": [
       "                                                              dx_seq  \\\n",
       "patientunitstayid                                                      \n",
       "141168             AS;428;401;AICD;586;rheumatoid arthritis;427;4...   \n",
       "141297             s/p renal transplant;>= 20 mg prednisone per d...   \n",
       "141314             785;441;441;344;518;441;441;441;441;427;441;44...   \n",
       "141360                                                       427;436   \n",
       "141448                             585;colon;453;276;451;790;780;584   \n",
       "\n",
       "                                                          dx_seq_tok  \\\n",
       "patientunitstayid                                                      \n",
       "141168             [253, 6, 2, 255, 86, 294, 1, 24, 86, 1, 6, 253...   \n",
       "141297             [524, 657, 86, 8, 1, 0, 11, 20, 9, 905, 905, 9...   \n",
       "141314             [7, 217, 217, 378, 0, 217, 217, 217, 217, 1, 2...   \n",
       "141360             [1, 184, 905, 905, 905, 905, 905, 905, 905, 90...   \n",
       "141448             [9, 340, 191, 4, 203, 19, 10, 5, 905, 905, 905...   \n",
       "\n",
       "                   hr_min_w1  hr_max_w1  hr_mean_bl  resp_min_w1  resp_max_w1  \\\n",
       "patientunitstayid                                                               \n",
       "141168                   NaN        NaN  134.448980          NaN          NaN   \n",
       "141297                 134.0      138.0  119.152778         32.0         48.0   \n",
       "141314                  94.0      120.0  109.417910          NaN          NaN   \n",
       "141360                  96.0       96.0   87.531250         21.0         28.0   \n",
       "141448                  94.0       94.0   75.685714         19.0         19.0   \n",
       "\n",
       "                   resp_mean_bl  sao2_min_w1  hr_chg_bl  ...  tbili_max_w2  \\\n",
       "patientunitstayid                                        ...                 \n",
       "141168                      NaN          NaN        NaN  ...           NaN   \n",
       "141297                29.880597         98.0  18.847222  ...           NaN   \n",
       "141314                 7.217391         67.0  10.582090  ...           NaN   \n",
       "141360                18.937500         99.0   8.468750  ...           0.9   \n",
       "141448                14.342857        100.0  18.314286  ...           0.6   \n",
       "\n",
       "                   usg_max_w2  fio2_mean_w2  plt_min_w2  rbc_max_w2  \\\n",
       "patientunitstayid                                                     \n",
       "141168                    NaN           NaN         NaN         NaN   \n",
       "141297                    NaN          50.0         NaN         NaN   \n",
       "141314                    NaN           NaN         NaN         NaN   \n",
       "141360                    NaN           NaN       239.0        5.55   \n",
       "141448                  1.019           NaN       320.0        4.07   \n",
       "\n",
       "                   bun_crt_rat  crt_chg  hgb_chg  k_chg pao2_fio2_rat  \n",
       "patientunitstayid                                                      \n",
       "141168                     NaN      NaN      NaN    NaN           NaN  \n",
       "141297                     NaN      NaN      NaN    NaN          1.18  \n",
       "141314                     NaN      NaN      NaN    NaN           NaN  \n",
       "141360                9.923664      1.0      NaN    NaN           NaN  \n",
       "141448                     NaN      NaN      NaN    NaN           NaN  \n",
       "\n",
       "[5 rows x 70 columns]"
      ]
     },
     "execution_count": 130,
     "metadata": {},
     "output_type": "execute_result"
    }
   ],
   "source": [
    "df_merged.head()"
   ]
  },
  {
   "cell_type": "markdown",
   "metadata": {},
   "source": [
    "# Clean and Preprocess Features"
   ]
  },
  {
   "cell_type": "code",
   "execution_count": 131,
   "metadata": {},
   "outputs": [],
   "source": [
    "# df_merged = pd.read_csv('/Users/tobymanders/Documents/insight_project/data/saved_data/death10000_10000_merged_data.csv')"
   ]
  },
  {
   "cell_type": "code",
   "execution_count": 132,
   "metadata": {},
   "outputs": [
    {
     "data": {
      "text/plain": [
       "16784"
      ]
     },
     "execution_count": 132,
     "metadata": {},
     "output_type": "execute_result"
    }
   ],
   "source": [
    "len(df_merged)"
   ]
  },
  {
   "cell_type": "code",
   "execution_count": 133,
   "metadata": {},
   "outputs": [],
   "source": [
    "df_merged = df_merged.dropna(thresh=37)"
   ]
  },
  {
   "cell_type": "code",
   "execution_count": 134,
   "metadata": {},
   "outputs": [
    {
     "data": {
      "text/plain": [
       "11389"
      ]
     },
     "execution_count": 134,
     "metadata": {},
     "output_type": "execute_result"
    }
   ],
   "source": [
    "len(df_merged)"
   ]
  },
  {
   "cell_type": "code",
   "execution_count": 135,
   "metadata": {},
   "outputs": [],
   "source": [
    "##### IMPORTANT: FITTING TEMPORARILY OFF\n",
    "\n",
    "from sklearn.pipeline import Pipeline\n",
    "from sklearn.preprocessing import StandardScaler\n",
    "from sklearn.impute import SimpleImputer\n",
    "from sklearn.compose import ColumnTransformer\n",
    "from sklearn.pipeline import Pipeline\n",
    "from sklearn.preprocessing import OneHotEncoder\n",
    "\n",
    "cat_encoder = OneHotEncoder()\n",
    "\n",
    "cat_attribs = ['gender', 'unittype', 'unitadmitsource', 'ethnicity']\n",
    "num_attribs = ['hr_min_w1', 'hr_max_w1', 'hr_mean_bl',\n",
    "       'resp_min_w1', 'resp_max_w1', 'resp_mean_bl', 'sao2_min_w1',\n",
    "       'hr_chg_bl', 'resp_chg_bl', 'noninv_mean_w1', 'noninv_mean_bl',\n",
    "       'noninv_chg', 'noninv_syst_max_wl', 'noninv_syst_min_wl',\n",
    "       'noninv_dias_max_wl', 'noninv_dias_min_wl', 'age', 'admissionweight', \n",
    "       'gluc_mean_bl', 'gluc_max_w1', 'gluc_min_w1', 'k_mean_bl', 'k_min_w2',\n",
    "       'k_max_w2', 'na_mean_bl', 'na_min_w2', 'na_max_w2', 'hgb_mean_bl',\n",
    "       'hgb_min_w2', 'cl_mean_bl', 'cl_min_w2', 'cl_max_w2', 'hct_min_w2',\n",
    "       'crt_min_w2', 'crt_mean_w2', 'crt_max_w1', 'bun_mean_w1', 'ca_min_w2',\n",
    "       'ca_max_w2', 'bicarb_mean_w1', 'wbc_max_w2', 'angap_max_w1',\n",
    "       'angap_max_w2', 'hco3_min_w2', 'hco3_max_w2', 'pao2_min_w2',\n",
    "       'paco2_max_w2', 'ph_min_w2', 'ph_max_w2', 'inr_max_w2', 'lymphs_max_w2',\n",
    "       'lact_max_w2', 'alb_min_w2', 'tbili_max_w2', 'usg_max_w2',\n",
    "       'fio2_mean_w2', 'plt_min_w2', 'rbc_max_w2', 'bun_crt_rat', 'crt_chg',\n",
    "       'hgb_chg', 'k_chg', 'pao2_fio2_rat']\n",
    "\n",
    "num_pipeline = Pipeline([\n",
    "        ('imputer', SimpleImputer(strategy=\"median\")),\n",
    "        ('std_scaler', StandardScaler()),\n",
    "    ])\n",
    "\n",
    "full_pipeline = ColumnTransformer([\n",
    "        (\"cat\", cat_encoder, cat_attribs),\n",
    "        (\"num\", num_pipeline, num_attribs)],\n",
    "        remainder='passthrough'\n",
    "    )\n",
    "\n",
    "# full_pipeline = pkl.load(open('../models/full_pipeline.pkl', 'rb'))\n",
    "\n",
    "df_merged['patientunitstayid'] = df_merged.index\n",
    "final_cols = ['dx_seq_tok'] + cat_attribs + num_attribs + ['label'] + ['patientunitstayid']\n",
    "df_merged = df_merged[final_cols]\n",
    "df_merged.replace([np.inf, -np.inf], np.nan, inplace=True)\n",
    "df_merged.dropna(subset=cat_attribs, inplace=True)\n",
    "full_pipeline.fit(df_merged)\n",
    "df_merged_prepared = full_pipeline.transform(df_merged,)"
   ]
  },
  {
   "cell_type": "code",
   "execution_count": 136,
   "metadata": {},
   "outputs": [
    {
     "data": {
      "text/plain": [
       "(11305, 96)"
      ]
     },
     "execution_count": 136,
     "metadata": {},
     "output_type": "execute_result"
    }
   ],
   "source": [
    "df_merged_prepared.shape"
   ]
  },
  {
   "cell_type": "code",
   "execution_count": 137,
   "metadata": {},
   "outputs": [],
   "source": [
    "# Save pipeline\n",
    "import pickle as pkl\n",
    "pkl.dump(full_pipeline, open('../models/full_pipeline.pkl', 'wb'))"
   ]
  },
  {
   "cell_type": "markdown",
   "metadata": {},
   "source": [
    "# ML"
   ]
  },
  {
   "cell_type": "code",
   "execution_count": 138,
   "metadata": {},
   "outputs": [],
   "source": [
    "df_merged.to_csv(data_path + 'saved_data/'+ diagnosis + str(len(dx_events)) + '_' + \n",
    "                 str(len(dx_nonevents)) + '_' + str(parameters['window'][0]) + \n",
    "                 '_merged_data.csv', index=False, header=True)"
   ]
  },
  {
   "cell_type": "code",
   "execution_count": 139,
   "metadata": {},
   "outputs": [],
   "source": [
    "y = df_merged_prepared[:, -2].astype(int)"
   ]
  },
  {
   "cell_type": "code",
   "execution_count": 140,
   "metadata": {},
   "outputs": [
    {
     "data": {
      "text/plain": [
       "0.5092436974789916"
      ]
     },
     "execution_count": 140,
     "metadata": {},
     "output_type": "execute_result"
    }
   ],
   "source": [
    "np.mean(y)"
   ]
  },
  {
   "cell_type": "code",
   "execution_count": 141,
   "metadata": {},
   "outputs": [],
   "source": [
    "# Stratified split\n",
    "\n",
    "from sklearn.model_selection import StratifiedShuffleSplit\n",
    "\n",
    "sss = StratifiedShuffleSplit(n_splits=1, test_size=0.2)\n",
    "for train_index, test_index in sss.split(df_merged_prepared[:, :-2], y):\n",
    "    X_train, X_test = df_merged_prepared[:, :-2][train_index], df_merged_prepared[:, :-2][test_index]\n",
    "    y_train, y_test = y[train_index], y[test_index]\n",
    "    \n",
    "    \n",
    "split = StratifiedShuffleSplit(n_splits=1, test_size=0.1)\n",
    "for train_index, test_index in sss.split(X_train, y_train):\n",
    "    X_train, X_val = X_train[train_index], X_train[test_index]\n",
    "    y_train, y_val = y_train[train_index], y_train[test_index]"
   ]
  },
  {
   "cell_type": "code",
   "execution_count": 142,
   "metadata": {},
   "outputs": [
    {
     "data": {
      "text/plain": [
       "(7235, 94)"
      ]
     },
     "execution_count": 142,
     "metadata": {},
     "output_type": "execute_result"
    }
   ],
   "source": [
    "X_train.shape"
   ]
  },
  {
   "cell_type": "code",
   "execution_count": 143,
   "metadata": {},
   "outputs": [],
   "source": [
    "X_train_A, X_train_B = np.array(list(X_train[:,-1])), X_train[:,:-1].astype(float)\n",
    "X_test_A, X_test_B = np.array(list(X_test[:,-1])), X_test[:,:-1].astype(float)\n",
    "X_val_A, X_val_B = np.array(list(X_val[:,-1])), X_val[:,:-1].astype(float)"
   ]
  },
  {
   "cell_type": "code",
   "execution_count": 144,
   "metadata": {},
   "outputs": [
    {
     "data": {
      "text/plain": [
       "array([[ 1.        ,  0.        ,  0.        , ..., -0.04895947,\n",
       "        -0.0976859 , -0.15923073],\n",
       "       [ 1.        ,  0.        ,  0.        , ..., -0.86805727,\n",
       "        -4.3726781 , -0.10215299],\n",
       "       [ 0.        ,  1.        ,  0.        , ..., -0.04895947,\n",
       "        -0.0976859 , -0.10215299],\n",
       "       ...,\n",
       "       [ 0.        ,  1.        ,  0.        , ..., -0.04895947,\n",
       "        -0.0976859 , -0.10215299],\n",
       "       [ 0.        ,  1.        ,  0.        , ..., -0.04895947,\n",
       "         1.54654187, -0.10215299],\n",
       "       [ 1.        ,  0.        ,  0.        , ..., -0.04895947,\n",
       "        -0.0976859 , -0.10215299]])"
      ]
     },
     "execution_count": 144,
     "metadata": {},
     "output_type": "execute_result"
    }
   ],
   "source": [
    "X_train_B"
   ]
  },
  {
   "cell_type": "code",
   "execution_count": 145,
   "metadata": {
    "scrolled": true
   },
   "outputs": [
    {
     "data": {
      "text/plain": [
       "0.5090667846085802"
      ]
     },
     "execution_count": 145,
     "metadata": {},
     "output_type": "execute_result"
    }
   ],
   "source": [
    "np.mean(y_test)"
   ]
  },
  {
   "cell_type": "code",
   "execution_count": null,
   "metadata": {},
   "outputs": [],
   "source": []
  },
  {
   "cell_type": "markdown",
   "metadata": {},
   "source": [
    "## Model 1: DNN"
   ]
  },
  {
   "cell_type": "code",
   "execution_count": 146,
   "metadata": {},
   "outputs": [],
   "source": [
    "# tf.keras.backend.clear_session()\n",
    "\n",
    "# model_1 = tf.keras.Sequential([\n",
    "#     tf.keras.layers.Dense(128, activation='relu'),\n",
    "#     tf.keras.layers.Dropout(rate=0.5),\n",
    "#     tf.keras.layers.Dense(128, activation='relu'),\n",
    "#     tf.keras.layers.Dropout(rate=0.5),\n",
    "#     tf.keras.layers.Dense(128, activation='relu'),\n",
    "#     tf.keras.layers.Dropout(rate=0.5),\n",
    "#     tf.keras.layers.Dense(128, activation='relu'),\n",
    "#     tf.keras.layers.Dropout(rate=0.5),\n",
    "#     tf.keras.layers.Dense(128, activation='relu'),\n",
    "#     tf.keras.layers.Dropout(rate=0.5),\n",
    "#     tf.keras.layers.Dense(128, activation='relu'),\n",
    "    \n",
    "#     tf.keras.layers.Dense(1, activation='sigmoid')\n",
    "# ])\n",
    "\n",
    "# model_1.compile(loss='binary_crossentropy',\n",
    "#               optimizer='adam',\n",
    "#               metrics=[tf.keras.metrics.AUC()])\n",
    "\n",
    "# es1 = EarlyStopping(monitor='val_loss', mode='min', patience=20, restore_best_weights=True)\n",
    "\n",
    "# # Numcat only\n",
    "# history1 = model_1.fit(X_train_B,\n",
    "#                     y_train,\n",
    "#                     epochs=200,\n",
    "#                     batch_size=512,\n",
    "#                     validation_data=(X_val_B, y_val),\n",
    "#                     callbacks=[es1], verbose=0)"
   ]
  },
  {
   "cell_type": "code",
   "execution_count": 147,
   "metadata": {},
   "outputs": [],
   "source": [
    "# results = model_1.evaluate(X_test_B, y_test, verbose=0)\n",
    "# print(results)"
   ]
  },
  {
   "cell_type": "markdown",
   "metadata": {},
   "source": [
    "## Model 2: RNN"
   ]
  },
  {
   "cell_type": "code",
   "execution_count": 148,
   "metadata": {},
   "outputs": [],
   "source": [
    "# model = tf.keras.Sequential([\n",
    "#     tf.keras.layers.Dense(32),\n",
    "#     tf.keras.layers.Dense(32, activation='relu'),\n",
    "#     tf.keras.layers.Dropout(rate=0.4),\n",
    "#     tf.keras.layers.Dense(1, activation='sigmoid')\n",
    "# ])"
   ]
  },
  {
   "cell_type": "code",
   "execution_count": 149,
   "metadata": {},
   "outputs": [],
   "source": [
    "# model = tf.keras.Sequential([\n",
    "#     tf.keras.layers.Embedding(parameters['vocab_size'], 32),\n",
    "#     tf.keras.layers.Bidirectional(tf.keras.layers.LSTM(32)),\n",
    "#     tf.keras.layers.Dense(32, activation='relu'),\n",
    "#     tf.keras.layers.Dropout(rate=0.4),\n",
    "#     tf.keras.layers.Dense(1, activation='sigmoid')\n",
    "# ])"
   ]
  },
  {
   "cell_type": "code",
   "execution_count": 150,
   "metadata": {},
   "outputs": [],
   "source": [
    "# parameters['vocab_size'] = 1000"
   ]
  },
  {
   "cell_type": "code",
   "execution_count": 151,
   "metadata": {},
   "outputs": [],
   "source": [
    "\n",
    "# tf.keras.backend.clear_session()\n",
    "\n",
    "# input_A = tf.keras.layers.Input(shape=(parameters['seq_length'],), name='seq_input')\n",
    "# embedding = tf.keras.layers.Embedding(parameters['vocab_size'], 32)(input_A)\n",
    "# hidden1_A = tf.keras.layers.Bidirectional(tf.keras.layers.LSTM(16))(embedding)\n",
    "# hidden_drop = tf.keras.layers.Dropout(rate=0.3)(hidden1_A)\n",
    "# hidden2_A = tf.keras.layers.Dense(32, activation='relu')(hidden_drop)\n",
    "\n",
    "# input_B = tf.keras.layers.Input(shape=(X_train_B.shape[1],), name='feature_input')\n",
    "# hidden1_B = tf.keras.layers.Dense(128, kernel_regularizer=regularizers.l2(0.01),\n",
    "#                 activity_regularizer=regularizers.l1(0.01))(input_B)\n",
    "# hidden_drop1B = tf.keras.layers.Dropout(rate=0.3)(hidden1_B)\n",
    "# hidden2_B = tf.keras.layers.Dense(128, kernel_regularizer=regularizers.l2(0.01),\n",
    "#                 activity_regularizer=regularizers.l1(0.01))(hidden_drop1B)\n",
    "\n",
    "# concat = tf.keras.layers.Concatenate()([hidden2_A, hidden2_B])\n",
    "# common = tf.keras.layers.Dense(64, activation='relu')(concat)\n",
    "# drop = tf.keras.layers.Dropout(rate=0.3)(common)\n",
    "# output = tf.keras.layers.Dense(1, name=\"output\", activation='sigmoid')(drop)\n",
    "# aux_output = tf.keras.layers.Dense(1, activation='sigmoid', name=\"aux_output\")(hidden1_B)\n",
    "\n",
    "# model = tf.keras.Model(inputs=[input_A, input_B], outputs=[output, aux_output])"
   ]
  },
  {
   "cell_type": "code",
   "execution_count": 152,
   "metadata": {},
   "outputs": [],
   "source": [
    "# model.compile(loss=['binary_crossentropy','binary_crossentropy'],\n",
    "#               optimizer='adam',\n",
    "#               loss_weights=[0.9, 0.1],\n",
    "#               metrics=[tf.keras.metrics.AUC(), 'accuracy'])\n",
    "\n",
    "# model.compile(loss='binary_crossentropy',\n",
    "#               optimizer='adam',\n",
    "#               metrics=[tf.keras.metrics.AUC()])\n",
    "\n",
    "# model.compile(loss='binary_crossentropy',\n",
    "#               optimizer='adam',\n",
    "#               metrics=['accuracy'])"
   ]
  },
  {
   "cell_type": "code",
   "execution_count": 153,
   "metadata": {
    "scrolled": false
   },
   "outputs": [],
   "source": [
    "# model.summary()"
   ]
  },
  {
   "cell_type": "code",
   "execution_count": 154,
   "metadata": {},
   "outputs": [],
   "source": [
    "# es = EarlyStopping(monitor='val_loss', mode='min', patience=5, restore_best_weights=True)"
   ]
  },
  {
   "cell_type": "code",
   "execution_count": 155,
   "metadata": {},
   "outputs": [],
   "source": [
    "# # Full model\n",
    "# history = model.fit([X_train_A, X_train_B],\n",
    "#                     [y_train, y_train],\n",
    "#                     epochs=30,\n",
    "#                     batch_size=64,\n",
    "#                     validation_data=([X_val_A, X_val_B], [y_val, y_val]),\n",
    "#                     callbacks=[es], verbose=1)"
   ]
  },
  {
   "cell_type": "code",
   "execution_count": 156,
   "metadata": {},
   "outputs": [],
   "source": [
    "# # Full model\n",
    "# results = model.evaluate([X_test_A, X_test_B], [y_test, y_test], verbose=0)\n",
    "# print(results)"
   ]
  },
  {
   "cell_type": "code",
   "execution_count": 157,
   "metadata": {},
   "outputs": [],
   "source": [
    "# import matplotlib.pyplot as plt\n",
    "\n",
    "# def plot_graphs(history, string):\n",
    "#     plt.plot(history.history[string])\n",
    "#     plt.plot(history.history['val_'+string])\n",
    "#     plt.xlabel(\"Epochs\")\n",
    "#     plt.ylabel(string)\n",
    "#     plt.legend([string, 'val_'+string])\n",
    "#     plt.title(f'Epoch vs. {string}')"
   ]
  },
  {
   "cell_type": "code",
   "execution_count": 158,
   "metadata": {},
   "outputs": [],
   "source": [
    "# auc = list(history.history.keys())[3]\n",
    "# history.history.keys()"
   ]
  },
  {
   "cell_type": "code",
   "execution_count": 159,
   "metadata": {},
   "outputs": [],
   "source": [
    "# plt.figure(figsize=(10,4))\n",
    "# plt.subplot(1,2,1)\n",
    "# plot_graphs(history, auc)\n",
    "\n",
    "# plt.subplot(1,2,2)\n",
    "# plot_graphs(history, 'loss')\n",
    "\n",
    "# fig_name = diagnosis + str(len(dx_events)) + '_' + str(len(dx_nonevents)) + 'epochs_vs_accuracy'\n",
    "# save_fig(fig_name)"
   ]
  },
  {
   "cell_type": "code",
   "execution_count": 160,
   "metadata": {},
   "outputs": [],
   "source": [
    "# from sklearn.metrics import roc_curve\n",
    "# from sklearn.metrics import auc\n",
    "\n",
    "# y_pred = model.predict([X_test_A, X_test_B], batch_size=5000)[0].ravel()\n",
    "# fpr_keras, tpr_keras, thresholds_keras = roc_curve(y_test, y_pred)\n",
    "# auc_keras = auc(fpr_keras, tpr_keras)\n",
    "\n",
    "# plt.style.use('seaborn')\n",
    "# plt.figure(figsize=(8,8))\n",
    "# plt.plot([0, 1], [0, 1], 'k--')\n",
    "# plt.plot(fpr_keras, tpr_keras, label='AUC = {:.3f}'.format(auc_keras))\n",
    "# plt.legend(loc='best')\n",
    "# plt.title('ROC Curve')\n",
    "# plt.xlabel('False positive rate')\n",
    "# plt.ylabel('True positive rate')\n",
    "\n",
    "# fig_name = diagnosis + str(len(dx_events)) + '_' + str(len(dx_nonevents)) + 'AUC' + '{:.3f}'.format(auc_keras)\n",
    "# save_fig(fig_name)"
   ]
  },
  {
   "cell_type": "code",
   "execution_count": 161,
   "metadata": {},
   "outputs": [],
   "source": [
    "# model_2 = tf.keras.Sequential([\n",
    "#     tf.keras.layers.Embedding(parameters['vocab_size'], 64),\n",
    "#     tf.keras.layers.Bidirectional(tf.keras.layers.LSTM(16)),\n",
    "#     tf.keras.layers.Dense(128, activation='relu'),\n",
    "#     tf.keras.layers.Dropout(rate=0.5),\n",
    "#     tf.keras.layers.Dense(128, activation='relu'),\n",
    "#     tf.keras.layers.Dropout(rate=0.1),\n",
    "#     tf.keras.layers.Dense(1, activation='sigmoid')\n",
    "# ])\n",
    "\n",
    "# model_2.compile(loss='binary_crossentropy',\n",
    "#               optimizer='adam',\n",
    "#               metrics=[tf.keras.metrics.AUC()])\n",
    "\n",
    "\n",
    "# es2 = EarlyStopping(monitor='val_loss', mode='min', patience=10, restore_best_weights=True)\n",
    "\n",
    "\n",
    "# # Sequential only\n",
    "# history2 = model_2.fit(X_train_A,\n",
    "#                     y_train,\n",
    "#                     epochs=50,\n",
    "#                     batch_size=512,\n",
    "#                     validation_data=(X_val_A, y_val),\n",
    "#                     callbacks=[es2], verbose=1)"
   ]
  },
  {
   "cell_type": "code",
   "execution_count": 162,
   "metadata": {},
   "outputs": [],
   "source": [
    "# results = model_2.evaluate(X_test_A, y_test, verbose=0)\n",
    "# print(results)"
   ]
  },
  {
   "cell_type": "code",
   "execution_count": 163,
   "metadata": {},
   "outputs": [],
   "source": [
    "# # # Numcat only\n",
    "# y_pred2 = model_2.predict(X_test_A, batch_size=5000).ravel()"
   ]
  },
  {
   "cell_type": "code",
   "execution_count": 164,
   "metadata": {},
   "outputs": [],
   "source": [
    "# # Remove last layer of models\n",
    "\n",
    "# model_1.pop()\n",
    "# model_2.pop()"
   ]
  },
  {
   "cell_type": "markdown",
   "metadata": {},
   "source": [
    "## Model 3: DNN + RNN"
   ]
  },
  {
   "cell_type": "code",
   "execution_count": 165,
   "metadata": {},
   "outputs": [],
   "source": [
    "# input_A = tf.keras.layers.Input(shape=(parameters['seq_length'],), name='seq_input')\n",
    "# seq_model = model_2(input_A)\n",
    "\n",
    "# input_B = tf.keras.layers.Input(shape=(X_train_B.shape[1],), name='feature_input')\n",
    "# catnum_model = model_1(input_B)\n",
    "\n",
    "# concat = tf.keras.layers.Concatenate()([seq_model, catnum_model])\n",
    "# hidden1 = tf.keras.layers.Dense(128, activation='relu')(concat)\n",
    "# drop1 = tf.keras.layers.Dropout(rate=0.5)(hidden1)\n",
    "\n",
    "# output = tf.keras.layers.Dense(1, name=\"output\", activation='sigmoid')(drop1)\n",
    "\n",
    "# model_3 = tf.keras.Model(inputs=[input_A, input_B], outputs=[output])"
   ]
  },
  {
   "cell_type": "code",
   "execution_count": 166,
   "metadata": {},
   "outputs": [],
   "source": [
    "# model_3.compile(loss='binary_crossentropy',\n",
    "#               optimizer='adam',\n",
    "#               metrics=[tf.keras.metrics.AUC(), 'accuracy'])"
   ]
  },
  {
   "cell_type": "code",
   "execution_count": 167,
   "metadata": {},
   "outputs": [],
   "source": [
    "# es3 = EarlyStopping(monitor='val_loss', mode='min', patience=10, restore_best_weights=True)\n",
    "\n",
    "# history3 = model_3.fit([X_train_A, X_train_B],\n",
    "#                     y_train,\n",
    "#                     epochs=30,\n",
    "#                     batch_size=1024,\n",
    "#                     validation_data=([X_val_A, X_val_B],  y_val),\n",
    "#                     callbacks=[es3])"
   ]
  },
  {
   "cell_type": "code",
   "execution_count": 168,
   "metadata": {},
   "outputs": [],
   "source": [
    "# results = model_3.evaluate([X_test_A, X_test_B], y_test, verbose=0)\n",
    "# print(results)"
   ]
  },
  {
   "cell_type": "code",
   "execution_count": 169,
   "metadata": {},
   "outputs": [],
   "source": [
    "# y_pred3 = model_3.predict([X_test_A, X_test_B], batch_size=5000).ravel()"
   ]
  },
  {
   "cell_type": "code",
   "execution_count": 170,
   "metadata": {},
   "outputs": [],
   "source": [
    "# from sklearn.metrics import accuracy_score\n",
    "\n",
    "# print(accuracy_score(y_pred4, y_test))"
   ]
  },
  {
   "cell_type": "code",
   "execution_count": 171,
   "metadata": {},
   "outputs": [],
   "source": [
    "params = {\n",
    "    'hidden_layers' : 1,\n",
    "    'n_units' : 64,\n",
    "    'learning_rate' : 0.0005,\n",
    "    'rate' :  0.5,\n",
    "    'embed_size' : 32,\n",
    "    'LSTM_units' : 16,\n",
    "    'rnn_hlayers' : 2,\n",
    "    'n_units_rnn_dnn' : 16,\n",
    "    'batch_size' : 64, #test\n",
    "    'comb_hlayers' : 2,\n",
    "    'comb_width' : 3,\n",
    "    'activation' : 'elu'\n",
    "}\n",
    "\n",
    "\n",
    "model_1 = tf.keras.Sequential()\n",
    "\n",
    "for i in range(params['hidden_layers']):\n",
    "    model_1.add(tf.keras.layers.Dense(params['n_units'], activation='elu'))\n",
    "    model_1.add(tf.keras.layers.Dropout(rate=params['rate']))\n",
    "\n",
    "model_1.add(tf.keras.layers.Dense(1, activation='sigmoid'))\n",
    "\n",
    "model_1.compile(loss='binary_crossentropy',\n",
    "              optimizer=tf.keras.optimizers.Adam(learning_rate=params['learning_rate']),\n",
    "              metrics=[tf.keras.metrics.AUC()])\n",
    "\n",
    "es1 = EarlyStopping(monitor='val_loss', mode='min', patience=20, restore_best_weights=True)\n",
    "\n",
    "# Numcat only\n",
    "history1 = model_1.fit(X_train_B,\n",
    "                    y_train,\n",
    "                    epochs=200,\n",
    "                    batch_size=params['batch_size'],\n",
    "                    validation_data=(X_val_B, y_val),\n",
    "                    callbacks=[es1], verbose=0)\n",
    "\n",
    "## Model 2: RNN\n",
    "\n",
    "model_2 = tf.keras.Sequential([\n",
    "    tf.keras.layers.Embedding(1000, params['embed_size']),\n",
    "    tf.keras.layers.Bidirectional(tf.keras.layers.LSTM(params['LSTM_units'])),\n",
    "\n",
    "])\n",
    "\n",
    "for j in range(params['rnn_hlayers']):\n",
    "    model_2.add(tf.keras.layers.Dense(params['n_units_rnn_dnn'], activation=params['activation']))\n",
    "    model_2.add(tf.keras.layers.Dropout(rate=params['rate']))\n",
    "\n",
    "model_2.add(tf.keras.layers.Dense(1, activation='sigmoid'))\n",
    "\n",
    "model_2.compile(loss='binary_crossentropy',\n",
    "              optimizer='adam',\n",
    "              metrics=[tf.keras.metrics.AUC()])\n",
    "\n",
    "\n",
    "es2 = EarlyStopping(monitor='val_loss', mode='min', patience=10, restore_best_weights=True)\n",
    "\n",
    "\n",
    "# Sequential only\n",
    "history2 = model_2.fit(X_train_A,\n",
    "                    y_train,\n",
    "                    epochs=50,\n",
    "                    batch_size=params['batch_size'],\n",
    "                    validation_data=(X_val_A, y_val),\n",
    "                    callbacks=[es2], verbose=0)\n",
    "\n",
    "# Remove last layer of models\n",
    "\n",
    "model_1.pop()\n",
    "model_2.pop()\n",
    "\n",
    "## Model 3: DNN + RNN\n",
    "\n",
    "input_A = tf.keras.layers.Input(shape=(100,), name='seq_input')\n",
    "seq_model = model_2(input_A)\n",
    "\n",
    "input_B = tf.keras.layers.Input(shape=(X_train_B.shape[1],), name='feature_input')\n",
    "catnum_model = model_1(input_B)\n",
    "\n",
    "concat = tf.keras.layers.Concatenate()([seq_model, catnum_model])\n",
    "\n",
    "hlayers = tf.keras.Sequential()\n",
    "for k in range(params['comb_hlayers']):\n",
    "    hlayers.add(tf.keras.layers.Dense(params['comb_width'], activation=params['activation']))\n",
    "    hlayers.add(tf.keras.layers.Dropout(rate=params['rate']))\n",
    "\n",
    "hidden1 = hlayers(concat)\n",
    "\n",
    "output = tf.keras.layers.Dense(1, name=\"output\", activation='sigmoid')(hidden1)\n",
    "aux_output = tf.keras.layers.Dense(1, activation='sigmoid', name=\"aux_output\")(catnum_model)\n",
    "\n",
    "model_3 = tf.keras.Model(inputs=[input_A, input_B], outputs=[output, aux_output])\n",
    "\n",
    "model_3.compile(loss=['binary_crossentropy','binary_crossentropy'],\n",
    "              optimizer='adam',\n",
    "              loss_weights=[0.9, 0.1],\n",
    "              metrics=[tf.keras.metrics.AUC(), 'accuracy'])\n",
    "\n",
    "es3 = EarlyStopping(monitor='val_loss', mode='min', patience=10, restore_best_weights=True)\n",
    "\n",
    "history3 = model_3.fit([X_train_A, X_train_B],\n",
    "                    [y_train, y_train],\n",
    "                    epochs=30,\n",
    "                    batch_size=params['batch_size'],\n",
    "                    validation_data=([X_val_A, X_val_B],  [y_val, y_val]),\n",
    "                    callbacks=[es3], verbose=0)"
   ]
  },
  {
   "cell_type": "code",
   "execution_count": 172,
   "metadata": {},
   "outputs": [],
   "source": [
    "y_pred3 = model_3.predict([X_test_A, X_test_B])"
   ]
  },
  {
   "cell_type": "code",
   "execution_count": 173,
   "metadata": {},
   "outputs": [],
   "source": [
    "# from sklearn.metrics import roc_curve\n",
    "# from sklearn.metrics import auc\n",
    "# import matplotlib.pyplot as plt\n",
    "# %matplotlib inline\n",
    "\n",
    "# fpr_keras, tpr_keras, thresholds_keras = roc_curve(y_test, y_pred3)\n",
    "# auc_keras = auc(fpr_keras, tpr_keras)\n",
    "\n",
    "# plt.style.use('seaborn')\n",
    "# plt.figure(figsize=(8,8))\n",
    "# plt.plot([0, 1], [0, 1], 'k--')\n",
    "# plt.plot(fpr_keras, tpr_keras, label='AUC = {:.2f}'.format(auc_keras))\n",
    "# plt.legend(loc='upper left', fontsize='xx-large')\n",
    "# plt.title('Receiver Operating Characteristic (ROC) Curve')\n",
    "# plt.xlabel('False positive rate')\n",
    "# plt.ylabel('True positive rate')\n",
    "\n",
    "# fig_name = diagnosis + str(len(dx_events)) + '_' + str(len(dx_nonevents)) + 'AUC' + '{:.3f}'.format(auc_keras)\n",
    "# save_fig(fig_name)"
   ]
  },
  {
   "cell_type": "code",
   "execution_count": 174,
   "metadata": {},
   "outputs": [],
   "source": [
    "model_3.save(f'../models/{diagnosis}_model.h5')"
   ]
  },
  {
   "cell_type": "markdown",
   "metadata": {},
   "source": [
    "# Look at Embedding Layer"
   ]
  },
  {
   "cell_type": "code",
   "execution_count": 175,
   "metadata": {},
   "outputs": [],
   "source": [
    "embeddings = model_2.layers[0].get_weights()[0]"
   ]
  },
  {
   "cell_type": "code",
   "execution_count": 176,
   "metadata": {},
   "outputs": [],
   "source": [
    "words_vis_list = [item[0] for item in counter2[:100]]"
   ]
  },
  {
   "cell_type": "code",
   "execution_count": 177,
   "metadata": {},
   "outputs": [],
   "source": [
    "word_inds = [word_to_ID[wrd] for wrd in words_vis_list]"
   ]
  },
  {
   "cell_type": "code",
   "execution_count": 178,
   "metadata": {},
   "outputs": [],
   "source": [
    "embeddings_words = embeddings[word_inds,:]"
   ]
  },
  {
   "cell_type": "code",
   "execution_count": 179,
   "metadata": {},
   "outputs": [],
   "source": [
    "from sklearn.decomposition import PCA\n",
    "\n",
    "pca = PCA(n_components=2)\n",
    "pca.fit(embeddings_words)\n",
    "embed2d = pca.transform(embeddings_words)"
   ]
  },
  {
   "cell_type": "code",
   "execution_count": 180,
   "metadata": {},
   "outputs": [],
   "source": [
    "icd_to_dx = {v: k for k, v in dx_to_icd.items()}"
   ]
  },
  {
   "cell_type": "code",
   "execution_count": 181,
   "metadata": {},
   "outputs": [
    {
     "ename": "NameError",
     "evalue": "name 'plt' is not defined",
     "output_type": "error",
     "traceback": [
      "\u001b[0;31m---------------------------------------------------------------------------\u001b[0m",
      "\u001b[0;31mNameError\u001b[0m                                 Traceback (most recent call last)",
      "\u001b[0;32m<ipython-input-181-f665c417afd9>\u001b[0m in \u001b[0;36m<module>\u001b[0;34m\u001b[0m\n\u001b[1;32m      8\u001b[0m \u001b[0;31m# colors = ['C0', 'C2', 'black']\u001b[0m\u001b[0;34m\u001b[0m\u001b[0;34m\u001b[0m\u001b[0;34m\u001b[0m\u001b[0m\n\u001b[1;32m      9\u001b[0m \u001b[0;34m\u001b[0m\u001b[0m\n\u001b[0;32m---> 10\u001b[0;31m \u001b[0mfig\u001b[0m\u001b[0;34m,\u001b[0m \u001b[0max\u001b[0m \u001b[0;34m=\u001b[0m \u001b[0mplt\u001b[0m\u001b[0;34m.\u001b[0m\u001b[0msubplots\u001b[0m\u001b[0;34m(\u001b[0m\u001b[0mfigsize\u001b[0m\u001b[0;34m=\u001b[0m\u001b[0;34m(\u001b[0m\u001b[0;36m14\u001b[0m\u001b[0;34m,\u001b[0m\u001b[0;36m14\u001b[0m\u001b[0;34m)\u001b[0m\u001b[0;34m)\u001b[0m\u001b[0;34m\u001b[0m\u001b[0;34m\u001b[0m\u001b[0m\n\u001b[0m\u001b[1;32m     11\u001b[0m \u001b[0;34m\u001b[0m\u001b[0m\n\u001b[1;32m     12\u001b[0m \u001b[0mp1\u001b[0m\u001b[0;34m=\u001b[0m\u001b[0msns\u001b[0m\u001b[0;34m.\u001b[0m\u001b[0mregplot\u001b[0m\u001b[0;34m(\u001b[0m\u001b[0mx\u001b[0m\u001b[0;34m=\u001b[0m\u001b[0mx_2d\u001b[0m\u001b[0;34m,\u001b[0m \u001b[0my\u001b[0m\u001b[0;34m=\u001b[0m\u001b[0my_2d\u001b[0m\u001b[0;34m,\u001b[0m \u001b[0mfit_reg\u001b[0m\u001b[0;34m=\u001b[0m\u001b[0;32mFalse\u001b[0m\u001b[0;34m,\u001b[0m \u001b[0mmarker\u001b[0m\u001b[0;34m=\u001b[0m\u001b[0;34m\"o\"\u001b[0m\u001b[0;34m,\u001b[0m \u001b[0mcolor\u001b[0m\u001b[0;34m=\u001b[0m\u001b[0;34m\"skyblue\"\u001b[0m\u001b[0;34m,\u001b[0m \u001b[0mscatter_kws\u001b[0m\u001b[0;34m=\u001b[0m\u001b[0;34m{\u001b[0m\u001b[0;34m's'\u001b[0m\u001b[0;34m:\u001b[0m\u001b[0;36m0\u001b[0m\u001b[0;34m}\u001b[0m\u001b[0;34m)\u001b[0m\u001b[0;34m\u001b[0m\u001b[0;34m\u001b[0m\u001b[0m\n",
      "\u001b[0;31mNameError\u001b[0m: name 'plt' is not defined"
     ]
    }
   ],
   "source": [
    "import seaborn as sns\n",
    "\n",
    "sns.set_style('white')\n",
    "\n",
    "x_2d = embed2d[:, 0]\n",
    "y_2d = embed2d[:, 1]\n",
    "\n",
    "# colors = ['C0', 'C2', 'black']\n",
    "\n",
    "fig, ax = plt.subplots(figsize=(14,14))\n",
    "\n",
    "p1=sns.regplot(x=x_2d, y=y_2d, fit_reg=False, marker=\"o\", color=\"skyblue\", scatter_kws={'s':0})\n",
    " \n",
    "for i, item in enumerate(words_vis_list):\n",
    "    if item in icd_to_dx:\n",
    "        txt = icd_to_dx[item]\n",
    "    else:\n",
    "        txt = item\n",
    "    p1.text(x_2d[i], y_2d[i], txt, fontsize=8, weight='ultralight') \n",
    "\n",
    "p1.set(xticks=[], yticks=[]);\n",
    "save_fig('word_pca_vis')"
   ]
  },
  {
   "cell_type": "code",
   "execution_count": null,
   "metadata": {},
   "outputs": [],
   "source": [
    "def specificity(y_true, y_pred):\n",
    "    \"\"\"\n",
    "    param:\n",
    "    y_pred - Predicted labels\n",
    "    y_true - True labels \n",
    "    Returns:\n",
    "    Specificity score\n",
    "    \"\"\"\n",
    "    neg_y_true = 1 - y_true\n",
    "    neg_y_pred = 1 - y_pred\n",
    "    fp = np.sum(neg_y_true * y_pred)\n",
    "    tn = np.sum(neg_y_true * neg_y_pred)\n",
    "    specificity = tn / (tn + fp + tf.keras.backend.epsilon())\n",
    "    return specificity"
   ]
  },
  {
   "cell_type": "code",
   "execution_count": null,
   "metadata": {},
   "outputs": [],
   "source": [
    "specificity(y_test, y_pred4)"
   ]
  },
  {
   "cell_type": "code",
   "execution_count": null,
   "metadata": {},
   "outputs": [],
   "source": [
    "from sklearn.metrics import confusion_matrix, classification_report\n",
    "\n",
    "threshold = 0.5\n",
    "\n",
    "y_pred4 = y_pred3 > threshold\n",
    "print(classification_report(y_test, y_pred4))"
   ]
  },
  {
   "cell_type": "code",
   "execution_count": null,
   "metadata": {},
   "outputs": [],
   "source": [
    "new_preds = model_3.predict([X_train_A, X_train_B])\n",
    "new_preds = [pred[0] for pred in new_preds]\n",
    "time_preds_slice = pd.DataFrame(zip(y_train, new_preds), columns=['expired', 'pred'])"
   ]
  },
  {
   "cell_type": "code",
   "execution_count": null,
   "metadata": {},
   "outputs": [],
   "source": [
    "time_preds_slice['timepoint'] = -int(parameters['window'][0]/60)\n",
    "\n",
    "\n",
    "time_preds_slice.sample(10)"
   ]
  },
  {
   "cell_type": "code",
   "execution_count": null,
   "metadata": {},
   "outputs": [],
   "source": [
    "import seaborn as sns\n",
    "\n",
    "sns.boxplot(data=time_preds_slice, x='expired', y='pred',  width=0.2)"
   ]
  },
  {
   "cell_type": "code",
   "execution_count": null,
   "metadata": {},
   "outputs": [],
   "source": [
    "old_sample = pd.read_csv('../data/saved_data/sample_preds.csv')"
   ]
  },
  {
   "cell_type": "code",
   "execution_count": null,
   "metadata": {},
   "outputs": [],
   "source": [
    "np.mean(time_preds_slice[time_preds_slice.expired==0]['pred'])"
   ]
  },
  {
   "cell_type": "code",
   "execution_count": null,
   "metadata": {},
   "outputs": [],
   "source": [
    "new_sample = pd.concat([old_sample, time_preds_slice], ignore_index=True)"
   ]
  },
  {
   "cell_type": "code",
   "execution_count": null,
   "metadata": {},
   "outputs": [],
   "source": [
    "# new_sample.to_csv('../data/saved_data/sample_preds.csv', index=False, header=True)"
   ]
  },
  {
   "cell_type": "code",
   "execution_count": null,
   "metadata": {},
   "outputs": [],
   "source": []
  },
  {
   "cell_type": "code",
   "execution_count": null,
   "metadata": {},
   "outputs": [],
   "source": []
  },
  {
   "cell_type": "code",
   "execution_count": null,
   "metadata": {},
   "outputs": [],
   "source": []
  },
  {
   "cell_type": "code",
   "execution_count": null,
   "metadata": {},
   "outputs": [],
   "source": []
  },
  {
   "cell_type": "code",
   "execution_count": null,
   "metadata": {},
   "outputs": [],
   "source": []
  }
 ],
 "metadata": {
  "kernelspec": {
   "display_name": "Python 3",
   "language": "python",
   "name": "python3"
  },
  "language_info": {
   "codemirror_mode": {
    "name": "ipython",
    "version": 3
   },
   "file_extension": ".py",
   "mimetype": "text/x-python",
   "name": "python",
   "nbconvert_exporter": "python",
   "pygments_lexer": "ipython3",
   "version": "3.7.4"
  }
 },
 "nbformat": 4,
 "nbformat_minor": 2
}
